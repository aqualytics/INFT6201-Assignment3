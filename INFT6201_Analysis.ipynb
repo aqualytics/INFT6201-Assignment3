{
  "nbformat": 4,
  "nbformat_minor": 0,
  "metadata": {
    "colab": {
      "provenance": [],
      "collapsed_sections": [],
      "authorship_tag": "ABX9TyM29F30fzakXbc4qEGgA5Ml",
      "include_colab_link": true
    },
    "kernelspec": {
      "name": "python3",
      "display_name": "Python 3"
    },
    "language_info": {
      "name": "python"
    }
  },
  "cells": [
    {
      "cell_type": "markdown",
      "metadata": {
        "id": "view-in-github",
        "colab_type": "text"
      },
      "source": [
        "<a href=\"https://colab.research.google.com/github/aqualytics/INFT6201-Assignment3/blob/main/INFT6201_Analysis.ipynb\" target=\"_parent\"><img src=\"https://colab.research.google.com/assets/colab-badge.svg\" alt=\"Open In Colab\"/></a>"
      ]
    },
    {
      "cell_type": "code",
      "execution_count": 11,
      "metadata": {
        "id": "QAxc7ec8VD6v"
      },
      "outputs": [],
      "source": [
        "# Load packages\n",
        "import pandas as pd \n",
        "import numpy as np\n",
        "import matplotlib as plt \n",
        "import seaborn as sn"
      ]
    },
    {
      "cell_type": "code",
      "source": [
        "# Load data\n",
        "# ny = pd.read_csv('ny_accidents.csv')"
      ],
      "metadata": {
        "id": "l_r6d9ZCVS6R"
      },
      "execution_count": 12,
      "outputs": []
    },
    {
      "cell_type": "code",
      "source": [
        "# Import data for Google Collab. Remove before submission\n",
        "url = 'https://raw.githubusercontent.com/aqualytics/INFT6201-Assignment3/main/ny_accidents.csv?token=GHSAT0AAAAAABZNNFLGDHXVZMJZZRLCVUMQYZXUG3Q'\n",
        "ny = pd.read_csv(url)"
      ],
      "metadata": {
        "id": "IyooZUgEVoI2"
      },
      "execution_count": 13,
      "outputs": []
    },
    {
      "cell_type": "code",
      "source": [
        "# List variables and data types\n",
        "ny.info()"
      ],
      "metadata": {
        "id": "tXPwRj1IV0r_",
        "colab": {
          "base_uri": "https://localhost:8080/"
        },
        "outputId": "6b790b79-48c2-4364-d134-eb24e90ed750"
      },
      "execution_count": 14,
      "outputs": [
        {
          "output_type": "stream",
          "name": "stdout",
          "text": [
            "<class 'pandas.core.frame.DataFrame'>\n",
            "RangeIndex: 39537 entries, 0 to 39536\n",
            "Data columns (total 48 columns):\n",
            " #   Column                 Non-Null Count  Dtype  \n",
            "---  ------                 --------------  -----  \n",
            " 0   Unnamed: 0             39537 non-null  int64  \n",
            " 1   ID                     39537 non-null  object \n",
            " 2   Severity               39537 non-null  int64  \n",
            " 3   Start_Time             39537 non-null  object \n",
            " 4   End_Time               39537 non-null  object \n",
            " 5   Start_Lat              39537 non-null  float64\n",
            " 6   Start_Lng              39537 non-null  float64\n",
            " 7   End_Lat                39537 non-null  float64\n",
            " 8   End_Lng                39537 non-null  float64\n",
            " 9   Distance.mi.           39537 non-null  float64\n",
            " 10  Description            39537 non-null  object \n",
            " 11  Number                 11845 non-null  float64\n",
            " 12  Street                 39537 non-null  object \n",
            " 13  Side                   39537 non-null  object \n",
            " 14  City                   39529 non-null  object \n",
            " 15  County                 39537 non-null  object \n",
            " 16  State                  39537 non-null  object \n",
            " 17  Zipcode                39537 non-null  object \n",
            " 18  Country                39537 non-null  object \n",
            " 19  Timezone               39537 non-null  object \n",
            " 20  Airport_Code           39471 non-null  object \n",
            " 21  Weather_Timestamp      39225 non-null  object \n",
            " 22  Temperature.F.         39147 non-null  float64\n",
            " 23  Wind_Chill.F.          38074 non-null  float64\n",
            " 24  Humidity...            39137 non-null  float64\n",
            " 25  Pressure.in.           39162 non-null  float64\n",
            " 26  Visibility.mi.         39131 non-null  float64\n",
            " 27  Wind_Direction         38598 non-null  object \n",
            " 28  Wind_Speed.mph.        38349 non-null  float64\n",
            " 29  Precipitation.in.      37594 non-null  float64\n",
            " 30  Weather_Condition      39194 non-null  object \n",
            " 31  Amenity                39537 non-null  bool   \n",
            " 32  Bump                   39537 non-null  bool   \n",
            " 33  Crossing               39537 non-null  bool   \n",
            " 34  Give_Way               39537 non-null  bool   \n",
            " 35  Junction               39537 non-null  bool   \n",
            " 36  No_Exit                39537 non-null  bool   \n",
            " 37  Railway                39537 non-null  bool   \n",
            " 38  Roundabout             39537 non-null  bool   \n",
            " 39  Station                39537 non-null  bool   \n",
            " 40  Stop                   39537 non-null  bool   \n",
            " 41  Traffic_Calming        39537 non-null  bool   \n",
            " 42  Traffic_Signal         39537 non-null  bool   \n",
            " 43  Turning_Loop           39537 non-null  bool   \n",
            " 44  Sunrise_Sunset         39529 non-null  object \n",
            " 45  Civil_Twilight         39529 non-null  object \n",
            " 46  Nautical_Twilight      39529 non-null  object \n",
            " 47  Astronomical_Twilight  39529 non-null  object \n",
            "dtypes: bool(13), float64(13), int64(2), object(20)\n",
            "memory usage: 11.0+ MB\n"
          ]
        }
      ]
    },
    {
      "cell_type": "code",
      "source": [
        "# Describe the data\n",
        "ny.describe()"
      ],
      "metadata": {
        "id": "p_rXxAjTV2wL",
        "colab": {
          "base_uri": "https://localhost:8080/",
          "height": 364
        },
        "outputId": "f59835a8-1f02-4f31-ee3e-ac597f7fdd2f"
      },
      "execution_count": 15,
      "outputs": [
        {
          "output_type": "execute_result",
          "data": {
            "text/plain": [
              "         Unnamed: 0      Severity     Start_Lat     Start_Lng       End_Lat  \\\n",
              "count  3.953700e+04  39537.000000  39537.000000  39537.000000  39537.000000   \n",
              "mean   7.543609e+05      2.282900     41.714567    -74.806364     41.715110   \n",
              "std    3.307301e+05      0.642619      1.065492      1.685198      1.065188   \n",
              "min    2.373510e+05      1.000000     40.523980    -79.748951     40.524638   \n",
              "25%    4.998200e+05      2.000000     40.772600    -76.049410     40.774311   \n",
              "50%    7.266940e+05      2.000000     41.065783    -73.929060     41.068520   \n",
              "75%    9.178200e+05      2.000000     42.989290    -73.781207     42.987950   \n",
              "max    1.515693e+06      4.000000     44.917460    -71.943680     44.981057   \n",
              "\n",
              "            End_Lng  Distance.mi.        Number  Temperature.F.  \\\n",
              "count  39537.000000  39537.000000  11845.000000    39147.000000   \n",
              "mean     -74.806824      0.654307   2133.770030       51.915442   \n",
              "std        1.685823      1.551176   3428.535678       16.787521   \n",
              "min      -79.761920      0.000000      1.000000      -12.000000   \n",
              "25%      -76.047636      0.000000    215.000000       39.900000   \n",
              "50%      -73.929030      0.192000    857.000000       51.000000   \n",
              "75%      -73.781337      0.687000   2451.000000       65.000000   \n",
              "max      -71.943680     49.240000  52027.000000       96.000000   \n",
              "\n",
              "       Wind_Chill.F.   Humidity...  Pressure.in.  Visibility.mi.  \\\n",
              "count   38074.000000  39137.000000  39162.000000    39131.000000   \n",
              "mean       49.177806     65.716253     29.713701        9.040011   \n",
              "std        19.667776     20.599997      0.399174        2.668705   \n",
              "min       -30.400000     13.000000     27.550000        0.000000   \n",
              "25%        34.000000     49.000000     29.470000       10.000000   \n",
              "50%        51.000000     67.000000     29.740000       10.000000   \n",
              "75%        65.000000     84.000000     29.990000       10.000000   \n",
              "max        96.000000    100.000000     30.710000       20.000000   \n",
              "\n",
              "       Wind_Speed.mph.  Precipitation.in.  \n",
              "count     38349.000000       37594.000000  \n",
              "mean          9.132535           0.005389  \n",
              "std           5.870588           0.027952  \n",
              "min           0.000000           0.000000  \n",
              "25%           5.000000           0.000000  \n",
              "50%           8.000000           0.000000  \n",
              "75%          13.000000           0.000000  \n",
              "max          40.000000           0.830000  "
            ],
            "text/html": [
              "\n",
              "  <div id=\"df-eb24e203-a313-4f40-876c-72aa15d6236f\">\n",
              "    <div class=\"colab-df-container\">\n",
              "      <div>\n",
              "<style scoped>\n",
              "    .dataframe tbody tr th:only-of-type {\n",
              "        vertical-align: middle;\n",
              "    }\n",
              "\n",
              "    .dataframe tbody tr th {\n",
              "        vertical-align: top;\n",
              "    }\n",
              "\n",
              "    .dataframe thead th {\n",
              "        text-align: right;\n",
              "    }\n",
              "</style>\n",
              "<table border=\"1\" class=\"dataframe\">\n",
              "  <thead>\n",
              "    <tr style=\"text-align: right;\">\n",
              "      <th></th>\n",
              "      <th>Unnamed: 0</th>\n",
              "      <th>Severity</th>\n",
              "      <th>Start_Lat</th>\n",
              "      <th>Start_Lng</th>\n",
              "      <th>End_Lat</th>\n",
              "      <th>End_Lng</th>\n",
              "      <th>Distance.mi.</th>\n",
              "      <th>Number</th>\n",
              "      <th>Temperature.F.</th>\n",
              "      <th>Wind_Chill.F.</th>\n",
              "      <th>Humidity...</th>\n",
              "      <th>Pressure.in.</th>\n",
              "      <th>Visibility.mi.</th>\n",
              "      <th>Wind_Speed.mph.</th>\n",
              "      <th>Precipitation.in.</th>\n",
              "    </tr>\n",
              "  </thead>\n",
              "  <tbody>\n",
              "    <tr>\n",
              "      <th>count</th>\n",
              "      <td>3.953700e+04</td>\n",
              "      <td>39537.000000</td>\n",
              "      <td>39537.000000</td>\n",
              "      <td>39537.000000</td>\n",
              "      <td>39537.000000</td>\n",
              "      <td>39537.000000</td>\n",
              "      <td>39537.000000</td>\n",
              "      <td>11845.000000</td>\n",
              "      <td>39147.000000</td>\n",
              "      <td>38074.000000</td>\n",
              "      <td>39137.000000</td>\n",
              "      <td>39162.000000</td>\n",
              "      <td>39131.000000</td>\n",
              "      <td>38349.000000</td>\n",
              "      <td>37594.000000</td>\n",
              "    </tr>\n",
              "    <tr>\n",
              "      <th>mean</th>\n",
              "      <td>7.543609e+05</td>\n",
              "      <td>2.282900</td>\n",
              "      <td>41.714567</td>\n",
              "      <td>-74.806364</td>\n",
              "      <td>41.715110</td>\n",
              "      <td>-74.806824</td>\n",
              "      <td>0.654307</td>\n",
              "      <td>2133.770030</td>\n",
              "      <td>51.915442</td>\n",
              "      <td>49.177806</td>\n",
              "      <td>65.716253</td>\n",
              "      <td>29.713701</td>\n",
              "      <td>9.040011</td>\n",
              "      <td>9.132535</td>\n",
              "      <td>0.005389</td>\n",
              "    </tr>\n",
              "    <tr>\n",
              "      <th>std</th>\n",
              "      <td>3.307301e+05</td>\n",
              "      <td>0.642619</td>\n",
              "      <td>1.065492</td>\n",
              "      <td>1.685198</td>\n",
              "      <td>1.065188</td>\n",
              "      <td>1.685823</td>\n",
              "      <td>1.551176</td>\n",
              "      <td>3428.535678</td>\n",
              "      <td>16.787521</td>\n",
              "      <td>19.667776</td>\n",
              "      <td>20.599997</td>\n",
              "      <td>0.399174</td>\n",
              "      <td>2.668705</td>\n",
              "      <td>5.870588</td>\n",
              "      <td>0.027952</td>\n",
              "    </tr>\n",
              "    <tr>\n",
              "      <th>min</th>\n",
              "      <td>2.373510e+05</td>\n",
              "      <td>1.000000</td>\n",
              "      <td>40.523980</td>\n",
              "      <td>-79.748951</td>\n",
              "      <td>40.524638</td>\n",
              "      <td>-79.761920</td>\n",
              "      <td>0.000000</td>\n",
              "      <td>1.000000</td>\n",
              "      <td>-12.000000</td>\n",
              "      <td>-30.400000</td>\n",
              "      <td>13.000000</td>\n",
              "      <td>27.550000</td>\n",
              "      <td>0.000000</td>\n",
              "      <td>0.000000</td>\n",
              "      <td>0.000000</td>\n",
              "    </tr>\n",
              "    <tr>\n",
              "      <th>25%</th>\n",
              "      <td>4.998200e+05</td>\n",
              "      <td>2.000000</td>\n",
              "      <td>40.772600</td>\n",
              "      <td>-76.049410</td>\n",
              "      <td>40.774311</td>\n",
              "      <td>-76.047636</td>\n",
              "      <td>0.000000</td>\n",
              "      <td>215.000000</td>\n",
              "      <td>39.900000</td>\n",
              "      <td>34.000000</td>\n",
              "      <td>49.000000</td>\n",
              "      <td>29.470000</td>\n",
              "      <td>10.000000</td>\n",
              "      <td>5.000000</td>\n",
              "      <td>0.000000</td>\n",
              "    </tr>\n",
              "    <tr>\n",
              "      <th>50%</th>\n",
              "      <td>7.266940e+05</td>\n",
              "      <td>2.000000</td>\n",
              "      <td>41.065783</td>\n",
              "      <td>-73.929060</td>\n",
              "      <td>41.068520</td>\n",
              "      <td>-73.929030</td>\n",
              "      <td>0.192000</td>\n",
              "      <td>857.000000</td>\n",
              "      <td>51.000000</td>\n",
              "      <td>51.000000</td>\n",
              "      <td>67.000000</td>\n",
              "      <td>29.740000</td>\n",
              "      <td>10.000000</td>\n",
              "      <td>8.000000</td>\n",
              "      <td>0.000000</td>\n",
              "    </tr>\n",
              "    <tr>\n",
              "      <th>75%</th>\n",
              "      <td>9.178200e+05</td>\n",
              "      <td>2.000000</td>\n",
              "      <td>42.989290</td>\n",
              "      <td>-73.781207</td>\n",
              "      <td>42.987950</td>\n",
              "      <td>-73.781337</td>\n",
              "      <td>0.687000</td>\n",
              "      <td>2451.000000</td>\n",
              "      <td>65.000000</td>\n",
              "      <td>65.000000</td>\n",
              "      <td>84.000000</td>\n",
              "      <td>29.990000</td>\n",
              "      <td>10.000000</td>\n",
              "      <td>13.000000</td>\n",
              "      <td>0.000000</td>\n",
              "    </tr>\n",
              "    <tr>\n",
              "      <th>max</th>\n",
              "      <td>1.515693e+06</td>\n",
              "      <td>4.000000</td>\n",
              "      <td>44.917460</td>\n",
              "      <td>-71.943680</td>\n",
              "      <td>44.981057</td>\n",
              "      <td>-71.943680</td>\n",
              "      <td>49.240000</td>\n",
              "      <td>52027.000000</td>\n",
              "      <td>96.000000</td>\n",
              "      <td>96.000000</td>\n",
              "      <td>100.000000</td>\n",
              "      <td>30.710000</td>\n",
              "      <td>20.000000</td>\n",
              "      <td>40.000000</td>\n",
              "      <td>0.830000</td>\n",
              "    </tr>\n",
              "  </tbody>\n",
              "</table>\n",
              "</div>\n",
              "      <button class=\"colab-df-convert\" onclick=\"convertToInteractive('df-eb24e203-a313-4f40-876c-72aa15d6236f')\"\n",
              "              title=\"Convert this dataframe to an interactive table.\"\n",
              "              style=\"display:none;\">\n",
              "        \n",
              "  <svg xmlns=\"http://www.w3.org/2000/svg\" height=\"24px\"viewBox=\"0 0 24 24\"\n",
              "       width=\"24px\">\n",
              "    <path d=\"M0 0h24v24H0V0z\" fill=\"none\"/>\n",
              "    <path d=\"M18.56 5.44l.94 2.06.94-2.06 2.06-.94-2.06-.94-.94-2.06-.94 2.06-2.06.94zm-11 1L8.5 8.5l.94-2.06 2.06-.94-2.06-.94L8.5 2.5l-.94 2.06-2.06.94zm10 10l.94 2.06.94-2.06 2.06-.94-2.06-.94-.94-2.06-.94 2.06-2.06.94z\"/><path d=\"M17.41 7.96l-1.37-1.37c-.4-.4-.92-.59-1.43-.59-.52 0-1.04.2-1.43.59L10.3 9.45l-7.72 7.72c-.78.78-.78 2.05 0 2.83L4 21.41c.39.39.9.59 1.41.59.51 0 1.02-.2 1.41-.59l7.78-7.78 2.81-2.81c.8-.78.8-2.07 0-2.86zM5.41 20L4 18.59l7.72-7.72 1.47 1.35L5.41 20z\"/>\n",
              "  </svg>\n",
              "      </button>\n",
              "      \n",
              "  <style>\n",
              "    .colab-df-container {\n",
              "      display:flex;\n",
              "      flex-wrap:wrap;\n",
              "      gap: 12px;\n",
              "    }\n",
              "\n",
              "    .colab-df-convert {\n",
              "      background-color: #E8F0FE;\n",
              "      border: none;\n",
              "      border-radius: 50%;\n",
              "      cursor: pointer;\n",
              "      display: none;\n",
              "      fill: #1967D2;\n",
              "      height: 32px;\n",
              "      padding: 0 0 0 0;\n",
              "      width: 32px;\n",
              "    }\n",
              "\n",
              "    .colab-df-convert:hover {\n",
              "      background-color: #E2EBFA;\n",
              "      box-shadow: 0px 1px 2px rgba(60, 64, 67, 0.3), 0px 1px 3px 1px rgba(60, 64, 67, 0.15);\n",
              "      fill: #174EA6;\n",
              "    }\n",
              "\n",
              "    [theme=dark] .colab-df-convert {\n",
              "      background-color: #3B4455;\n",
              "      fill: #D2E3FC;\n",
              "    }\n",
              "\n",
              "    [theme=dark] .colab-df-convert:hover {\n",
              "      background-color: #434B5C;\n",
              "      box-shadow: 0px 1px 3px 1px rgba(0, 0, 0, 0.15);\n",
              "      filter: drop-shadow(0px 1px 2px rgba(0, 0, 0, 0.3));\n",
              "      fill: #FFFFFF;\n",
              "    }\n",
              "  </style>\n",
              "\n",
              "      <script>\n",
              "        const buttonEl =\n",
              "          document.querySelector('#df-eb24e203-a313-4f40-876c-72aa15d6236f button.colab-df-convert');\n",
              "        buttonEl.style.display =\n",
              "          google.colab.kernel.accessAllowed ? 'block' : 'none';\n",
              "\n",
              "        async function convertToInteractive(key) {\n",
              "          const element = document.querySelector('#df-eb24e203-a313-4f40-876c-72aa15d6236f');\n",
              "          const dataTable =\n",
              "            await google.colab.kernel.invokeFunction('convertToInteractive',\n",
              "                                                     [key], {});\n",
              "          if (!dataTable) return;\n",
              "\n",
              "          const docLinkHtml = 'Like what you see? Visit the ' +\n",
              "            '<a target=\"_blank\" href=https://colab.research.google.com/notebooks/data_table.ipynb>data table notebook</a>'\n",
              "            + ' to learn more about interactive tables.';\n",
              "          element.innerHTML = '';\n",
              "          dataTable['output_type'] = 'display_data';\n",
              "          await google.colab.output.renderOutput(dataTable, element);\n",
              "          const docLink = document.createElement('div');\n",
              "          docLink.innerHTML = docLinkHtml;\n",
              "          element.appendChild(docLink);\n",
              "        }\n",
              "      </script>\n",
              "    </div>\n",
              "  </div>\n",
              "  "
            ]
          },
          "metadata": {},
          "execution_count": 15
        }
      ]
    },
    {
      "cell_type": "code",
      "source": [
        "# Correlation heatmap of variables\n",
        "corr = ny.corr()\n",
        "sn.heatmap(corr)"
      ],
      "metadata": {
        "colab": {
          "base_uri": "https://localhost:8080/",
          "height": 356
        },
        "id": "RLNF8Gz9Wop7",
        "outputId": "35d69723-dbb1-4a8e-f34e-0f9c440938c7"
      },
      "execution_count": 19,
      "outputs": [
        {
          "output_type": "execute_result",
          "data": {
            "text/plain": [
              "<matplotlib.axes._subplots.AxesSubplot at 0x7f84b38e4150>"
            ]
          },
          "metadata": {},
          "execution_count": 19
        },
        {
          "output_type": "display_data",
          "data": {
            "text/plain": [
              "<Figure size 432x288 with 2 Axes>"
            ],
            "image/png": "[encoded data removed]"
          },
          "metadata": {
            "needs_background": "light"
          }
        }
      ]
    },
    {
      "cell_type": "code",
      "source": [
        "# Accident time\n",
        "# Time of day\n",
        "\n",
        "# Time of year??\n",
        "\n"
      ],
      "metadata": {
        "id": "irHFr6AxXz4d"
      },
      "execution_count": null,
      "outputs": []
    },
    {
      "cell_type": "code",
      "source": [
        "# Accident location\n",
        "# Geographic location\n",
        "\n"
      ],
      "metadata": {
        "id": "ZL9ii8UhX9gM"
      },
      "execution_count": null,
      "outputs": []
    },
    {
      "cell_type": "code",
      "source": [
        "# Look at factors which influence severity of road raffic accidents??"
      ],
      "metadata": {
        "id": "ieE06S8oYiSP"
      },
      "execution_count": null,
      "outputs": []
    }
  ]
}