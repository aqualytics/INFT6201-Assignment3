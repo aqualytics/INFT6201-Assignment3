{
 "cells": [
  {
   "cell_type": "code",
   "execution_count": null,
   "metadata": {
    "id": "QAxc7ec8VD6v"
   },
   "outputs": [],
   "source": [
    "# Basic libraries\n",
    "import pandas as pd \n",
    "import numpy as np\n",
    "import re\n",
    "from scipy import stats\n",
    "\n",
    "# Visualisation libraries\n",
    "import matplotlib.pyplot as plt \n",
    "from matplotlib.colors import ListedColormap \n",
    "import seaborn as sns\n",
    "\n",
    "\n",
    "# Modelling libraries\n",
    "import statsmodels.formula.api as smf\n",
    "from sklearn.model_selection import train_test_split\n",
    "from sklearn.cluster import KMeans\n",
    "from sklearn.svm import SVC\n",
    "from sklearn.model_selection import GridSearchCV, RandomizedSearchCV\n",
    "from sklearn.linear_model import LinearRegression, LogisticRegression\n",
    "from sklearn.neighbors import KNeighborsClassifier\n",
    "from sklearn.ensemble import RandomForestClassifier,AdaBoostClassifier,GradientBoostingClassifier\n",
    "from sklearn.metrics import precision_score, recall_score, f1_score, accuracy_score\n",
    "from matplotlib_venn import venn2_unweighted\n",
    "\n",
    "# Set styles and display options\n",
    "pd.options.display.precision = 4"
   ]
  },
  {
   "cell_type": "code",
   "execution_count": null,
   "metadata": {
    "id": "pTL8RjciSDFD"
   },
   "outputs": [],
   "source": [
    "# Functions\n",
    "def farenheit_to_celsius(farenheit):\n",
    "  return ((farenheit - 32) * (5/9))\n",
    "\n",
    "def m_to_km(m):\n",
    "  return (m*1.609344)\n",
    "\n",
    "def in_to_mm(i):\n",
    "  return (i*25.4)\n",
    "\n",
    "# Function to retrieve performance metrics\n",
    "def scores(name, y_test, y_pred):\n",
    "        list = [name,\n",
    "                precision_score(y_test, y_pred, average='weighted'),\n",
    "                recall_score(y_test, y_pred, average='weighted'),\n",
    "                f1_score(y_test, y_pred, average='weighted'),\n",
    "                accuracy_score(y_test, y_pred)]\n",
    "        return list"
   ]
  },
  {
   "cell_type": "code",
   "execution_count": null,
   "metadata": {
    "colab": {
     "base_uri": "https://localhost:8080/"
    },
    "id": "O0hZKF8P6k99",
    "outputId": "915a8161-0197-40aa-cfd0-a3cd868d2a4f"
   },
   "outputs": [
    {
     "name": "stdout",
     "output_type": "stream",
     "text": [
      "<class 'pandas.core.frame.DataFrame'>\n",
      "Int64Index: 36779 entries, 0 to 39536\n",
      "Data columns (total 38 columns):\n",
      " #   Column             Non-Null Count  Dtype  \n",
      "---  ------             --------------  -----  \n",
      " 0   ID                 36779 non-null  object \n",
      " 1   Severity           36779 non-null  int64  \n",
      " 2   Start_Time         36779 non-null  object \n",
      " 3   End_Time           36779 non-null  object \n",
      " 4   Start_Lat          36779 non-null  float64\n",
      " 5   Start_Lng          36779 non-null  float64\n",
      " 6   End_Lat            36779 non-null  float64\n",
      " 7   End_Lng            36779 non-null  float64\n",
      " 8   Distance.mi.       36779 non-null  float64\n",
      " 9   Description        36779 non-null  object \n",
      " 10  Street             36779 non-null  object \n",
      " 11  Side               36779 non-null  object \n",
      " 12  City               36779 non-null  object \n",
      " 13  County             36779 non-null  object \n",
      " 14  Zipcode            36779 non-null  object \n",
      " 15  Weather_Timestamp  36779 non-null  object \n",
      " 16  Temperature.F.     36779 non-null  float64\n",
      " 17  Wind_Chill.F.      36779 non-null  float64\n",
      " 18  Humidity...        36779 non-null  float64\n",
      " 19  Pressure.in.       36779 non-null  float64\n",
      " 20  Visibility.mi.     36779 non-null  float64\n",
      " 21  Wind_Direction     36779 non-null  object \n",
      " 22  Wind_Speed.mph.    36779 non-null  float64\n",
      " 23  Precipitation.in.  36779 non-null  float64\n",
      " 24  Weather_Condition  36779 non-null  object \n",
      " 25  Amenity            36779 non-null  bool   \n",
      " 26  Bump               36779 non-null  bool   \n",
      " 27  Crossing           36779 non-null  bool   \n",
      " 28  Give_Way           36779 non-null  bool   \n",
      " 29  Junction           36779 non-null  bool   \n",
      " 30  No_Exit            36779 non-null  bool   \n",
      " 31  Railway            36779 non-null  bool   \n",
      " 32  Roundabout         36779 non-null  bool   \n",
      " 33  Station            36779 non-null  bool   \n",
      " 34  Stop               36779 non-null  bool   \n",
      " 35  Traffic_Calming    36779 non-null  bool   \n",
      " 36  Traffic_Signal     36779 non-null  bool   \n",
      " 37  Sunrise_Sunset     36779 non-null  object \n",
      "dtypes: bool(12), float64(12), int64(1), object(13)\n",
      "memory usage: 8.0+ MB\n"
     ]
    }
   ],
   "source": [
    "# Load data\n",
    "# df = pd.read_csv('ny_accidents.csv')\n",
    "\n",
    "# Import data for Google Collab. Remove before submission\n",
    "url = 'https://raw.githubusercontent.com/aqualytics/INFT6201-Assignment3/main/ny_accidents.csv?token=GHSAT0AAAAAABZNNFLGDHXVZMJZZRLCVUMQYZXUG3Q'\n",
    "df = pd.read_csv(url)\n",
    "\n",
    "# Drop columns that won't be used in the analysis\n",
    "try: # remove exception handling before submission\n",
    "  cols = ['Unnamed: 0','Number', 'Airport_Code', 'Timezone', 'Country', 'State', 'Civil_Twilight','Nautical_Twilight','Astronomical_Twilight','Turning_Loop']\n",
    "  df.drop(cols, axis=1, inplace=True)\n",
    "except:\n",
    "  pass\n",
    "\n",
    "# Drop duplicates\n",
    "df.drop_duplicates()\n",
    "\n",
    "# Drop rows with na values\n",
    "df.dropna(inplace = True)\n",
    "\n",
    "df.info()"
   ]
  },
  {
   "cell_type": "code",
   "execution_count": null,
   "metadata": {
    "id": "xri4BIiYTHzR"
   },
   "outputs": [],
   "source": [
    "# Pre-process of data\n",
    "# Rename columns \n",
    "df.rename(columns = {'Distance.mi.':'Distance',\n",
    "                     'Wind_Speed.mph.':'Wind_Speed',\n",
    "                     'Temperature.F.':'Temperature',\n",
    "                     'Wind_Chill.F.':'Wind_Chill',\n",
    "                     'Humidity...':'Humidity',\n",
    "                     'Pressure.in.':'Pressure',\n",
    "                     'Visibility.mi.':'Visibility',\n",
    "                     'Precipitation.in.':'Precipitation'}, inplace=True)\n",
    "\n",
    "## Variable groups as lists\n",
    "weather = ['Weather_Timestamp', 'Temperature', 'Wind_Chill', 'Humidity', 'Pressure','Visibility','Wind_Direction','Wind_Speed','Precipitation','Weather_Condition']\n",
    "poi = ['Amenity','Bump','Crossing','Give_Way','Junction','No_Exit','Railway','Roundabout','Station','Stop','Traffic_Calming','Traffic_Signal']\n",
    "poi1 = ['Amenity','Bump','Crossing','Give_Way','Junction','No_Exit','Railway','Roundabout','Station','Stop','Traffic_Calming','Traffic_Signal', 'Any_poi']\n",
    "\n",
    "# Convert dates & times to datetime type\n",
    "cols = ['Start_Time','End_Time','Weather_Timestamp']\n",
    "df[cols] = df[cols].apply(pd.to_datetime, errors='coerce')\n",
    "\n",
    "# Convert imperial units to metric\n",
    "df[['Temperature', 'Wind_Chill']] = df[['Temperature', 'Wind_Chill']].apply(farenheit_to_celsius) # farenheit to celsius\n",
    "df[['Visibility', 'Wind_Speed']] = df[['Visibility', 'Wind_Speed']].apply(m_to_km) # miles to kilometres\n",
    "df['Precipitation'] = df['Precipitation'].apply(in_to_mm) # inches to mm\n",
    "\n",
    "# Add severity_cat column\n",
    "conditions  = [ df['Severity'] == 1, df['Severity'] == 2, df['Severity'] == 3, df['Severity'] == 4 ]\n",
    "choices     = [ 'Low','Medium','High','Very High']\n",
    "df['severitycat'] = np.select(conditions, choices, default=np.nan)\n",
    "\n",
    "# Add highway column\n",
    "keywords = ['Pkwy', 'Parkway', 'I-', 'Interstate', 'Expy', 'Exp', 'Expressway', 'Route', 'State', 'NY', 'Trwy', 'Throughway', 'US', 'Hwy', 'Highway', 'Wyck', '9n']\n",
    "df['Highway'] = False #where False = other\n",
    "df.loc[df['Street'].str.contains('|'.join(keywords), case = False) == True, 'Highway'] = True #where True = Highway\n",
    "\n",
    "# Add weather_cat column to consolidate weather conditions\n",
    "conditions = [df['Weather_Condition'].str.contains('Clear|Fair', case=False) == True,\n",
    "              df['Weather_Condition'].str.contains('Cloud|Overcast', case=False) == True,\n",
    "              df['Weather_Condition'].str.contains('Rain|Storm', case=False) == True,\n",
    "              df['Weather_Condition'].str.contains('Heavy Rain|Rain Shower|Heavy T-Storm|Heavy Thunderstorms', case=False) == True,\n",
    "              df['Weather_Condition'].str.contains('Snow|Sleet|Ice', case=False) == True,\n",
    "              df['Weather_Condition'].str.contains('Heavy Snow|Heavy Sleet|Heavy Ice Pellets|Snow Showers|Squalls', flags=re.IGNORECASE, regex=True) == True,\n",
    "              df['Weather_Condition'].str.contains('Fog', case=False) == True]\n",
    "choices = ['Clear', 'Cloud', 'Rain', 'Heavy_rain', 'Snow', 'Heavy_Snow','Fog']\n",
    "df['Weather_Condition'] = np.select(conditions, choices, default='Other') # Assign null value as clear\n",
    "\n",
    "# Clean wind direction\n",
    "df['Wind_Direction'].replace({'North':'N','West':'W','East':'E','Variable':'VAR','South':'S'}, inplace=True)\n",
    "\n",
    "\n",
    "# Add season category\n",
    "df['month'] = df['Start_Time'].dt.month\n",
    "conditions = (df.month < 3, df.month < 5, df.month < 8, df.month <12, df.month == 12)\n",
    "choices = ['winter', 'spring','summer', 'fall', 'winter']\n",
    "df['season'] = np.select(conditions, choices, default=np.nan)\n",
    "df.drop('month', axis=1, inplace=True)\n",
    "\n",
    "# Add weekday\n",
    "df['weekday'] = df['Start_Time'].dt.dayofweek\n",
    "\n",
    "# Add month\n",
    "df['month'] = df['Start_Time'].dt.month\n",
    "\n",
    "# Add year\n",
    "df['year'] = df['Start_Time'].dt.year\n",
    "\n",
    "# Add incident duration\n",
    "df['duration'] = (df['End_Time'] - df['Start_Time']).dt.total_seconds().div(60).astype(int)\n",
    "\n",
    "## Add Traffic_Calming_ex_Bump\n",
    "df['Traffic_Calming_ex_Bump'] = df['Traffic_Calming']\n",
    "df['Traffic_Calming_ex_Bump'] = np.where(df.Bump == True, False, df['Traffic_Calming_ex_Bump'])\n",
    "\n",
    "## Add Any_poi (collapsed poi)\n",
    "df['Any_poi'] = (df.Amenity + df.Bump + df.Crossing + df.Give_Way + df.Junction + df.No_Exit + df.Railway + df.Roundabout + df.Station + df.Stop + df.Traffic_Calming + df.Traffic_Signal)"
   ]
  },
  {
   "cell_type": "code",
   "execution_count": null,
   "metadata": {
    "colab": {
     "base_uri": "https://localhost:8080/",
     "height": 400
    },
    "id": "hNymiOiy5p0S",
    "outputId": "be4964e7-30d7-48f7-e363-63f36738c7e1"
   },
   "outputs": [
    {
     "name": "stdout",
     "output_type": "stream",
     "text": [
      "          count  percent\n",
      "Severity                \n",
      "1           693   1.8842\n",
      "2         28664  77.9358\n",
      "3          4468  12.1482\n",
      "4          2954   8.0318\n"
     ]
    },
    {
     "data": {
      "text/plain": [
       "<matplotlib.axes._subplots.AxesSubplot at 0x7f5a1d2b7a50>"
      ]
     },
     "execution_count": 5,
     "metadata": {},
     "output_type": "execute_result"
    },
    {
     "data": {
      "image/png": "[encoded data removed]",
      "text/plain": [
       "<Figure size 432x288 with 1 Axes>"
      ]
     },
     "metadata": {
      "needs_background": "light"
     },
     "output_type": "display_data"
    }
   ],
   "source": [
    "# Summarise Severity category\n",
    "severity_prop = pd.DataFrame()\n",
    "severity_prop['count'] = df['Severity'].groupby(df['Severity']).count()\n",
    "severity_prop['percent'] = (severity_prop['count'] / severity_prop['count'].sum())*100\n",
    "print(severity_prop)\n",
    "\n",
    "# Plot percentage of severity by category\n",
    "severity_prop['percent'].plot(kind='bar', xlabel='Severity', ylabel='Ratio', rot=0, colormap=ListedColormap(sns.color_palette('mako')))"
   ]
  },
  {
   "cell_type": "code",
   "execution_count": null,
   "metadata": {
    "colab": {
     "base_uri": "https://localhost:8080/",
     "height": 279
    },
    "id": "II4L_2OnlXRT",
    "outputId": "7bd34407-bd25-4210-ccb8-94d143c7e717"
   },
   "outputs": [
    {
     "data": {
      "image/png": "[encoded data removed]",
      "text/plain": [
       "<Figure size 432x288 with 1 Axes>"
      ]
     },
     "metadata": {
      "needs_background": "light"
     },
     "output_type": "display_data"
    }
   ],
   "source": [
    "# Summarise Distance category\n",
    "distance_prop = pd.cut(df['Distance'],\n",
    "             bins=[0, 1, 2, 3, 4, 5, np.inf],\n",
    "             labels=['<1','1 - 1.999','2 - 2.999', '3 - 3.999', '4 - 4.999', '>=5']).reset_index().groupby('Distance').count()\n",
    "distance_prop = pd.DataFrame(distance_prop.reset_index().values)\n",
    "distance_prop.set_axis(['distance_bin','count'], axis=1, inplace=True)\n",
    "distance_prop['percent'] = distance_prop['count'].apply(lambda x: x / distance_prop['count'].sum() * 100)\n",
    "\n",
    "# Distance counts by bin\n",
    "ax = sns.barplot(x='distance_bin', y='percent', data=distance_prop, palette = 'mako')\n",
    "ax.set(title='', xlabel=\"Distance Bin\", ylabel=\"Traffic Incidents (%)\")\n",
    "plt.show()"
   ]
  },
  {
   "cell_type": "code",
   "execution_count": null,
   "metadata": {
    "colab": {
     "base_uri": "https://localhost:8080/",
     "height": 918
    },
    "id": "H1pOSb54zYmS",
    "outputId": "d3db75dc-a620-4621-db24-a97c6c33cd24"
   },
   "outputs": [
    {
     "ename": "AttributeError",
     "evalue": "ignored",
     "output_type": "error",
     "traceback": [
      "\u001b[0;31m---------------------------------------------------------------------------\u001b[0m",
      "\u001b[0;31mAttributeError\u001b[0m                            Traceback (most recent call last)",
      "\u001b[0;32m<ipython-input-7-41c13217df9a>\u001b[0m in \u001b[0;36m<module>\u001b[0;34m\u001b[0m\n\u001b[1;32m      8\u001b[0m \u001b[0max\u001b[0m \u001b[0;34m=\u001b[0m \u001b[0mpoi_counts\u001b[0m\u001b[0;34m.\u001b[0m\u001b[0mplot\u001b[0m\u001b[0;34m.\u001b[0m\u001b[0mbarh\u001b[0m\u001b[0;34m(\u001b[0m\u001b[0mstacked\u001b[0m\u001b[0;34m=\u001b[0m\u001b[0;32mTrue\u001b[0m\u001b[0;34m,\u001b[0m \u001b[0mcmap\u001b[0m\u001b[0;34m=\u001b[0m\u001b[0mListedColormap\u001b[0m\u001b[0;34m(\u001b[0m\u001b[0msns\u001b[0m\u001b[0;34m.\u001b[0m\u001b[0mcolor_palette\u001b[0m\u001b[0;34m(\u001b[0m\u001b[0;34m'mako'\u001b[0m\u001b[0;34m)\u001b[0m\u001b[0;34m)\u001b[0m\u001b[0;34m,\u001b[0m \u001b[0mfigsize\u001b[0m\u001b[0;34m=\u001b[0m\u001b[0;34m(\u001b[0m\u001b[0;36m15\u001b[0m\u001b[0;34m,\u001b[0m \u001b[0;36m12\u001b[0m\u001b[0;34m)\u001b[0m\u001b[0;34m)\u001b[0m\u001b[0;34m\u001b[0m\u001b[0;34m\u001b[0m\u001b[0m\n\u001b[1;32m      9\u001b[0m \u001b[0;32mfor\u001b[0m \u001b[0mc\u001b[0m \u001b[0;32min\u001b[0m \u001b[0max\u001b[0m\u001b[0;34m.\u001b[0m\u001b[0mcontainers\u001b[0m\u001b[0;34m:\u001b[0m\u001b[0;34m\u001b[0m\u001b[0;34m\u001b[0m\u001b[0m\n\u001b[0;32m---> 10\u001b[0;31m     \u001b[0max\u001b[0m\u001b[0;34m.\u001b[0m\u001b[0mbar_label\u001b[0m\u001b[0;34m(\u001b[0m\u001b[0mc\u001b[0m\u001b[0;34m,\u001b[0m \u001b[0mlabel_type\u001b[0m\u001b[0;34m=\u001b[0m\u001b[0;34m'center'\u001b[0m\u001b[0;34m,\u001b[0m \u001b[0mcolor\u001b[0m\u001b[0;34m=\u001b[0m\u001b[0;34m'#fff'\u001b[0m\u001b[0;34m)\u001b[0m\u001b[0;34m\u001b[0m\u001b[0;34m\u001b[0m\u001b[0m\n\u001b[0m\u001b[1;32m     11\u001b[0m \u001b[0;34m\u001b[0m\u001b[0m\n\u001b[1;32m     12\u001b[0m \u001b[0mplt\u001b[0m\u001b[0;34m.\u001b[0m\u001b[0mshow\u001b[0m\u001b[0;34m(\u001b[0m\u001b[0;34m)\u001b[0m\u001b[0;34m\u001b[0m\u001b[0;34m\u001b[0m\u001b[0m\n",
      "\u001b[0;31mAttributeError\u001b[0m: 'AxesSubplot' object has no attribute 'bar_label'"
     ]
    },
    {
     "data": {
      "image/png": "[encoded data removed]",
      "text/plain": [
       "<Figure size 1080x864 with 1 Axes>"
      ]
     },
     "metadata": {
      "needs_background": "light"
     },
     "output_type": "display_data"
    }
   ],
   "source": [
    "# Plot POI\n",
    "poi_counts = df[poi].melt()\n",
    "poi_counts = pd.crosstab(index=poi_counts['variable'], columns=poi_counts['value'])\n",
    "poi_counts['false_freq'] = round((poi_counts[0] / (poi_counts[0] + poi_counts[1]))*100,2)\n",
    "poi_counts['true_freq'] = round((poi_counts[1] / (poi_counts[0] + poi_counts[1]))*100,2)\n",
    "poi_counts = poi_counts[['false_freq','true_freq']].copy()\n",
    "labels = list(poi_counts.index.values)\n",
    "ax = poi_counts.plot.barh(stacked=True, cmap=ListedColormap(sns.color_palette('mako')), figsize=(15, 12))\n",
    "for c in ax.containers:\n",
    "    ax.bar_label(c, label_type='center', color='#fff')\n",
    "\n",
    "plt.show()"
   ]
  },
  {
   "cell_type": "code",
   "execution_count": null,
   "metadata": {
    "colab": {
     "base_uri": "https://localhost:8080/",
     "height": 428
    },
    "id": "G77VEQX3_Y5L",
    "outputId": "3e431285-31c4-43ec-9e0b-1e6be86d6a88"
   },
   "outputs": [
    {
     "data": {
      "image/png": "[encoded data removed]",
      "text/plain": [
       "<Figure size 432x288 with 1 Axes>"
      ]
     },
     "metadata": {},
     "output_type": "display_data"
    },
    {
     "name": "stdout",
     "output_type": "stream",
     "text": [
      "Median of Severity for each Subset:\n"
     ]
    },
    {
     "data": {
      "text/html": [
       "\n",
       "  <div id=\"df-41f16628-c38a-4d6e-a361-55e2602d4712\">\n",
       "    <div class=\"colab-df-container\">\n",
       "      <div>\n",
       "<style scoped>\n",
       "    .dataframe tbody tr th:only-of-type {\n",
       "        vertical-align: middle;\n",
       "    }\n",
       "\n",
       "    .dataframe tbody tr th {\n",
       "        vertical-align: top;\n",
       "    }\n",
       "\n",
       "    .dataframe thead th {\n",
       "        text-align: right;\n",
       "    }\n",
       "</style>\n",
       "<table border=\"1\" class=\"dataframe\">\n",
       "  <thead>\n",
       "    <tr style=\"text-align: right;\">\n",
       "      <th></th>\n",
       "      <th></th>\n",
       "      <th>count</th>\n",
       "      <th>median</th>\n",
       "    </tr>\n",
       "    <tr>\n",
       "      <th>Traffic_Calming</th>\n",
       "      <th>Bump</th>\n",
       "      <th></th>\n",
       "      <th></th>\n",
       "    </tr>\n",
       "  </thead>\n",
       "  <tbody>\n",
       "    <tr>\n",
       "      <th rowspan=\"2\" valign=\"top\">True</th>\n",
       "      <th>False</th>\n",
       "      <td>4</td>\n",
       "      <td>2.0</td>\n",
       "    </tr>\n",
       "    <tr>\n",
       "      <th>True</th>\n",
       "      <td>2</td>\n",
       "      <td>4.0</td>\n",
       "    </tr>\n",
       "  </tbody>\n",
       "</table>\n",
       "</div>\n",
       "      <button class=\"colab-df-convert\" onclick=\"convertToInteractive('df-41f16628-c38a-4d6e-a361-55e2602d4712')\"\n",
       "              title=\"Convert this dataframe to an interactive table.\"\n",
       "              style=\"display:none;\">\n",
       "        \n",
       "  <svg xmlns=\"http://www.w3.org/2000/svg\" height=\"24px\"viewBox=\"0 0 24 24\"\n",
       "       width=\"24px\">\n",
       "    <path d=\"M0 0h24v24H0V0z\" fill=\"none\"/>\n",
       "    <path d=\"M18.56 5.44l.94 2.06.94-2.06 2.06-.94-2.06-.94-.94-2.06-.94 2.06-2.06.94zm-11 1L8.5 8.5l.94-2.06 2.06-.94-2.06-.94L8.5 2.5l-.94 2.06-2.06.94zm10 10l.94 2.06.94-2.06 2.06-.94-2.06-.94-.94-2.06-.94 2.06-2.06.94z\"/><path d=\"M17.41 7.96l-1.37-1.37c-.4-.4-.92-.59-1.43-.59-.52 0-1.04.2-1.43.59L10.3 9.45l-7.72 7.72c-.78.78-.78 2.05 0 2.83L4 21.41c.39.39.9.59 1.41.59.51 0 1.02-.2 1.41-.59l7.78-7.78 2.81-2.81c.8-.78.8-2.07 0-2.86zM5.41 20L4 18.59l7.72-7.72 1.47 1.35L5.41 20z\"/>\n",
       "  </svg>\n",
       "      </button>\n",
       "      \n",
       "  <style>\n",
       "    .colab-df-container {\n",
       "      display:flex;\n",
       "      flex-wrap:wrap;\n",
       "      gap: 12px;\n",
       "    }\n",
       "\n",
       "    .colab-df-convert {\n",
       "      background-color: #E8F0FE;\n",
       "      border: none;\n",
       "      border-radius: 50%;\n",
       "      cursor: pointer;\n",
       "      display: none;\n",
       "      fill: #1967D2;\n",
       "      height: 32px;\n",
       "      padding: 0 0 0 0;\n",
       "      width: 32px;\n",
       "    }\n",
       "\n",
       "    .colab-df-convert:hover {\n",
       "      background-color: #E2EBFA;\n",
       "      box-shadow: 0px 1px 2px rgba(60, 64, 67, 0.3), 0px 1px 3px 1px rgba(60, 64, 67, 0.15);\n",
       "      fill: #174EA6;\n",
       "    }\n",
       "\n",
       "    [theme=dark] .colab-df-convert {\n",
       "      background-color: #3B4455;\n",
       "      fill: #D2E3FC;\n",
       "    }\n",
       "\n",
       "    [theme=dark] .colab-df-convert:hover {\n",
       "      background-color: #434B5C;\n",
       "      box-shadow: 0px 1px 3px 1px rgba(0, 0, 0, 0.15);\n",
       "      filter: drop-shadow(0px 1px 2px rgba(0, 0, 0, 0.3));\n",
       "      fill: #FFFFFF;\n",
       "    }\n",
       "  </style>\n",
       "\n",
       "      <script>\n",
       "        const buttonEl =\n",
       "          document.querySelector('#df-41f16628-c38a-4d6e-a361-55e2602d4712 button.colab-df-convert');\n",
       "        buttonEl.style.display =\n",
       "          google.colab.kernel.accessAllowed ? 'block' : 'none';\n",
       "\n",
       "        async function convertToInteractive(key) {\n",
       "          const element = document.querySelector('#df-41f16628-c38a-4d6e-a361-55e2602d4712');\n",
       "          const dataTable =\n",
       "            await google.colab.kernel.invokeFunction('convertToInteractive',\n",
       "                                                     [key], {});\n",
       "          if (!dataTable) return;\n",
       "\n",
       "          const docLinkHtml = 'Like what you see? Visit the ' +\n",
       "            '<a target=\"_blank\" href=https://colab.research.google.com/notebooks/data_table.ipynb>data table notebook</a>'\n",
       "            + ' to learn more about interactive tables.';\n",
       "          element.innerHTML = '';\n",
       "          dataTable['output_type'] = 'display_data';\n",
       "          await google.colab.output.renderOutput(dataTable, element);\n",
       "          const docLink = document.createElement('div');\n",
       "          docLink.innerHTML = docLinkHtml;\n",
       "          element.appendChild(docLink);\n",
       "        }\n",
       "      </script>\n",
       "    </div>\n",
       "  </div>\n",
       "  "
      ],
      "text/plain": [
       "                       count  median\n",
       "Traffic_Calming Bump                \n",
       "True            False      4     2.0\n",
       "                True       2     4.0"
      ]
     },
     "metadata": {},
     "output_type": "display_data"
    },
    {
     "name": "stdout",
     "output_type": "stream",
     "text": [
      "Median of Severity for all observations: 2.00\n"
     ]
    }
   ],
   "source": [
    "## poi: Traffic_Calming vs Bump (justification to create Variable Traffic_Calming_ex_Bump)\n",
    "\n",
    "## Venn Diagram: Traffic_Calming & Bump\n",
    "TC = df['Traffic_Calming'].sum()\n",
    "B =  df['Bump'].sum()\n",
    "\n",
    "df['total_TC_B'] = df['Traffic_Calming'].astype(int) + df['Bump'].astype(int)\n",
    "df['TC_and_B'] = pd.Series(df.total_TC_B == 2).map({True: 1, False: 0})\n",
    "TC_B = TC_B = df['TC_and_B'].sum()\n",
    "\n",
    "## Depict diagram\n",
    "venn2_unweighted(subsets = (TC-TC_B, B-TC_B, TC_B),\n",
    "                 set_labels = ('Traffic_Calming','Bump'),\n",
    "                 set_colors=(\"orange\",\"blue\"),alpha=0.7)\n",
    "\n",
    "plt.title('Number of Incident Near Traffic Calming and Bump')\n",
    "plt.show()\n",
    "\n",
    "## Show Median of Severity\n",
    "print(\"Median of Severity for each Subset:\")\n",
    "display(df[(df.total_TC_B > 0)].groupby(['Traffic_Calming','Bump'])['Severity'].agg(['count','median']))\n",
    "print((\"Median of Severity for all observations: {:.2f}\").format(df['Severity'].median()))"
   ]
  },
  {
   "cell_type": "code",
   "execution_count": null,
   "metadata": {
    "colab": {
     "base_uri": "https://localhost:8080/",
     "height": 1000
    },
    "id": "teiI1q5EA5Y0",
    "outputId": "8eacfb91-ef18-4c8c-a990-20f8bb892884"
   },
   "outputs": [
    {
     "data": {
      "text/html": [
       "\n",
       "  <div id=\"df-b78bc776-345e-49d1-8de3-ad0d7cf788e4\">\n",
       "    <div class=\"colab-df-container\">\n",
       "      <div>\n",
       "<style scoped>\n",
       "    .dataframe tbody tr th:only-of-type {\n",
       "        vertical-align: middle;\n",
       "    }\n",
       "\n",
       "    .dataframe tbody tr th {\n",
       "        vertical-align: top;\n",
       "    }\n",
       "\n",
       "    .dataframe thead th {\n",
       "        text-align: right;\n",
       "    }\n",
       "</style>\n",
       "<table border=\"1\" class=\"dataframe\">\n",
       "  <thead>\n",
       "    <tr style=\"text-align: right;\">\n",
       "      <th></th>\n",
       "      <th>Amenity</th>\n",
       "      <th>Bump</th>\n",
       "      <th>Crossing</th>\n",
       "      <th>Give_Way</th>\n",
       "      <th>Junction</th>\n",
       "      <th>No_Exit</th>\n",
       "      <th>Railway</th>\n",
       "      <th>Roundabout</th>\n",
       "      <th>Station</th>\n",
       "      <th>Stop</th>\n",
       "      <th>Traffic_Calming</th>\n",
       "      <th>Traffic_Signal</th>\n",
       "      <th>Any_poi</th>\n",
       "    </tr>\n",
       "  </thead>\n",
       "  <tbody>\n",
       "    <tr>\n",
       "      <th>sum</th>\n",
       "      <td>789</td>\n",
       "      <td>2</td>\n",
       "      <td>1907</td>\n",
       "      <td>127</td>\n",
       "      <td>5613</td>\n",
       "      <td>61</td>\n",
       "      <td>270</td>\n",
       "      <td>2</td>\n",
       "      <td>626</td>\n",
       "      <td>478</td>\n",
       "      <td>6</td>\n",
       "      <td>5750</td>\n",
       "      <td>12557</td>\n",
       "    </tr>\n",
       "  </tbody>\n",
       "</table>\n",
       "</div>\n",
       "      <button class=\"colab-df-convert\" onclick=\"convertToInteractive('df-b78bc776-345e-49d1-8de3-ad0d7cf788e4')\"\n",
       "              title=\"Convert this dataframe to an interactive table.\"\n",
       "              style=\"display:none;\">\n",
       "        \n",
       "  <svg xmlns=\"http://www.w3.org/2000/svg\" height=\"24px\"viewBox=\"0 0 24 24\"\n",
       "       width=\"24px\">\n",
       "    <path d=\"M0 0h24v24H0V0z\" fill=\"none\"/>\n",
       "    <path d=\"M18.56 5.44l.94 2.06.94-2.06 2.06-.94-2.06-.94-.94-2.06-.94 2.06-2.06.94zm-11 1L8.5 8.5l.94-2.06 2.06-.94-2.06-.94L8.5 2.5l-.94 2.06-2.06.94zm10 10l.94 2.06.94-2.06 2.06-.94-2.06-.94-.94-2.06-.94 2.06-2.06.94z\"/><path d=\"M17.41 7.96l-1.37-1.37c-.4-.4-.92-.59-1.43-.59-.52 0-1.04.2-1.43.59L10.3 9.45l-7.72 7.72c-.78.78-.78 2.05 0 2.83L4 21.41c.39.39.9.59 1.41.59.51 0 1.02-.2 1.41-.59l7.78-7.78 2.81-2.81c.8-.78.8-2.07 0-2.86zM5.41 20L4 18.59l7.72-7.72 1.47 1.35L5.41 20z\"/>\n",
       "  </svg>\n",
       "      </button>\n",
       "      \n",
       "  <style>\n",
       "    .colab-df-container {\n",
       "      display:flex;\n",
       "      flex-wrap:wrap;\n",
       "      gap: 12px;\n",
       "    }\n",
       "\n",
       "    .colab-df-convert {\n",
       "      background-color: #E8F0FE;\n",
       "      border: none;\n",
       "      border-radius: 50%;\n",
       "      cursor: pointer;\n",
       "      display: none;\n",
       "      fill: #1967D2;\n",
       "      height: 32px;\n",
       "      padding: 0 0 0 0;\n",
       "      width: 32px;\n",
       "    }\n",
       "\n",
       "    .colab-df-convert:hover {\n",
       "      background-color: #E2EBFA;\n",
       "      box-shadow: 0px 1px 2px rgba(60, 64, 67, 0.3), 0px 1px 3px 1px rgba(60, 64, 67, 0.15);\n",
       "      fill: #174EA6;\n",
       "    }\n",
       "\n",
       "    [theme=dark] .colab-df-convert {\n",
       "      background-color: #3B4455;\n",
       "      fill: #D2E3FC;\n",
       "    }\n",
       "\n",
       "    [theme=dark] .colab-df-convert:hover {\n",
       "      background-color: #434B5C;\n",
       "      box-shadow: 0px 1px 3px 1px rgba(0, 0, 0, 0.15);\n",
       "      filter: drop-shadow(0px 1px 2px rgba(0, 0, 0, 0.3));\n",
       "      fill: #FFFFFF;\n",
       "    }\n",
       "  </style>\n",
       "\n",
       "      <script>\n",
       "        const buttonEl =\n",
       "          document.querySelector('#df-b78bc776-345e-49d1-8de3-ad0d7cf788e4 button.colab-df-convert');\n",
       "        buttonEl.style.display =\n",
       "          google.colab.kernel.accessAllowed ? 'block' : 'none';\n",
       "\n",
       "        async function convertToInteractive(key) {\n",
       "          const element = document.querySelector('#df-b78bc776-345e-49d1-8de3-ad0d7cf788e4');\n",
       "          const dataTable =\n",
       "            await google.colab.kernel.invokeFunction('convertToInteractive',\n",
       "                                                     [key], {});\n",
       "          if (!dataTable) return;\n",
       "\n",
       "          const docLinkHtml = 'Like what you see? Visit the ' +\n",
       "            '<a target=\"_blank\" href=https://colab.research.google.com/notebooks/data_table.ipynb>data table notebook</a>'\n",
       "            + ' to learn more about interactive tables.';\n",
       "          element.innerHTML = '';\n",
       "          dataTable['output_type'] = 'display_data';\n",
       "          await google.colab.output.renderOutput(dataTable, element);\n",
       "          const docLink = document.createElement('div');\n",
       "          docLink.innerHTML = docLinkHtml;\n",
       "          element.appendChild(docLink);\n",
       "        }\n",
       "      </script>\n",
       "    </div>\n",
       "  </div>\n",
       "  "
      ],
      "text/plain": [
       "     Amenity  Bump  Crossing  Give_Way  Junction  No_Exit  Railway  \\\n",
       "sum      789     2      1907       127      5613       61      270   \n",
       "\n",
       "     Roundabout  Station  Stop  Traffic_Calming  Traffic_Signal  Any_poi  \n",
       "sum           2      626   478                6            5750    12557  "
      ]
     },
     "metadata": {},
     "output_type": "display_data"
    },
    {
     "data": {
      "text/html": [
       "\n",
       "  <div id=\"df-7354a1be-9c3c-43a5-b9c5-a05e1a2644b6\">\n",
       "    <div class=\"colab-df-container\">\n",
       "      <div>\n",
       "<style scoped>\n",
       "    .dataframe tbody tr th:only-of-type {\n",
       "        vertical-align: middle;\n",
       "    }\n",
       "\n",
       "    .dataframe tbody tr th {\n",
       "        vertical-align: top;\n",
       "    }\n",
       "\n",
       "    .dataframe thead tr th {\n",
       "        text-align: left;\n",
       "    }\n",
       "\n",
       "    .dataframe thead tr:last-of-type th {\n",
       "        text-align: right;\n",
       "    }\n",
       "</style>\n",
       "<table border=\"1\" class=\"dataframe\">\n",
       "  <thead>\n",
       "    <tr>\n",
       "      <th></th>\n",
       "      <th>Amenity</th>\n",
       "      <th>Bump</th>\n",
       "      <th>Crossing</th>\n",
       "      <th>Give_Way</th>\n",
       "      <th>Junction</th>\n",
       "      <th>No_Exit</th>\n",
       "      <th>Railway</th>\n",
       "      <th>Roundabout</th>\n",
       "      <th>Station</th>\n",
       "      <th>Stop</th>\n",
       "      <th>Traffic_Calming</th>\n",
       "      <th>Traffic_Signal</th>\n",
       "      <th>Any_poi</th>\n",
       "    </tr>\n",
       "    <tr>\n",
       "      <th></th>\n",
       "      <th>sum</th>\n",
       "      <th>sum</th>\n",
       "      <th>sum</th>\n",
       "      <th>sum</th>\n",
       "      <th>sum</th>\n",
       "      <th>sum</th>\n",
       "      <th>sum</th>\n",
       "      <th>sum</th>\n",
       "      <th>sum</th>\n",
       "      <th>sum</th>\n",
       "      <th>sum</th>\n",
       "      <th>sum</th>\n",
       "      <th>sum</th>\n",
       "    </tr>\n",
       "    <tr>\n",
       "      <th>Severity</th>\n",
       "      <th></th>\n",
       "      <th></th>\n",
       "      <th></th>\n",
       "      <th></th>\n",
       "      <th></th>\n",
       "      <th></th>\n",
       "      <th></th>\n",
       "      <th></th>\n",
       "      <th></th>\n",
       "      <th></th>\n",
       "      <th></th>\n",
       "      <th></th>\n",
       "      <th></th>\n",
       "    </tr>\n",
       "  </thead>\n",
       "  <tbody>\n",
       "    <tr>\n",
       "      <th>1</th>\n",
       "      <td>13</td>\n",
       "      <td>0</td>\n",
       "      <td>30</td>\n",
       "      <td>1</td>\n",
       "      <td>121</td>\n",
       "      <td>0</td>\n",
       "      <td>2</td>\n",
       "      <td>0</td>\n",
       "      <td>6</td>\n",
       "      <td>4</td>\n",
       "      <td>0</td>\n",
       "      <td>96</td>\n",
       "      <td>232</td>\n",
       "    </tr>\n",
       "    <tr>\n",
       "      <th>2</th>\n",
       "      <td>578</td>\n",
       "      <td>0</td>\n",
       "      <td>1410</td>\n",
       "      <td>89</td>\n",
       "      <td>4465</td>\n",
       "      <td>59</td>\n",
       "      <td>205</td>\n",
       "      <td>2</td>\n",
       "      <td>448</td>\n",
       "      <td>359</td>\n",
       "      <td>4</td>\n",
       "      <td>4158</td>\n",
       "      <td>9551</td>\n",
       "    </tr>\n",
       "    <tr>\n",
       "      <th>3</th>\n",
       "      <td>124</td>\n",
       "      <td>0</td>\n",
       "      <td>293</td>\n",
       "      <td>17</td>\n",
       "      <td>685</td>\n",
       "      <td>0</td>\n",
       "      <td>25</td>\n",
       "      <td>0</td>\n",
       "      <td>79</td>\n",
       "      <td>56</td>\n",
       "      <td>0</td>\n",
       "      <td>1043</td>\n",
       "      <td>1862</td>\n",
       "    </tr>\n",
       "    <tr>\n",
       "      <th>4</th>\n",
       "      <td>74</td>\n",
       "      <td>2</td>\n",
       "      <td>174</td>\n",
       "      <td>20</td>\n",
       "      <td>342</td>\n",
       "      <td>2</td>\n",
       "      <td>38</td>\n",
       "      <td>0</td>\n",
       "      <td>93</td>\n",
       "      <td>59</td>\n",
       "      <td>2</td>\n",
       "      <td>453</td>\n",
       "      <td>912</td>\n",
       "    </tr>\n",
       "  </tbody>\n",
       "</table>\n",
       "</div>\n",
       "      <button class=\"colab-df-convert\" onclick=\"convertToInteractive('df-7354a1be-9c3c-43a5-b9c5-a05e1a2644b6')\"\n",
       "              title=\"Convert this dataframe to an interactive table.\"\n",
       "              style=\"display:none;\">\n",
       "        \n",
       "  <svg xmlns=\"http://www.w3.org/2000/svg\" height=\"24px\"viewBox=\"0 0 24 24\"\n",
       "       width=\"24px\">\n",
       "    <path d=\"M0 0h24v24H0V0z\" fill=\"none\"/>\n",
       "    <path d=\"M18.56 5.44l.94 2.06.94-2.06 2.06-.94-2.06-.94-.94-2.06-.94 2.06-2.06.94zm-11 1L8.5 8.5l.94-2.06 2.06-.94-2.06-.94L8.5 2.5l-.94 2.06-2.06.94zm10 10l.94 2.06.94-2.06 2.06-.94-2.06-.94-.94-2.06-.94 2.06-2.06.94z\"/><path d=\"M17.41 7.96l-1.37-1.37c-.4-.4-.92-.59-1.43-.59-.52 0-1.04.2-1.43.59L10.3 9.45l-7.72 7.72c-.78.78-.78 2.05 0 2.83L4 21.41c.39.39.9.59 1.41.59.51 0 1.02-.2 1.41-.59l7.78-7.78 2.81-2.81c.8-.78.8-2.07 0-2.86zM5.41 20L4 18.59l7.72-7.72 1.47 1.35L5.41 20z\"/>\n",
       "  </svg>\n",
       "      </button>\n",
       "      \n",
       "  <style>\n",
       "    .colab-df-container {\n",
       "      display:flex;\n",
       "      flex-wrap:wrap;\n",
       "      gap: 12px;\n",
       "    }\n",
       "\n",
       "    .colab-df-convert {\n",
       "      background-color: #E8F0FE;\n",
       "      border: none;\n",
       "      border-radius: 50%;\n",
       "      cursor: pointer;\n",
       "      display: none;\n",
       "      fill: #1967D2;\n",
       "      height: 32px;\n",
       "      padding: 0 0 0 0;\n",
       "      width: 32px;\n",
       "    }\n",
       "\n",
       "    .colab-df-convert:hover {\n",
       "      background-color: #E2EBFA;\n",
       "      box-shadow: 0px 1px 2px rgba(60, 64, 67, 0.3), 0px 1px 3px 1px rgba(60, 64, 67, 0.15);\n",
       "      fill: #174EA6;\n",
       "    }\n",
       "\n",
       "    [theme=dark] .colab-df-convert {\n",
       "      background-color: #3B4455;\n",
       "      fill: #D2E3FC;\n",
       "    }\n",
       "\n",
       "    [theme=dark] .colab-df-convert:hover {\n",
       "      background-color: #434B5C;\n",
       "      box-shadow: 0px 1px 3px 1px rgba(0, 0, 0, 0.15);\n",
       "      filter: drop-shadow(0px 1px 2px rgba(0, 0, 0, 0.3));\n",
       "      fill: #FFFFFF;\n",
       "    }\n",
       "  </style>\n",
       "\n",
       "      <script>\n",
       "        const buttonEl =\n",
       "          document.querySelector('#df-7354a1be-9c3c-43a5-b9c5-a05e1a2644b6 button.colab-df-convert');\n",
       "        buttonEl.style.display =\n",
       "          google.colab.kernel.accessAllowed ? 'block' : 'none';\n",
       "\n",
       "        async function convertToInteractive(key) {\n",
       "          const element = document.querySelector('#df-7354a1be-9c3c-43a5-b9c5-a05e1a2644b6');\n",
       "          const dataTable =\n",
       "            await google.colab.kernel.invokeFunction('convertToInteractive',\n",
       "                                                     [key], {});\n",
       "          if (!dataTable) return;\n",
       "\n",
       "          const docLinkHtml = 'Like what you see? Visit the ' +\n",
       "            '<a target=\"_blank\" href=https://colab.research.google.com/notebooks/data_table.ipynb>data table notebook</a>'\n",
       "            + ' to learn more about interactive tables.';\n",
       "          element.innerHTML = '';\n",
       "          dataTable['output_type'] = 'display_data';\n",
       "          await google.colab.output.renderOutput(dataTable, element);\n",
       "          const docLink = document.createElement('div');\n",
       "          docLink.innerHTML = docLinkHtml;\n",
       "          element.appendChild(docLink);\n",
       "        }\n",
       "      </script>\n",
       "    </div>\n",
       "  </div>\n",
       "  "
      ],
      "text/plain": [
       "         Amenity Bump Crossing Give_Way Junction No_Exit Railway Roundabout  \\\n",
       "             sum  sum      sum      sum      sum     sum     sum        sum   \n",
       "Severity                                                                      \n",
       "1             13    0       30        1      121       0       2          0   \n",
       "2            578    0     1410       89     4465      59     205          2   \n",
       "3            124    0      293       17      685       0      25          0   \n",
       "4             74    2      174       20      342       2      38          0   \n",
       "\n",
       "         Station Stop Traffic_Calming Traffic_Signal Any_poi  \n",
       "             sum  sum             sum            sum     sum  \n",
       "Severity                                                      \n",
       "1              6    4               0             96     232  \n",
       "2            448  359               4           4158    9551  \n",
       "3             79   56               0           1043    1862  \n",
       "4             93   59               2            453     912  "
      ]
     },
     "metadata": {},
     "output_type": "display_data"
    },
    {
     "data": {
      "text/html": [
       "\n",
       "  <div id=\"df-82c413bd-411a-490d-9f3e-f91897683a3c\">\n",
       "    <div class=\"colab-df-container\">\n",
       "      <div>\n",
       "<style scoped>\n",
       "    .dataframe tbody tr th:only-of-type {\n",
       "        vertical-align: middle;\n",
       "    }\n",
       "\n",
       "    .dataframe tbody tr th {\n",
       "        vertical-align: top;\n",
       "    }\n",
       "\n",
       "    .dataframe thead th {\n",
       "        text-align: right;\n",
       "    }\n",
       "</style>\n",
       "<table border=\"1\" class=\"dataframe\">\n",
       "  <thead>\n",
       "    <tr style=\"text-align: right;\">\n",
       "      <th></th>\n",
       "      <th></th>\n",
       "      <th>Any_poi Count (%)</th>\n",
       "    </tr>\n",
       "    <tr>\n",
       "      <th>Any_poi</th>\n",
       "      <th>Severity</th>\n",
       "      <th></th>\n",
       "    </tr>\n",
       "  </thead>\n",
       "  <tbody>\n",
       "    <tr>\n",
       "      <th rowspan=\"4\" valign=\"top\">False</th>\n",
       "      <th>1</th>\n",
       "      <td>1.9032</td>\n",
       "    </tr>\n",
       "    <tr>\n",
       "      <th>2</th>\n",
       "      <td>78.9076</td>\n",
       "    </tr>\n",
       "    <tr>\n",
       "      <th>3</th>\n",
       "      <td>10.7588</td>\n",
       "    </tr>\n",
       "    <tr>\n",
       "      <th>4</th>\n",
       "      <td>8.4304</td>\n",
       "    </tr>\n",
       "  </tbody>\n",
       "</table>\n",
       "</div>\n",
       "      <button class=\"colab-df-convert\" onclick=\"convertToInteractive('df-82c413bd-411a-490d-9f3e-f91897683a3c')\"\n",
       "              title=\"Convert this dataframe to an interactive table.\"\n",
       "              style=\"display:none;\">\n",
       "        \n",
       "  <svg xmlns=\"http://www.w3.org/2000/svg\" height=\"24px\"viewBox=\"0 0 24 24\"\n",
       "       width=\"24px\">\n",
       "    <path d=\"M0 0h24v24H0V0z\" fill=\"none\"/>\n",
       "    <path d=\"M18.56 5.44l.94 2.06.94-2.06 2.06-.94-2.06-.94-.94-2.06-.94 2.06-2.06.94zm-11 1L8.5 8.5l.94-2.06 2.06-.94-2.06-.94L8.5 2.5l-.94 2.06-2.06.94zm10 10l.94 2.06.94-2.06 2.06-.94-2.06-.94-.94-2.06-.94 2.06-2.06.94z\"/><path d=\"M17.41 7.96l-1.37-1.37c-.4-.4-.92-.59-1.43-.59-.52 0-1.04.2-1.43.59L10.3 9.45l-7.72 7.72c-.78.78-.78 2.05 0 2.83L4 21.41c.39.39.9.59 1.41.59.51 0 1.02-.2 1.41-.59l7.78-7.78 2.81-2.81c.8-.78.8-2.07 0-2.86zM5.41 20L4 18.59l7.72-7.72 1.47 1.35L5.41 20z\"/>\n",
       "  </svg>\n",
       "      </button>\n",
       "      \n",
       "  <style>\n",
       "    .colab-df-container {\n",
       "      display:flex;\n",
       "      flex-wrap:wrap;\n",
       "      gap: 12px;\n",
       "    }\n",
       "\n",
       "    .colab-df-convert {\n",
       "      background-color: #E8F0FE;\n",
       "      border: none;\n",
       "      border-radius: 50%;\n",
       "      cursor: pointer;\n",
       "      display: none;\n",
       "      fill: #1967D2;\n",
       "      height: 32px;\n",
       "      padding: 0 0 0 0;\n",
       "      width: 32px;\n",
       "    }\n",
       "\n",
       "    .colab-df-convert:hover {\n",
       "      background-color: #E2EBFA;\n",
       "      box-shadow: 0px 1px 2px rgba(60, 64, 67, 0.3), 0px 1px 3px 1px rgba(60, 64, 67, 0.15);\n",
       "      fill: #174EA6;\n",
       "    }\n",
       "\n",
       "    [theme=dark] .colab-df-convert {\n",
       "      background-color: #3B4455;\n",
       "      fill: #D2E3FC;\n",
       "    }\n",
       "\n",
       "    [theme=dark] .colab-df-convert:hover {\n",
       "      background-color: #434B5C;\n",
       "      box-shadow: 0px 1px 3px 1px rgba(0, 0, 0, 0.15);\n",
       "      filter: drop-shadow(0px 1px 2px rgba(0, 0, 0, 0.3));\n",
       "      fill: #FFFFFF;\n",
       "    }\n",
       "  </style>\n",
       "\n",
       "      <script>\n",
       "        const buttonEl =\n",
       "          document.querySelector('#df-82c413bd-411a-490d-9f3e-f91897683a3c button.colab-df-convert');\n",
       "        buttonEl.style.display =\n",
       "          google.colab.kernel.accessAllowed ? 'block' : 'none';\n",
       "\n",
       "        async function convertToInteractive(key) {\n",
       "          const element = document.querySelector('#df-82c413bd-411a-490d-9f3e-f91897683a3c');\n",
       "          const dataTable =\n",
       "            await google.colab.kernel.invokeFunction('convertToInteractive',\n",
       "                                                     [key], {});\n",
       "          if (!dataTable) return;\n",
       "\n",
       "          const docLinkHtml = 'Like what you see? Visit the ' +\n",
       "            '<a target=\"_blank\" href=https://colab.research.google.com/notebooks/data_table.ipynb>data table notebook</a>'\n",
       "            + ' to learn more about interactive tables.';\n",
       "          element.innerHTML = '';\n",
       "          dataTable['output_type'] = 'display_data';\n",
       "          await google.colab.output.renderOutput(dataTable, element);\n",
       "          const docLink = document.createElement('div');\n",
       "          docLink.innerHTML = docLinkHtml;\n",
       "          element.appendChild(docLink);\n",
       "        }\n",
       "      </script>\n",
       "    </div>\n",
       "  </div>\n",
       "  "
      ],
      "text/plain": [
       "                  Any_poi Count (%)\n",
       "Any_poi Severity                   \n",
       "False   1                    1.9032\n",
       "        2                   78.9076\n",
       "        3                   10.7588\n",
       "        4                    8.4304"
      ]
     },
     "metadata": {},
     "output_type": "display_data"
    },
    {
     "data": {
      "text/html": [
       "\n",
       "  <div id=\"df-b7d39793-5e38-4aed-bdcb-6204dde71fee\">\n",
       "    <div class=\"colab-df-container\">\n",
       "      <div>\n",
       "<style scoped>\n",
       "    .dataframe tbody tr th:only-of-type {\n",
       "        vertical-align: middle;\n",
       "    }\n",
       "\n",
       "    .dataframe tbody tr th {\n",
       "        vertical-align: top;\n",
       "    }\n",
       "\n",
       "    .dataframe thead th {\n",
       "        text-align: right;\n",
       "    }\n",
       "</style>\n",
       "<table border=\"1\" class=\"dataframe\">\n",
       "  <thead>\n",
       "    <tr style=\"text-align: right;\">\n",
       "      <th></th>\n",
       "      <th></th>\n",
       "      <th>Any_poi Count (%)</th>\n",
       "    </tr>\n",
       "    <tr>\n",
       "      <th>Any_poi</th>\n",
       "      <th>Severity</th>\n",
       "      <th></th>\n",
       "    </tr>\n",
       "  </thead>\n",
       "  <tbody>\n",
       "    <tr>\n",
       "      <th rowspan=\"4\" valign=\"top\">True</th>\n",
       "      <th>1</th>\n",
       "      <td>1.8476</td>\n",
       "    </tr>\n",
       "    <tr>\n",
       "      <th>2</th>\n",
       "      <td>76.0612</td>\n",
       "    </tr>\n",
       "    <tr>\n",
       "      <th>3</th>\n",
       "      <td>14.8284</td>\n",
       "    </tr>\n",
       "    <tr>\n",
       "      <th>4</th>\n",
       "      <td>7.2629</td>\n",
       "    </tr>\n",
       "  </tbody>\n",
       "</table>\n",
       "</div>\n",
       "      <button class=\"colab-df-convert\" onclick=\"convertToInteractive('df-b7d39793-5e38-4aed-bdcb-6204dde71fee')\"\n",
       "              title=\"Convert this dataframe to an interactive table.\"\n",
       "              style=\"display:none;\">\n",
       "        \n",
       "  <svg xmlns=\"http://www.w3.org/2000/svg\" height=\"24px\"viewBox=\"0 0 24 24\"\n",
       "       width=\"24px\">\n",
       "    <path d=\"M0 0h24v24H0V0z\" fill=\"none\"/>\n",
       "    <path d=\"M18.56 5.44l.94 2.06.94-2.06 2.06-.94-2.06-.94-.94-2.06-.94 2.06-2.06.94zm-11 1L8.5 8.5l.94-2.06 2.06-.94-2.06-.94L8.5 2.5l-.94 2.06-2.06.94zm10 10l.94 2.06.94-2.06 2.06-.94-2.06-.94-.94-2.06-.94 2.06-2.06.94z\"/><path d=\"M17.41 7.96l-1.37-1.37c-.4-.4-.92-.59-1.43-.59-.52 0-1.04.2-1.43.59L10.3 9.45l-7.72 7.72c-.78.78-.78 2.05 0 2.83L4 21.41c.39.39.9.59 1.41.59.51 0 1.02-.2 1.41-.59l7.78-7.78 2.81-2.81c.8-.78.8-2.07 0-2.86zM5.41 20L4 18.59l7.72-7.72 1.47 1.35L5.41 20z\"/>\n",
       "  </svg>\n",
       "      </button>\n",
       "      \n",
       "  <style>\n",
       "    .colab-df-container {\n",
       "      display:flex;\n",
       "      flex-wrap:wrap;\n",
       "      gap: 12px;\n",
       "    }\n",
       "\n",
       "    .colab-df-convert {\n",
       "      background-color: #E8F0FE;\n",
       "      border: none;\n",
       "      border-radius: 50%;\n",
       "      cursor: pointer;\n",
       "      display: none;\n",
       "      fill: #1967D2;\n",
       "      height: 32px;\n",
       "      padding: 0 0 0 0;\n",
       "      width: 32px;\n",
       "    }\n",
       "\n",
       "    .colab-df-convert:hover {\n",
       "      background-color: #E2EBFA;\n",
       "      box-shadow: 0px 1px 2px rgba(60, 64, 67, 0.3), 0px 1px 3px 1px rgba(60, 64, 67, 0.15);\n",
       "      fill: #174EA6;\n",
       "    }\n",
       "\n",
       "    [theme=dark] .colab-df-convert {\n",
       "      background-color: #3B4455;\n",
       "      fill: #D2E3FC;\n",
       "    }\n",
       "\n",
       "    [theme=dark] .colab-df-convert:hover {\n",
       "      background-color: #434B5C;\n",
       "      box-shadow: 0px 1px 3px 1px rgba(0, 0, 0, 0.15);\n",
       "      filter: drop-shadow(0px 1px 2px rgba(0, 0, 0, 0.3));\n",
       "      fill: #FFFFFF;\n",
       "    }\n",
       "  </style>\n",
       "\n",
       "      <script>\n",
       "        const buttonEl =\n",
       "          document.querySelector('#df-b7d39793-5e38-4aed-bdcb-6204dde71fee button.colab-df-convert');\n",
       "        buttonEl.style.display =\n",
       "          google.colab.kernel.accessAllowed ? 'block' : 'none';\n",
       "\n",
       "        async function convertToInteractive(key) {\n",
       "          const element = document.querySelector('#df-b7d39793-5e38-4aed-bdcb-6204dde71fee');\n",
       "          const dataTable =\n",
       "            await google.colab.kernel.invokeFunction('convertToInteractive',\n",
       "                                                     [key], {});\n",
       "          if (!dataTable) return;\n",
       "\n",
       "          const docLinkHtml = 'Like what you see? Visit the ' +\n",
       "            '<a target=\"_blank\" href=https://colab.research.google.com/notebooks/data_table.ipynb>data table notebook</a>'\n",
       "            + ' to learn more about interactive tables.';\n",
       "          element.innerHTML = '';\n",
       "          dataTable['output_type'] = 'display_data';\n",
       "          await google.colab.output.renderOutput(dataTable, element);\n",
       "          const docLink = document.createElement('div');\n",
       "          docLink.innerHTML = docLinkHtml;\n",
       "          element.appendChild(docLink);\n",
       "        }\n",
       "      </script>\n",
       "    </div>\n",
       "  </div>\n",
       "  "
      ],
      "text/plain": [
       "                  Any_poi Count (%)\n",
       "Any_poi Severity                   \n",
       "True    1                    1.8476\n",
       "        2                   76.0612\n",
       "        3                   14.8284\n",
       "        4                    7.2629"
      ]
     },
     "metadata": {},
     "output_type": "display_data"
    },
    {
     "data": {
      "text/html": [
       "\n",
       "  <div id=\"df-b2b8c2f4-09b6-4d3a-9fc0-790fdfe4a726\">\n",
       "    <div class=\"colab-df-container\">\n",
       "      <div>\n",
       "<style scoped>\n",
       "    .dataframe tbody tr th:only-of-type {\n",
       "        vertical-align: middle;\n",
       "    }\n",
       "\n",
       "    .dataframe tbody tr th {\n",
       "        vertical-align: top;\n",
       "    }\n",
       "\n",
       "    .dataframe thead th {\n",
       "        text-align: right;\n",
       "    }\n",
       "</style>\n",
       "<table border=\"1\" class=\"dataframe\">\n",
       "  <thead>\n",
       "    <tr style=\"text-align: right;\">\n",
       "      <th></th>\n",
       "      <th></th>\n",
       "      <th>T_S Count (%)</th>\n",
       "    </tr>\n",
       "    <tr>\n",
       "      <th>Traffic_Signal</th>\n",
       "      <th>Severity</th>\n",
       "      <th></th>\n",
       "    </tr>\n",
       "  </thead>\n",
       "  <tbody>\n",
       "    <tr>\n",
       "      <th rowspan=\"4\" valign=\"top\">True</th>\n",
       "      <th>1</th>\n",
       "      <td>1.6696</td>\n",
       "    </tr>\n",
       "    <tr>\n",
       "      <th>2</th>\n",
       "      <td>72.3130</td>\n",
       "    </tr>\n",
       "    <tr>\n",
       "      <th>3</th>\n",
       "      <td>18.1391</td>\n",
       "    </tr>\n",
       "    <tr>\n",
       "      <th>4</th>\n",
       "      <td>7.8783</td>\n",
       "    </tr>\n",
       "  </tbody>\n",
       "</table>\n",
       "</div>\n",
       "      <button class=\"colab-df-convert\" onclick=\"convertToInteractive('df-b2b8c2f4-09b6-4d3a-9fc0-790fdfe4a726')\"\n",
       "              title=\"Convert this dataframe to an interactive table.\"\n",
       "              style=\"display:none;\">\n",
       "        \n",
       "  <svg xmlns=\"http://www.w3.org/2000/svg\" height=\"24px\"viewBox=\"0 0 24 24\"\n",
       "       width=\"24px\">\n",
       "    <path d=\"M0 0h24v24H0V0z\" fill=\"none\"/>\n",
       "    <path d=\"M18.56 5.44l.94 2.06.94-2.06 2.06-.94-2.06-.94-.94-2.06-.94 2.06-2.06.94zm-11 1L8.5 8.5l.94-2.06 2.06-.94-2.06-.94L8.5 2.5l-.94 2.06-2.06.94zm10 10l.94 2.06.94-2.06 2.06-.94-2.06-.94-.94-2.06-.94 2.06-2.06.94z\"/><path d=\"M17.41 7.96l-1.37-1.37c-.4-.4-.92-.59-1.43-.59-.52 0-1.04.2-1.43.59L10.3 9.45l-7.72 7.72c-.78.78-.78 2.05 0 2.83L4 21.41c.39.39.9.59 1.41.59.51 0 1.02-.2 1.41-.59l7.78-7.78 2.81-2.81c.8-.78.8-2.07 0-2.86zM5.41 20L4 18.59l7.72-7.72 1.47 1.35L5.41 20z\"/>\n",
       "  </svg>\n",
       "      </button>\n",
       "      \n",
       "  <style>\n",
       "    .colab-df-container {\n",
       "      display:flex;\n",
       "      flex-wrap:wrap;\n",
       "      gap: 12px;\n",
       "    }\n",
       "\n",
       "    .colab-df-convert {\n",
       "      background-color: #E8F0FE;\n",
       "      border: none;\n",
       "      border-radius: 50%;\n",
       "      cursor: pointer;\n",
       "      display: none;\n",
       "      fill: #1967D2;\n",
       "      height: 32px;\n",
       "      padding: 0 0 0 0;\n",
       "      width: 32px;\n",
       "    }\n",
       "\n",
       "    .colab-df-convert:hover {\n",
       "      background-color: #E2EBFA;\n",
       "      box-shadow: 0px 1px 2px rgba(60, 64, 67, 0.3), 0px 1px 3px 1px rgba(60, 64, 67, 0.15);\n",
       "      fill: #174EA6;\n",
       "    }\n",
       "\n",
       "    [theme=dark] .colab-df-convert {\n",
       "      background-color: #3B4455;\n",
       "      fill: #D2E3FC;\n",
       "    }\n",
       "\n",
       "    [theme=dark] .colab-df-convert:hover {\n",
       "      background-color: #434B5C;\n",
       "      box-shadow: 0px 1px 3px 1px rgba(0, 0, 0, 0.15);\n",
       "      filter: drop-shadow(0px 1px 2px rgba(0, 0, 0, 0.3));\n",
       "      fill: #FFFFFF;\n",
       "    }\n",
       "  </style>\n",
       "\n",
       "      <script>\n",
       "        const buttonEl =\n",
       "          document.querySelector('#df-b2b8c2f4-09b6-4d3a-9fc0-790fdfe4a726 button.colab-df-convert');\n",
       "        buttonEl.style.display =\n",
       "          google.colab.kernel.accessAllowed ? 'block' : 'none';\n",
       "\n",
       "        async function convertToInteractive(key) {\n",
       "          const element = document.querySelector('#df-b2b8c2f4-09b6-4d3a-9fc0-790fdfe4a726');\n",
       "          const dataTable =\n",
       "            await google.colab.kernel.invokeFunction('convertToInteractive',\n",
       "                                                     [key], {});\n",
       "          if (!dataTable) return;\n",
       "\n",
       "          const docLinkHtml = 'Like what you see? Visit the ' +\n",
       "            '<a target=\"_blank\" href=https://colab.research.google.com/notebooks/data_table.ipynb>data table notebook</a>'\n",
       "            + ' to learn more about interactive tables.';\n",
       "          element.innerHTML = '';\n",
       "          dataTable['output_type'] = 'display_data';\n",
       "          await google.colab.output.renderOutput(dataTable, element);\n",
       "          const docLink = document.createElement('div');\n",
       "          docLink.innerHTML = docLinkHtml;\n",
       "          element.appendChild(docLink);\n",
       "        }\n",
       "      </script>\n",
       "    </div>\n",
       "  </div>\n",
       "  "
      ],
      "text/plain": [
       "                         T_S Count (%)\n",
       "Traffic_Signal Severity               \n",
       "True           1                1.6696\n",
       "               2               72.3130\n",
       "               3               18.1391\n",
       "               4                7.8783"
      ]
     },
     "metadata": {},
     "output_type": "display_data"
    },
    {
     "data": {
      "text/html": [
       "\n",
       "  <div id=\"df-03ae88b4-9c22-4ecc-ae75-0255499916a4\">\n",
       "    <div class=\"colab-df-container\">\n",
       "      <div>\n",
       "<style scoped>\n",
       "    .dataframe tbody tr th:only-of-type {\n",
       "        vertical-align: middle;\n",
       "    }\n",
       "\n",
       "    .dataframe tbody tr th {\n",
       "        vertical-align: top;\n",
       "    }\n",
       "\n",
       "    .dataframe thead th {\n",
       "        text-align: right;\n",
       "    }\n",
       "</style>\n",
       "<table border=\"1\" class=\"dataframe\">\n",
       "  <thead>\n",
       "    <tr style=\"text-align: right;\">\n",
       "      <th></th>\n",
       "      <th></th>\n",
       "      <th>Junction Count (%)</th>\n",
       "    </tr>\n",
       "    <tr>\n",
       "      <th>Junction</th>\n",
       "      <th>Severity</th>\n",
       "      <th></th>\n",
       "    </tr>\n",
       "  </thead>\n",
       "  <tbody>\n",
       "    <tr>\n",
       "      <th rowspan=\"4\" valign=\"top\">True</th>\n",
       "      <th>1</th>\n",
       "      <td>2.1557</td>\n",
       "    </tr>\n",
       "    <tr>\n",
       "      <th>2</th>\n",
       "      <td>79.5475</td>\n",
       "    </tr>\n",
       "    <tr>\n",
       "      <th>3</th>\n",
       "      <td>12.2038</td>\n",
       "    </tr>\n",
       "    <tr>\n",
       "      <th>4</th>\n",
       "      <td>6.0930</td>\n",
       "    </tr>\n",
       "  </tbody>\n",
       "</table>\n",
       "</div>\n",
       "      <button class=\"colab-df-convert\" onclick=\"convertToInteractive('df-03ae88b4-9c22-4ecc-ae75-0255499916a4')\"\n",
       "              title=\"Convert this dataframe to an interactive table.\"\n",
       "              style=\"display:none;\">\n",
       "        \n",
       "  <svg xmlns=\"http://www.w3.org/2000/svg\" height=\"24px\"viewBox=\"0 0 24 24\"\n",
       "       width=\"24px\">\n",
       "    <path d=\"M0 0h24v24H0V0z\" fill=\"none\"/>\n",
       "    <path d=\"M18.56 5.44l.94 2.06.94-2.06 2.06-.94-2.06-.94-.94-2.06-.94 2.06-2.06.94zm-11 1L8.5 8.5l.94-2.06 2.06-.94-2.06-.94L8.5 2.5l-.94 2.06-2.06.94zm10 10l.94 2.06.94-2.06 2.06-.94-2.06-.94-.94-2.06-.94 2.06-2.06.94z\"/><path d=\"M17.41 7.96l-1.37-1.37c-.4-.4-.92-.59-1.43-.59-.52 0-1.04.2-1.43.59L10.3 9.45l-7.72 7.72c-.78.78-.78 2.05 0 2.83L4 21.41c.39.39.9.59 1.41.59.51 0 1.02-.2 1.41-.59l7.78-7.78 2.81-2.81c.8-.78.8-2.07 0-2.86zM5.41 20L4 18.59l7.72-7.72 1.47 1.35L5.41 20z\"/>\n",
       "  </svg>\n",
       "      </button>\n",
       "      \n",
       "  <style>\n",
       "    .colab-df-container {\n",
       "      display:flex;\n",
       "      flex-wrap:wrap;\n",
       "      gap: 12px;\n",
       "    }\n",
       "\n",
       "    .colab-df-convert {\n",
       "      background-color: #E8F0FE;\n",
       "      border: none;\n",
       "      border-radius: 50%;\n",
       "      cursor: pointer;\n",
       "      display: none;\n",
       "      fill: #1967D2;\n",
       "      height: 32px;\n",
       "      padding: 0 0 0 0;\n",
       "      width: 32px;\n",
       "    }\n",
       "\n",
       "    .colab-df-convert:hover {\n",
       "      background-color: #E2EBFA;\n",
       "      box-shadow: 0px 1px 2px rgba(60, 64, 67, 0.3), 0px 1px 3px 1px rgba(60, 64, 67, 0.15);\n",
       "      fill: #174EA6;\n",
       "    }\n",
       "\n",
       "    [theme=dark] .colab-df-convert {\n",
       "      background-color: #3B4455;\n",
       "      fill: #D2E3FC;\n",
       "    }\n",
       "\n",
       "    [theme=dark] .colab-df-convert:hover {\n",
       "      background-color: #434B5C;\n",
       "      box-shadow: 0px 1px 3px 1px rgba(0, 0, 0, 0.15);\n",
       "      filter: drop-shadow(0px 1px 2px rgba(0, 0, 0, 0.3));\n",
       "      fill: #FFFFFF;\n",
       "    }\n",
       "  </style>\n",
       "\n",
       "      <script>\n",
       "        const buttonEl =\n",
       "          document.querySelector('#df-03ae88b4-9c22-4ecc-ae75-0255499916a4 button.colab-df-convert');\n",
       "        buttonEl.style.display =\n",
       "          google.colab.kernel.accessAllowed ? 'block' : 'none';\n",
       "\n",
       "        async function convertToInteractive(key) {\n",
       "          const element = document.querySelector('#df-03ae88b4-9c22-4ecc-ae75-0255499916a4');\n",
       "          const dataTable =\n",
       "            await google.colab.kernel.invokeFunction('convertToInteractive',\n",
       "                                                     [key], {});\n",
       "          if (!dataTable) return;\n",
       "\n",
       "          const docLinkHtml = 'Like what you see? Visit the ' +\n",
       "            '<a target=\"_blank\" href=https://colab.research.google.com/notebooks/data_table.ipynb>data table notebook</a>'\n",
       "            + ' to learn more about interactive tables.';\n",
       "          element.innerHTML = '';\n",
       "          dataTable['output_type'] = 'display_data';\n",
       "          await google.colab.output.renderOutput(dataTable, element);\n",
       "          const docLink = document.createElement('div');\n",
       "          docLink.innerHTML = docLinkHtml;\n",
       "          element.appendChild(docLink);\n",
       "        }\n",
       "      </script>\n",
       "    </div>\n",
       "  </div>\n",
       "  "
      ],
      "text/plain": [
       "                   Junction Count (%)\n",
       "Junction Severity                    \n",
       "True     1                     2.1557\n",
       "         2                    79.5475\n",
       "         3                    12.2038\n",
       "         4                     6.0930"
      ]
     },
     "metadata": {},
     "output_type": "display_data"
    },
    {
     "data": {
      "text/html": [
       "\n",
       "  <div id=\"df-bca6efe8-f9c1-4b93-9b61-11dd8c00dada\">\n",
       "    <div class=\"colab-df-container\">\n",
       "      <div>\n",
       "<style scoped>\n",
       "    .dataframe tbody tr th:only-of-type {\n",
       "        vertical-align: middle;\n",
       "    }\n",
       "\n",
       "    .dataframe tbody tr th {\n",
       "        vertical-align: top;\n",
       "    }\n",
       "\n",
       "    .dataframe thead th {\n",
       "        text-align: right;\n",
       "    }\n",
       "</style>\n",
       "<table border=\"1\" class=\"dataframe\">\n",
       "  <thead>\n",
       "    <tr style=\"text-align: right;\">\n",
       "      <th></th>\n",
       "      <th></th>\n",
       "      <th>Crossing Count (%)</th>\n",
       "    </tr>\n",
       "    <tr>\n",
       "      <th>Crossing</th>\n",
       "      <th>Severity</th>\n",
       "      <th></th>\n",
       "    </tr>\n",
       "  </thead>\n",
       "  <tbody>\n",
       "    <tr>\n",
       "      <th rowspan=\"4\" valign=\"top\">True</th>\n",
       "      <th>1</th>\n",
       "      <td>1.5732</td>\n",
       "    </tr>\n",
       "    <tr>\n",
       "      <th>2</th>\n",
       "      <td>73.9381</td>\n",
       "    </tr>\n",
       "    <tr>\n",
       "      <th>3</th>\n",
       "      <td>15.3644</td>\n",
       "    </tr>\n",
       "    <tr>\n",
       "      <th>4</th>\n",
       "      <td>9.1243</td>\n",
       "    </tr>\n",
       "  </tbody>\n",
       "</table>\n",
       "</div>\n",
       "      <button class=\"colab-df-convert\" onclick=\"convertToInteractive('df-bca6efe8-f9c1-4b93-9b61-11dd8c00dada')\"\n",
       "              title=\"Convert this dataframe to an interactive table.\"\n",
       "              style=\"display:none;\">\n",
       "        \n",
       "  <svg xmlns=\"http://www.w3.org/2000/svg\" height=\"24px\"viewBox=\"0 0 24 24\"\n",
       "       width=\"24px\">\n",
       "    <path d=\"M0 0h24v24H0V0z\" fill=\"none\"/>\n",
       "    <path d=\"M18.56 5.44l.94 2.06.94-2.06 2.06-.94-2.06-.94-.94-2.06-.94 2.06-2.06.94zm-11 1L8.5 8.5l.94-2.06 2.06-.94-2.06-.94L8.5 2.5l-.94 2.06-2.06.94zm10 10l.94 2.06.94-2.06 2.06-.94-2.06-.94-.94-2.06-.94 2.06-2.06.94z\"/><path d=\"M17.41 7.96l-1.37-1.37c-.4-.4-.92-.59-1.43-.59-.52 0-1.04.2-1.43.59L10.3 9.45l-7.72 7.72c-.78.78-.78 2.05 0 2.83L4 21.41c.39.39.9.59 1.41.59.51 0 1.02-.2 1.41-.59l7.78-7.78 2.81-2.81c.8-.78.8-2.07 0-2.86zM5.41 20L4 18.59l7.72-7.72 1.47 1.35L5.41 20z\"/>\n",
       "  </svg>\n",
       "      </button>\n",
       "      \n",
       "  <style>\n",
       "    .colab-df-container {\n",
       "      display:flex;\n",
       "      flex-wrap:wrap;\n",
       "      gap: 12px;\n",
       "    }\n",
       "\n",
       "    .colab-df-convert {\n",
       "      background-color: #E8F0FE;\n",
       "      border: none;\n",
       "      border-radius: 50%;\n",
       "      cursor: pointer;\n",
       "      display: none;\n",
       "      fill: #1967D2;\n",
       "      height: 32px;\n",
       "      padding: 0 0 0 0;\n",
       "      width: 32px;\n",
       "    }\n",
       "\n",
       "    .colab-df-convert:hover {\n",
       "      background-color: #E2EBFA;\n",
       "      box-shadow: 0px 1px 2px rgba(60, 64, 67, 0.3), 0px 1px 3px 1px rgba(60, 64, 67, 0.15);\n",
       "      fill: #174EA6;\n",
       "    }\n",
       "\n",
       "    [theme=dark] .colab-df-convert {\n",
       "      background-color: #3B4455;\n",
       "      fill: #D2E3FC;\n",
       "    }\n",
       "\n",
       "    [theme=dark] .colab-df-convert:hover {\n",
       "      background-color: #434B5C;\n",
       "      box-shadow: 0px 1px 3px 1px rgba(0, 0, 0, 0.15);\n",
       "      filter: drop-shadow(0px 1px 2px rgba(0, 0, 0, 0.3));\n",
       "      fill: #FFFFFF;\n",
       "    }\n",
       "  </style>\n",
       "\n",
       "      <script>\n",
       "        const buttonEl =\n",
       "          document.querySelector('#df-bca6efe8-f9c1-4b93-9b61-11dd8c00dada button.colab-df-convert');\n",
       "        buttonEl.style.display =\n",
       "          google.colab.kernel.accessAllowed ? 'block' : 'none';\n",
       "\n",
       "        async function convertToInteractive(key) {\n",
       "          const element = document.querySelector('#df-bca6efe8-f9c1-4b93-9b61-11dd8c00dada');\n",
       "          const dataTable =\n",
       "            await google.colab.kernel.invokeFunction('convertToInteractive',\n",
       "                                                     [key], {});\n",
       "          if (!dataTable) return;\n",
       "\n",
       "          const docLinkHtml = 'Like what you see? Visit the ' +\n",
       "            '<a target=\"_blank\" href=https://colab.research.google.com/notebooks/data_table.ipynb>data table notebook</a>'\n",
       "            + ' to learn more about interactive tables.';\n",
       "          element.innerHTML = '';\n",
       "          dataTable['output_type'] = 'display_data';\n",
       "          await google.colab.output.renderOutput(dataTable, element);\n",
       "          const docLink = document.createElement('div');\n",
       "          docLink.innerHTML = docLinkHtml;\n",
       "          element.appendChild(docLink);\n",
       "        }\n",
       "      </script>\n",
       "    </div>\n",
       "  </div>\n",
       "  "
      ],
      "text/plain": [
       "                   Crossing Count (%)\n",
       "Crossing Severity                    \n",
       "True     1                     1.5732\n",
       "         2                    73.9381\n",
       "         3                    15.3644\n",
       "         4                     9.1243"
      ]
     },
     "metadata": {},
     "output_type": "display_data"
    },
    {
     "data": {
      "text/html": [
       "\n",
       "  <div id=\"df-0bc3483b-61ff-4519-a506-b3e79d720e2b\">\n",
       "    <div class=\"colab-df-container\">\n",
       "      <div>\n",
       "<style scoped>\n",
       "    .dataframe tbody tr th:only-of-type {\n",
       "        vertical-align: middle;\n",
       "    }\n",
       "\n",
       "    .dataframe tbody tr th {\n",
       "        vertical-align: top;\n",
       "    }\n",
       "\n",
       "    .dataframe thead th {\n",
       "        text-align: right;\n",
       "    }\n",
       "</style>\n",
       "<table border=\"1\" class=\"dataframe\">\n",
       "  <thead>\n",
       "    <tr style=\"text-align: right;\">\n",
       "      <th></th>\n",
       "      <th></th>\n",
       "      <th>Amenity Count (%)</th>\n",
       "    </tr>\n",
       "    <tr>\n",
       "      <th>Amenity</th>\n",
       "      <th>Severity</th>\n",
       "      <th></th>\n",
       "    </tr>\n",
       "  </thead>\n",
       "  <tbody>\n",
       "    <tr>\n",
       "      <th rowspan=\"4\" valign=\"top\">True</th>\n",
       "      <th>1</th>\n",
       "      <td>1.6477</td>\n",
       "    </tr>\n",
       "    <tr>\n",
       "      <th>2</th>\n",
       "      <td>73.2573</td>\n",
       "    </tr>\n",
       "    <tr>\n",
       "      <th>3</th>\n",
       "      <td>15.7161</td>\n",
       "    </tr>\n",
       "    <tr>\n",
       "      <th>4</th>\n",
       "      <td>9.3790</td>\n",
       "    </tr>\n",
       "  </tbody>\n",
       "</table>\n",
       "</div>\n",
       "      <button class=\"colab-df-convert\" onclick=\"convertToInteractive('df-0bc3483b-61ff-4519-a506-b3e79d720e2b')\"\n",
       "              title=\"Convert this dataframe to an interactive table.\"\n",
       "              style=\"display:none;\">\n",
       "        \n",
       "  <svg xmlns=\"http://www.w3.org/2000/svg\" height=\"24px\"viewBox=\"0 0 24 24\"\n",
       "       width=\"24px\">\n",
       "    <path d=\"M0 0h24v24H0V0z\" fill=\"none\"/>\n",
       "    <path d=\"M18.56 5.44l.94 2.06.94-2.06 2.06-.94-2.06-.94-.94-2.06-.94 2.06-2.06.94zm-11 1L8.5 8.5l.94-2.06 2.06-.94-2.06-.94L8.5 2.5l-.94 2.06-2.06.94zm10 10l.94 2.06.94-2.06 2.06-.94-2.06-.94-.94-2.06-.94 2.06-2.06.94z\"/><path d=\"M17.41 7.96l-1.37-1.37c-.4-.4-.92-.59-1.43-.59-.52 0-1.04.2-1.43.59L10.3 9.45l-7.72 7.72c-.78.78-.78 2.05 0 2.83L4 21.41c.39.39.9.59 1.41.59.51 0 1.02-.2 1.41-.59l7.78-7.78 2.81-2.81c.8-.78.8-2.07 0-2.86zM5.41 20L4 18.59l7.72-7.72 1.47 1.35L5.41 20z\"/>\n",
       "  </svg>\n",
       "      </button>\n",
       "      \n",
       "  <style>\n",
       "    .colab-df-container {\n",
       "      display:flex;\n",
       "      flex-wrap:wrap;\n",
       "      gap: 12px;\n",
       "    }\n",
       "\n",
       "    .colab-df-convert {\n",
       "      background-color: #E8F0FE;\n",
       "      border: none;\n",
       "      border-radius: 50%;\n",
       "      cursor: pointer;\n",
       "      display: none;\n",
       "      fill: #1967D2;\n",
       "      height: 32px;\n",
       "      padding: 0 0 0 0;\n",
       "      width: 32px;\n",
       "    }\n",
       "\n",
       "    .colab-df-convert:hover {\n",
       "      background-color: #E2EBFA;\n",
       "      box-shadow: 0px 1px 2px rgba(60, 64, 67, 0.3), 0px 1px 3px 1px rgba(60, 64, 67, 0.15);\n",
       "      fill: #174EA6;\n",
       "    }\n",
       "\n",
       "    [theme=dark] .colab-df-convert {\n",
       "      background-color: #3B4455;\n",
       "      fill: #D2E3FC;\n",
       "    }\n",
       "\n",
       "    [theme=dark] .colab-df-convert:hover {\n",
       "      background-color: #434B5C;\n",
       "      box-shadow: 0px 1px 3px 1px rgba(0, 0, 0, 0.15);\n",
       "      filter: drop-shadow(0px 1px 2px rgba(0, 0, 0, 0.3));\n",
       "      fill: #FFFFFF;\n",
       "    }\n",
       "  </style>\n",
       "\n",
       "      <script>\n",
       "        const buttonEl =\n",
       "          document.querySelector('#df-0bc3483b-61ff-4519-a506-b3e79d720e2b button.colab-df-convert');\n",
       "        buttonEl.style.display =\n",
       "          google.colab.kernel.accessAllowed ? 'block' : 'none';\n",
       "\n",
       "        async function convertToInteractive(key) {\n",
       "          const element = document.querySelector('#df-0bc3483b-61ff-4519-a506-b3e79d720e2b');\n",
       "          const dataTable =\n",
       "            await google.colab.kernel.invokeFunction('convertToInteractive',\n",
       "                                                     [key], {});\n",
       "          if (!dataTable) return;\n",
       "\n",
       "          const docLinkHtml = 'Like what you see? Visit the ' +\n",
       "            '<a target=\"_blank\" href=https://colab.research.google.com/notebooks/data_table.ipynb>data table notebook</a>'\n",
       "            + ' to learn more about interactive tables.';\n",
       "          element.innerHTML = '';\n",
       "          dataTable['output_type'] = 'display_data';\n",
       "          await google.colab.output.renderOutput(dataTable, element);\n",
       "          const docLink = document.createElement('div');\n",
       "          docLink.innerHTML = docLinkHtml;\n",
       "          element.appendChild(docLink);\n",
       "        }\n",
       "      </script>\n",
       "    </div>\n",
       "  </div>\n",
       "  "
      ],
      "text/plain": [
       "                  Amenity Count (%)\n",
       "Amenity Severity                   \n",
       "True    1                    1.6477\n",
       "        2                   73.2573\n",
       "        3                   15.7161\n",
       "        4                    9.3790"
      ]
     },
     "metadata": {},
     "output_type": "display_data"
    },
    {
     "data": {
      "text/html": [
       "\n",
       "  <div id=\"df-0aaeece2-c9a6-4cc4-a4fa-85655483e938\">\n",
       "    <div class=\"colab-df-container\">\n",
       "      <div>\n",
       "<style scoped>\n",
       "    .dataframe tbody tr th:only-of-type {\n",
       "        vertical-align: middle;\n",
       "    }\n",
       "\n",
       "    .dataframe tbody tr th {\n",
       "        vertical-align: top;\n",
       "    }\n",
       "\n",
       "    .dataframe thead th {\n",
       "        text-align: right;\n",
       "    }\n",
       "</style>\n",
       "<table border=\"1\" class=\"dataframe\">\n",
       "  <thead>\n",
       "    <tr style=\"text-align: right;\">\n",
       "      <th></th>\n",
       "      <th></th>\n",
       "      <th>Station Count (%)</th>\n",
       "    </tr>\n",
       "    <tr>\n",
       "      <th>Station</th>\n",
       "      <th>Severity</th>\n",
       "      <th></th>\n",
       "    </tr>\n",
       "  </thead>\n",
       "  <tbody>\n",
       "    <tr>\n",
       "      <th rowspan=\"4\" valign=\"top\">True</th>\n",
       "      <th>1</th>\n",
       "      <td>0.9585</td>\n",
       "    </tr>\n",
       "    <tr>\n",
       "      <th>2</th>\n",
       "      <td>71.5655</td>\n",
       "    </tr>\n",
       "    <tr>\n",
       "      <th>3</th>\n",
       "      <td>12.6198</td>\n",
       "    </tr>\n",
       "    <tr>\n",
       "      <th>4</th>\n",
       "      <td>14.8562</td>\n",
       "    </tr>\n",
       "  </tbody>\n",
       "</table>\n",
       "</div>\n",
       "      <button class=\"colab-df-convert\" onclick=\"convertToInteractive('df-0aaeece2-c9a6-4cc4-a4fa-85655483e938')\"\n",
       "              title=\"Convert this dataframe to an interactive table.\"\n",
       "              style=\"display:none;\">\n",
       "        \n",
       "  <svg xmlns=\"http://www.w3.org/2000/svg\" height=\"24px\"viewBox=\"0 0 24 24\"\n",
       "       width=\"24px\">\n",
       "    <path d=\"M0 0h24v24H0V0z\" fill=\"none\"/>\n",
       "    <path d=\"M18.56 5.44l.94 2.06.94-2.06 2.06-.94-2.06-.94-.94-2.06-.94 2.06-2.06.94zm-11 1L8.5 8.5l.94-2.06 2.06-.94-2.06-.94L8.5 2.5l-.94 2.06-2.06.94zm10 10l.94 2.06.94-2.06 2.06-.94-2.06-.94-.94-2.06-.94 2.06-2.06.94z\"/><path d=\"M17.41 7.96l-1.37-1.37c-.4-.4-.92-.59-1.43-.59-.52 0-1.04.2-1.43.59L10.3 9.45l-7.72 7.72c-.78.78-.78 2.05 0 2.83L4 21.41c.39.39.9.59 1.41.59.51 0 1.02-.2 1.41-.59l7.78-7.78 2.81-2.81c.8-.78.8-2.07 0-2.86zM5.41 20L4 18.59l7.72-7.72 1.47 1.35L5.41 20z\"/>\n",
       "  </svg>\n",
       "      </button>\n",
       "      \n",
       "  <style>\n",
       "    .colab-df-container {\n",
       "      display:flex;\n",
       "      flex-wrap:wrap;\n",
       "      gap: 12px;\n",
       "    }\n",
       "\n",
       "    .colab-df-convert {\n",
       "      background-color: #E8F0FE;\n",
       "      border: none;\n",
       "      border-radius: 50%;\n",
       "      cursor: pointer;\n",
       "      display: none;\n",
       "      fill: #1967D2;\n",
       "      height: 32px;\n",
       "      padding: 0 0 0 0;\n",
       "      width: 32px;\n",
       "    }\n",
       "\n",
       "    .colab-df-convert:hover {\n",
       "      background-color: #E2EBFA;\n",
       "      box-shadow: 0px 1px 2px rgba(60, 64, 67, 0.3), 0px 1px 3px 1px rgba(60, 64, 67, 0.15);\n",
       "      fill: #174EA6;\n",
       "    }\n",
       "\n",
       "    [theme=dark] .colab-df-convert {\n",
       "      background-color: #3B4455;\n",
       "      fill: #D2E3FC;\n",
       "    }\n",
       "\n",
       "    [theme=dark] .colab-df-convert:hover {\n",
       "      background-color: #434B5C;\n",
       "      box-shadow: 0px 1px 3px 1px rgba(0, 0, 0, 0.15);\n",
       "      filter: drop-shadow(0px 1px 2px rgba(0, 0, 0, 0.3));\n",
       "      fill: #FFFFFF;\n",
       "    }\n",
       "  </style>\n",
       "\n",
       "      <script>\n",
       "        const buttonEl =\n",
       "          document.querySelector('#df-0aaeece2-c9a6-4cc4-a4fa-85655483e938 button.colab-df-convert');\n",
       "        buttonEl.style.display =\n",
       "          google.colab.kernel.accessAllowed ? 'block' : 'none';\n",
       "\n",
       "        async function convertToInteractive(key) {\n",
       "          const element = document.querySelector('#df-0aaeece2-c9a6-4cc4-a4fa-85655483e938');\n",
       "          const dataTable =\n",
       "            await google.colab.kernel.invokeFunction('convertToInteractive',\n",
       "                                                     [key], {});\n",
       "          if (!dataTable) return;\n",
       "\n",
       "          const docLinkHtml = 'Like what you see? Visit the ' +\n",
       "            '<a target=\"_blank\" href=https://colab.research.google.com/notebooks/data_table.ipynb>data table notebook</a>'\n",
       "            + ' to learn more about interactive tables.';\n",
       "          element.innerHTML = '';\n",
       "          dataTable['output_type'] = 'display_data';\n",
       "          await google.colab.output.renderOutput(dataTable, element);\n",
       "          const docLink = document.createElement('div');\n",
       "          docLink.innerHTML = docLinkHtml;\n",
       "          element.appendChild(docLink);\n",
       "        }\n",
       "      </script>\n",
       "    </div>\n",
       "  </div>\n",
       "  "
      ],
      "text/plain": [
       "                  Station Count (%)\n",
       "Station Severity                   \n",
       "True    1                    0.9585\n",
       "        2                   71.5655\n",
       "        3                   12.6198\n",
       "        4                   14.8562"
      ]
     },
     "metadata": {},
     "output_type": "display_data"
    },
    {
     "data": {
      "text/html": [
       "\n",
       "  <div id=\"df-732e62b1-268c-422d-b024-447b5c8bb383\">\n",
       "    <div class=\"colab-df-container\">\n",
       "      <div>\n",
       "<style scoped>\n",
       "    .dataframe tbody tr th:only-of-type {\n",
       "        vertical-align: middle;\n",
       "    }\n",
       "\n",
       "    .dataframe tbody tr th {\n",
       "        vertical-align: top;\n",
       "    }\n",
       "\n",
       "    .dataframe thead th {\n",
       "        text-align: right;\n",
       "    }\n",
       "</style>\n",
       "<table border=\"1\" class=\"dataframe\">\n",
       "  <thead>\n",
       "    <tr style=\"text-align: right;\">\n",
       "      <th></th>\n",
       "      <th></th>\n",
       "      <th>Stop Count (%)</th>\n",
       "    </tr>\n",
       "    <tr>\n",
       "      <th>Stop</th>\n",
       "      <th>Severity</th>\n",
       "      <th></th>\n",
       "    </tr>\n",
       "  </thead>\n",
       "  <tbody>\n",
       "    <tr>\n",
       "      <th rowspan=\"4\" valign=\"top\">True</th>\n",
       "      <th>1</th>\n",
       "      <td>0.8368</td>\n",
       "    </tr>\n",
       "    <tr>\n",
       "      <th>2</th>\n",
       "      <td>75.1046</td>\n",
       "    </tr>\n",
       "    <tr>\n",
       "      <th>3</th>\n",
       "      <td>11.7155</td>\n",
       "    </tr>\n",
       "    <tr>\n",
       "      <th>4</th>\n",
       "      <td>12.3431</td>\n",
       "    </tr>\n",
       "  </tbody>\n",
       "</table>\n",
       "</div>\n",
       "      <button class=\"colab-df-convert\" onclick=\"convertToInteractive('df-732e62b1-268c-422d-b024-447b5c8bb383')\"\n",
       "              title=\"Convert this dataframe to an interactive table.\"\n",
       "              style=\"display:none;\">\n",
       "        \n",
       "  <svg xmlns=\"http://www.w3.org/2000/svg\" height=\"24px\"viewBox=\"0 0 24 24\"\n",
       "       width=\"24px\">\n",
       "    <path d=\"M0 0h24v24H0V0z\" fill=\"none\"/>\n",
       "    <path d=\"M18.56 5.44l.94 2.06.94-2.06 2.06-.94-2.06-.94-.94-2.06-.94 2.06-2.06.94zm-11 1L8.5 8.5l.94-2.06 2.06-.94-2.06-.94L8.5 2.5l-.94 2.06-2.06.94zm10 10l.94 2.06.94-2.06 2.06-.94-2.06-.94-.94-2.06-.94 2.06-2.06.94z\"/><path d=\"M17.41 7.96l-1.37-1.37c-.4-.4-.92-.59-1.43-.59-.52 0-1.04.2-1.43.59L10.3 9.45l-7.72 7.72c-.78.78-.78 2.05 0 2.83L4 21.41c.39.39.9.59 1.41.59.51 0 1.02-.2 1.41-.59l7.78-7.78 2.81-2.81c.8-.78.8-2.07 0-2.86zM5.41 20L4 18.59l7.72-7.72 1.47 1.35L5.41 20z\"/>\n",
       "  </svg>\n",
       "      </button>\n",
       "      \n",
       "  <style>\n",
       "    .colab-df-container {\n",
       "      display:flex;\n",
       "      flex-wrap:wrap;\n",
       "      gap: 12px;\n",
       "    }\n",
       "\n",
       "    .colab-df-convert {\n",
       "      background-color: #E8F0FE;\n",
       "      border: none;\n",
       "      border-radius: 50%;\n",
       "      cursor: pointer;\n",
       "      display: none;\n",
       "      fill: #1967D2;\n",
       "      height: 32px;\n",
       "      padding: 0 0 0 0;\n",
       "      width: 32px;\n",
       "    }\n",
       "\n",
       "    .colab-df-convert:hover {\n",
       "      background-color: #E2EBFA;\n",
       "      box-shadow: 0px 1px 2px rgba(60, 64, 67, 0.3), 0px 1px 3px 1px rgba(60, 64, 67, 0.15);\n",
       "      fill: #174EA6;\n",
       "    }\n",
       "\n",
       "    [theme=dark] .colab-df-convert {\n",
       "      background-color: #3B4455;\n",
       "      fill: #D2E3FC;\n",
       "    }\n",
       "\n",
       "    [theme=dark] .colab-df-convert:hover {\n",
       "      background-color: #434B5C;\n",
       "      box-shadow: 0px 1px 3px 1px rgba(0, 0, 0, 0.15);\n",
       "      filter: drop-shadow(0px 1px 2px rgba(0, 0, 0, 0.3));\n",
       "      fill: #FFFFFF;\n",
       "    }\n",
       "  </style>\n",
       "\n",
       "      <script>\n",
       "        const buttonEl =\n",
       "          document.querySelector('#df-732e62b1-268c-422d-b024-447b5c8bb383 button.colab-df-convert');\n",
       "        buttonEl.style.display =\n",
       "          google.colab.kernel.accessAllowed ? 'block' : 'none';\n",
       "\n",
       "        async function convertToInteractive(key) {\n",
       "          const element = document.querySelector('#df-732e62b1-268c-422d-b024-447b5c8bb383');\n",
       "          const dataTable =\n",
       "            await google.colab.kernel.invokeFunction('convertToInteractive',\n",
       "                                                     [key], {});\n",
       "          if (!dataTable) return;\n",
       "\n",
       "          const docLinkHtml = 'Like what you see? Visit the ' +\n",
       "            '<a target=\"_blank\" href=https://colab.research.google.com/notebooks/data_table.ipynb>data table notebook</a>'\n",
       "            + ' to learn more about interactive tables.';\n",
       "          element.innerHTML = '';\n",
       "          dataTable['output_type'] = 'display_data';\n",
       "          await google.colab.output.renderOutput(dataTable, element);\n",
       "          const docLink = document.createElement('div');\n",
       "          docLink.innerHTML = docLinkHtml;\n",
       "          element.appendChild(docLink);\n",
       "        }\n",
       "      </script>\n",
       "    </div>\n",
       "  </div>\n",
       "  "
      ],
      "text/plain": [
       "               Stop Count (%)\n",
       "Stop Severity                \n",
       "True 1                 0.8368\n",
       "     2                75.1046\n",
       "     3                11.7155\n",
       "     4                12.3431"
      ]
     },
     "metadata": {},
     "output_type": "display_data"
    }
   ],
   "source": [
    "## Summarise poi data\n",
    "display(df[poi1].agg(['sum']))\n",
    "display(df.groupby(['Severity']).agg({'Amenity':['sum'],'Bump':['sum'],'Crossing':['sum'], 'Give_Way':['sum'], 'Junction':['sum'], 'No_Exit':['sum'], 'Railway':['sum'], 'Roundabout':['sum'], 'Station':['sum'], 'Stop':['sum'], 'Traffic_Calming':['sum'], 'Traffic_Signal':['sum'], 'Any_poi':['sum']}))\n",
    "\n",
    "## Any_poi vs Severity\n",
    "df_poi_false = df[(df.Any_poi == False)].groupby(['Any_poi','Severity']).agg({ 'Any_poi':['count']}).apply(lambda x:100 * x / float(x.sum()))\n",
    "df_poi_false.columns = ['Any_poi Count (%)']\n",
    "display(df_poi_false)\n",
    "                                                                                                           \n",
    "df_poi_true = df[(df.Any_poi == True)].groupby(['Any_poi','Severity']).agg({ 'Any_poi':['count']}).apply(lambda x:100 * x / float(x.sum()))\n",
    "df_poi_true.columns = ['Any_poi Count (%)']\n",
    "display(df_poi_true)\n",
    "\n",
    "## Individual poi (Top 6) vs Severity\n",
    "df_Traffic_Signal_true = df[(df.Traffic_Signal == True)].groupby(['Traffic_Signal','Severity']).agg({ 'Traffic_Signal':['count']}).apply(lambda x:100 * x / float(x.sum()))\n",
    "df_Traffic_Signal_true.columns = ['T_S Count (%)']\n",
    "display(df_Traffic_Signal_true)\n",
    "                                                                                                           \n",
    "df_Junction_true = df[(df.Junction == True)].groupby(['Junction','Severity']).agg({ 'Junction':['count']}).apply(lambda x:100 * x / float(x.sum()))\n",
    "df_Junction_true.columns = ['Junction Count (%)']\n",
    "display(df_Junction_true)\n",
    "\n",
    "df_Crossing_true = df[(df.Crossing == True)].groupby(['Crossing','Severity']).agg({ 'Crossing':['count']}).apply(lambda x:100 * x / float(x.sum()))\n",
    "df_Crossing_true.columns = ['Crossing Count (%)']\n",
    "display(df_Crossing_true)\n",
    "\n",
    "df_Amenity_true = df[(df.Amenity == True)].groupby(['Amenity','Severity']).agg({ 'Amenity':['count']}).apply(lambda x:100 * x / float(x.sum()))\n",
    "df_Amenity_true.columns = ['Amenity Count (%)']\n",
    "display(df_Amenity_true)\n",
    "\n",
    "df_Station_true = df[(df.Station == True)].groupby(['Station','Severity']).agg({ 'Station':['count']}).apply(lambda x:100 * x / float(x.sum()))\n",
    "df_Station_true.columns = ['Station Count (%)']\n",
    "display(df_Station_true)\n",
    "\n",
    "df_Stop_true = df[(df.Stop == True)].groupby(['Stop','Severity']).agg({ 'Stop':['count']}).apply(lambda x:100 * x / float(x.sum()))\n",
    "df_Stop_true.columns = ['Stop Count (%)']\n",
    "display(df_Stop_true)"
   ]
  },
  {
   "cell_type": "code",
   "execution_count": null,
   "metadata": {
    "colab": {
     "base_uri": "https://localhost:8080/",
     "height": 264
    },
    "id": "kzY93HYHR1-i",
    "outputId": "d83e6aca-c804-4d59-9af0-a51cc3dde01e"
   },
   "outputs": [
    {
     "data": {
      "image/png": "[encoded data removed]",
      "text/plain": [
       "<Figure size 432x288 with 1 Axes>"
      ]
     },
     "metadata": {},
     "output_type": "display_data"
    }
   ],
   "source": [
    "## Pie plot of Any_poi variable\n",
    "\n",
    "labels = ['False', 'True']\n",
    "    \n",
    "plt.pie(df['Any_poi'].value_counts(), labels = labels,autopct = '%1.1f%%', labeldistance=1.1,textprops={'fontsize': 8}, explode=[0, 0.15])\n",
    "plt.title(\"Any_poi\", fontsize = 12, color='black')\n",
    "plt.show()"
   ]
  },
  {
   "cell_type": "code",
   "execution_count": null,
   "metadata": {
    "colab": {
     "base_uri": "https://localhost:8080/",
     "height": 714
    },
    "id": "3ZzYj6SYWOvM",
    "outputId": "cfd5fe60-b0ae-4f3c-ce21-7bbfaa978dd4"
   },
   "outputs": [
    {
     "data": {
      "image/png": "[encoded data removed]",
      "text/plain": [
       "<Figure size 720x864 with 12 Axes>"
      ]
     },
     "metadata": {},
     "output_type": "display_data"
    }
   ],
   "source": [
    "## Pie plot of individual poi variables\n",
    "\n",
    "fig, ((p1, p2, p3), (p4, p5, p6), (p7, p8, p9), (p10, p11, p12)) = plt.subplots(nrows=4, ncols=3, figsize = (10,12))\n",
    "\n",
    "count = 0\n",
    "\n",
    "for i in [p1, p2, p3, p4, p5, p6, p7, p8, p9, p10, p11, p12]:\n",
    "    \n",
    "    size = list(df[poi[count]].value_counts())\n",
    "    if len(size) != 2:\n",
    "      size.append(0)\n",
    "    \n",
    "    labels = ['False', 'True']\n",
    "    \n",
    "    i.pie(size, labels = labels,autopct = '%1.1f%%', labeldistance=1.1,textprops={'fontsize': 8}, explode=[0, 0.15])\n",
    "\n",
    "    title = '\\n{}'.format(poi[count])\n",
    "\n",
    "    i.set_title(title, fontsize = 12, color='black')\n",
    "    \n",
    "    count += 1"
   ]
  },
  {
   "cell_type": "code",
   "execution_count": null,
   "metadata": {
    "colab": {
     "base_uri": "https://localhost:8080/",
     "height": 295
    },
    "id": "OEVReLyESG3i",
    "outputId": "303afbe6-fae7-4a9f-9670-4529153fdeef"
   },
   "outputs": [
    {
     "data": {
      "image/png": "[encoded data removed]",
      "text/plain": [
       "<Figure size 432x288 with 1 Axes>"
      ]
     },
     "metadata": {
      "needs_background": "light"
     },
     "output_type": "display_data"
    }
   ],
   "source": [
    "## Plot poi: Any_poi (Summarise Severity category)\n",
    "severity_prop = pd.DataFrame()\n",
    "severity_prop['count'] = df[(df.Any_poi == True)]['Severity'].groupby(df['Severity']).count()\n",
    "severity_prop['percent'] = (severity_prop['count'] / severity_prop['count'].sum())*100\n",
    "severity_prop\n",
    "\n",
    "# Plot percentage of severity by category\n",
    "severity_prop['percent'].plot(kind='bar', title= 'Any_poi', xlabel='Severity', ylabel='Ratio %', rot=0, colormap=ListedColormap(sns.color_palette('mako')))\n",
    "plt.show()"
   ]
  },
  {
   "cell_type": "code",
   "execution_count": null,
   "metadata": {
    "colab": {
     "base_uri": "https://localhost:8080/",
     "height": 295
    },
    "id": "VZnooF2jWaHq",
    "outputId": "d09222d9-4684-4ae4-88d3-ff6182a867df"
   },
   "outputs": [
    {
     "data": {
      "image/png": "[encoded data removed]",
      "text/plain": [
       "<Figure size 432x288 with 1 Axes>"
      ]
     },
     "metadata": {
      "needs_background": "light"
     },
     "output_type": "display_data"
    }
   ],
   "source": [
    "## Plot poi: Amenity (Summarise Severity category)\n",
    "severity_prop = pd.DataFrame()\n",
    "severity_prop['count'] = df[(df.Amenity == True)]['Severity'].groupby(df['Severity']).count()\n",
    "severity_prop['percent'] = (severity_prop['count'] / severity_prop['count'].sum())*100\n",
    "severity_prop\n",
    "\n",
    "# Plot percentage of severity by category\n",
    "severity_prop['percent'].plot(kind='bar', title= 'Amenity', xlabel='Severity', ylabel='Ratio %', rot=0, colormap=ListedColormap(sns.color_palette('mako')))\n",
    "plt.show()"
   ]
  },
  {
   "cell_type": "code",
   "execution_count": null,
   "metadata": {
    "colab": {
     "base_uri": "https://localhost:8080/",
     "height": 295
    },
    "id": "JIpZeEMlWYfR",
    "outputId": "ac5dc98e-46f6-4b4b-b272-6f8de35e9647"
   },
   "outputs": [
    {
     "data": {
      "image/png": "[encoded data removed]",
      "text/plain": [
       "<Figure size 432x288 with 1 Axes>"
      ]
     },
     "metadata": {
      "needs_background": "light"
     },
     "output_type": "display_data"
    }
   ],
   "source": [
    "## Plot poi: Bump (Summarise Severity category)\n",
    "severity_prop = pd.DataFrame()\n",
    "severity_prop['count'] = df[(df.Bump== True)]['Severity'].groupby(df['Severity']).count()\n",
    "severity_prop['percent'] = (severity_prop['count'] / severity_prop['count'].sum())*100\n",
    "severity_prop\n",
    "\n",
    "# Plot percentage of severity by category\n",
    "severity_prop['percent'].plot(kind='bar', title= 'Bump', xlabel='Severity', ylabel='Ratio %', rot=0, colormap=ListedColormap(sns.color_palette('mako')))\n",
    "plt.show()"
   ]
  },
  {
   "cell_type": "code",
   "execution_count": null,
   "metadata": {
    "colab": {
     "base_uri": "https://localhost:8080/",
     "height": 295
    },
    "id": "uwkVpxLTDTEs",
    "outputId": "6d8103a7-a78a-44fb-c2c5-f465eee2d236"
   },
   "outputs": [
    {
     "data": {
      "image/png": "[encoded data removed]",
      "text/plain": [
       "<Figure size 432x288 with 1 Axes>"
      ]
     },
     "metadata": {
      "needs_background": "light"
     },
     "output_type": "display_data"
    }
   ],
   "source": [
    "## Plot poi: Crossing (Summarise Severity category)\n",
    "severity_prop = pd.DataFrame()\n",
    "severity_prop['count'] = df[(df.Crossing == True)]['Severity'].groupby(df['Severity']).count()\n",
    "severity_prop['percent'] = (severity_prop['count'] / severity_prop['count'].sum())*100\n",
    "severity_prop\n",
    "\n",
    "# Plot percentage of severity by category\n",
    "severity_prop['percent'].plot(kind='bar', title= 'Crossing', xlabel='Severity', ylabel='Ratio %', rot=0, colormap=ListedColormap(sns.color_palette('mako')))\n",
    "plt.show()"
   ]
  },
  {
   "cell_type": "code",
   "execution_count": null,
   "metadata": {
    "colab": {
     "base_uri": "https://localhost:8080/",
     "height": 295
    },
    "id": "O-SnHhwsCTEP",
    "outputId": "d21dab39-e0f3-470b-8340-4227bf61b232"
   },
   "outputs": [
    {
     "data": {
      "image/png": "[encoded data removed]",
      "text/plain": [
       "<Figure size 432x288 with 1 Axes>"
      ]
     },
     "metadata": {
      "needs_background": "light"
     },
     "output_type": "display_data"
    }
   ],
   "source": [
    "## Plot poi: Give_Way (Summarise Severity category)\n",
    "severity_prop = pd.DataFrame()\n",
    "severity_prop['count'] = df[(df.Give_Way == True)]['Severity'].groupby(df['Severity']).count()\n",
    "severity_prop['percent'] = (severity_prop['count'] / severity_prop['count'].sum())*100\n",
    "severity_prop\n",
    "\n",
    "# Plot percentage of severity by category\n",
    "severity_prop['percent'].plot(kind='bar', title= 'Give_Way', xlabel='Severity', ylabel='Ratio %', rot=0, colormap=ListedColormap(sns.color_palette('mako')))\n",
    "plt.show()"
   ]
  },
  {
   "cell_type": "code",
   "execution_count": null,
   "metadata": {
    "colab": {
     "base_uri": "https://localhost:8080/",
     "height": 295
    },
    "id": "7er34lPmCWfx",
    "outputId": "122d8359-7958-4622-9c12-d7fd568a259d"
   },
   "outputs": [
    {
     "data": {
      "image/png": "[encoded data removed]",
      "text/plain": [
       "<Figure size 432x288 with 1 Axes>"
      ]
     },
     "metadata": {
      "needs_background": "light"
     },
     "output_type": "display_data"
    }
   ],
   "source": [
    "## Plot poi: Junction (Summarise Severity category)\n",
    "severity_prop = pd.DataFrame()\n",
    "severity_prop['count'] = df[(df.Junction == True)]['Severity'].groupby(df['Severity']).count()\n",
    "severity_prop['percent'] = (severity_prop['count'] / severity_prop['count'].sum())*100\n",
    "severity_prop\n",
    "\n",
    "# Plot percentage of severity by category\n",
    "severity_prop['percent'].plot(kind='bar', title= 'Junction', xlabel='Severity', ylabel='Ratio %', rot=0, colormap=ListedColormap(sns.color_palette('mako')))\n",
    "plt.show()"
   ]
  },
  {
   "cell_type": "code",
   "execution_count": null,
   "metadata": {
    "colab": {
     "base_uri": "https://localhost:8080/",
     "height": 295
    },
    "id": "ga48WfVCCYeD",
    "outputId": "e2354c61-9860-4e99-b217-abb8863e97d6"
   },
   "outputs": [
    {
     "data": {
      "image/png": "[encoded data removed]",
      "text/plain": [
       "<Figure size 432x288 with 1 Axes>"
      ]
     },
     "metadata": {
      "needs_background": "light"
     },
     "output_type": "display_data"
    }
   ],
   "source": [
    "## Plot poi: No_Exit (Summarise Severity category)\n",
    "severity_prop = pd.DataFrame()\n",
    "severity_prop['count'] = df[(df.No_Exit == True)]['Severity'].groupby(df['Severity']).count()\n",
    "severity_prop['percent'] = (severity_prop['count'] / severity_prop['count'].sum())*100\n",
    "severity_prop\n",
    "\n",
    "# Plot percentage of severity by category\n",
    "severity_prop['percent'].plot(kind='bar', title= 'No_Exit', xlabel='Severity', ylabel='Ratio %', rot=0, colormap=ListedColormap(sns.color_palette('mako')))\n",
    "plt.show()"
   ]
  },
  {
   "cell_type": "code",
   "execution_count": null,
   "metadata": {
    "colab": {
     "base_uri": "https://localhost:8080/",
     "height": 295
    },
    "id": "J6MjlB2TCaUR",
    "outputId": "fbfd2722-8b59-4dc0-dabd-b1aa19aa7b2e"
   },
   "outputs": [
    {
     "data": {
      "image/png": "[encoded data removed]",
      "text/plain": [
       "<Figure size 432x288 with 1 Axes>"
      ]
     },
     "metadata": {
      "needs_background": "light"
     },
     "output_type": "display_data"
    }
   ],
   "source": [
    "## Plot poi: Railway (Summarise Severity category)\n",
    "severity_prop = pd.DataFrame()\n",
    "severity_prop['count'] = df[(df.Railway == True)]['Severity'].groupby(df['Severity']).count()\n",
    "severity_prop['percent'] = (severity_prop['count'] / severity_prop['count'].sum())*100\n",
    "severity_prop\n",
    "\n",
    "# Plot percentage of severity by category\n",
    "severity_prop['percent'].plot(kind='bar', title= 'Railway', xlabel='Severity', ylabel='Ratio %', rot=0, colormap=ListedColormap(sns.color_palette('mako')))\n",
    "plt.show()"
   ]
  },
  {
   "cell_type": "code",
   "execution_count": null,
   "metadata": {
    "colab": {
     "base_uri": "https://localhost:8080/",
     "height": 295
    },
    "id": "ks64fkobCcPf",
    "outputId": "2443771f-deec-4f77-befc-40636eb4f1ab"
   },
   "outputs": [
    {
     "data": {
      "image/png": "[encoded data removed]",
      "text/plain": [
       "<Figure size 432x288 with 1 Axes>"
      ]
     },
     "metadata": {
      "needs_background": "light"
     },
     "output_type": "display_data"
    }
   ],
   "source": [
    "## Plot poi: Roundabout (Summarise Severity category)\n",
    "severity_prop = pd.DataFrame()\n",
    "severity_prop['count'] = df[(df.Roundabout == True)]['Severity'].groupby(df['Severity']).count()\n",
    "severity_prop['percent'] = (severity_prop['count'] / severity_prop['count'].sum())*100\n",
    "severity_prop\n",
    "\n",
    "# Plot percentage of severity by category\n",
    "severity_prop['percent'].plot(kind='bar', title= 'Roundabout', xlabel='Severity', ylabel='Ratio %', rot=0, colormap=ListedColormap(sns.color_palette('mako')))\n",
    "plt.show()"
   ]
  },
  {
   "cell_type": "code",
   "execution_count": null,
   "metadata": {
    "colab": {
     "base_uri": "https://localhost:8080/",
     "height": 295
    },
    "id": "8ADdiecZCd9p",
    "outputId": "d98200dd-239c-4c64-d6b8-97dd1a69d65c"
   },
   "outputs": [
    {
     "data": {
      "image/png": "[encoded data removed]",
      "text/plain": [
       "<Figure size 432x288 with 1 Axes>"
      ]
     },
     "metadata": {
      "needs_background": "light"
     },
     "output_type": "display_data"
    }
   ],
   "source": [
    "## Plot poi: Station (Summarise Severity category)\n",
    "severity_prop = pd.DataFrame()\n",
    "severity_prop['count'] = df[(df.Station == True)]['Severity'].groupby(df['Severity']).count()\n",
    "severity_prop['percent'] = (severity_prop['count'] / severity_prop['count'].sum())*100\n",
    "severity_prop\n",
    "\n",
    "# Plot percentage of severity by category\n",
    "severity_prop['percent'].plot(kind='bar', title= 'Station', xlabel='Severity', ylabel='Ratio %', rot=0, colormap=ListedColormap(sns.color_palette('mako')))\n",
    "plt.show()"
   ]
  },
  {
   "cell_type": "code",
   "execution_count": null,
   "metadata": {
    "colab": {
     "base_uri": "https://localhost:8080/",
     "height": 295
    },
    "id": "ghQpiAJwCf_G",
    "outputId": "85604a9d-5710-4c14-c2e6-383165833ad1"
   },
   "outputs": [
    {
     "data": {
      "image/png": "[encoded data removed]",
      "text/plain": [
       "<Figure size 432x288 with 1 Axes>"
      ]
     },
     "metadata": {
      "needs_background": "light"
     },
     "output_type": "display_data"
    }
   ],
   "source": [
    "## Plot poi: Stop (Summarise Severity category)\n",
    "severity_prop = pd.DataFrame()\n",
    "severity_prop['count'] = df[(df.Stop == True)]['Severity'].groupby(df['Severity']).count()\n",
    "severity_prop['percent'] = (severity_prop['count'] / severity_prop['count'].sum())*100\n",
    "severity_prop\n",
    "\n",
    "# Plot percentage of severity by category\n",
    "severity_prop['percent'].plot(kind='bar', title= 'Stop', xlabel='Severity', ylabel='Ratio %', rot=0, colormap=ListedColormap(sns.color_palette('mako')))\n",
    "plt.show()"
   ]
  },
  {
   "cell_type": "code",
   "execution_count": null,
   "metadata": {
    "colab": {
     "base_uri": "https://localhost:8080/",
     "height": 295
    },
    "id": "12-w8sLqCh84",
    "outputId": "ef8de857-f5ef-4892-b537-4d17c1cc6c52"
   },
   "outputs": [
    {
     "data": {
      "image/png": "[encoded data removed]",
      "text/plain": [
       "<Figure size 432x288 with 1 Axes>"
      ]
     },
     "metadata": {
      "needs_background": "light"
     },
     "output_type": "display_data"
    }
   ],
   "source": [
    "## Plot poi: Traffic_Calming (Summarise Severity category)\n",
    "severity_prop = pd.DataFrame()\n",
    "severity_prop['count'] = df[(df.Traffic_Calming == True)]['Severity'].groupby(df['Severity']).count()\n",
    "severity_prop['percent'] = (severity_prop['count'] / severity_prop['count'].sum())*100\n",
    "severity_prop\n",
    "\n",
    "# Plot percentage of severity by category\n",
    "severity_prop['percent'].plot(kind='bar', title= 'Traffic_Calming', xlabel='Severity', ylabel='Ratio %', rot=0, colormap=ListedColormap(sns.color_palette('mako')))\n",
    "plt.show()"
   ]
  },
  {
   "cell_type": "code",
   "execution_count": null,
   "metadata": {
    "colab": {
     "base_uri": "https://localhost:8080/",
     "height": 295
    },
    "id": "PPkAK1RFClP0",
    "outputId": "f0e0c73a-5f60-4303-deee-f2637594156b"
   },
   "outputs": [
    {
     "data": {
      "image/png": "[encoded data removed]",
      "text/plain": [
       "<Figure size 432x288 with 1 Axes>"
      ]
     },
     "metadata": {
      "needs_background": "light"
     },
     "output_type": "display_data"
    }
   ],
   "source": [
    "# Plot poi: Traffic_Signal (Summarise Severity category)\n",
    "severity_prop = pd.DataFrame()\n",
    "severity_prop['count'] = df[(df.Traffic_Signal == True)]['Severity'].groupby(df['Severity']).count()\n",
    "severity_prop['percent'] = (severity_prop['count'] / severity_prop['count'].sum())*100\n",
    "severity_prop\n",
    "\n",
    "# Plot percentage of severity by category\n",
    "severity_prop['percent'].plot(kind='bar', title= 'Traffic_Signal', xlabel='Severity', ylabel='Ratio %', rot=0, colormap=ListedColormap(sns.color_palette('mako')))\n",
    "plt.show()"
   ]
  },
  {
   "cell_type": "code",
   "execution_count": null,
   "metadata": {
    "colab": {
     "base_uri": "https://localhost:8080/",
     "height": 661
    },
    "id": "hUJEK862oOk5",
    "outputId": "e4d6b8fd-66ae-41c6-f792-558a55add8d4"
   },
   "outputs": [
    {
     "data": {
      "image/png": "[encoded data removed]",
      "text/plain": [
       "<Figure size 1080x792 with 5 Axes>"
      ]
     },
     "metadata": {
      "needs_background": "light"
     },
     "output_type": "display_data"
    }
   ],
   "source": [
    "# Plot distribution of numeric data\n",
    "fig, ax = plt.subplots(2, 3)\n",
    "fig.set_figheight(11)\n",
    "fig.set_figwidth(15)\n",
    "sns.histplot(ax = ax[0, 0], x='Temperature', data=df, kde=True, bins=16, palette='mako')\n",
    "sns.histplot(ax = ax[0, 1], x='Wind_Chill', data=df, kde=True, bins=16, palette='mako')\n",
    "sns.histplot(ax = ax[0, 2], x='Humidity', data=df, kde=True, bins=16, palette='mako')\n",
    "sns.histplot(ax = ax[1, 0], x='Pressure', data=df, kde=True, bins=16, palette='mako')\n",
    "sns.histplot(ax = ax[1, 1], x='Wind_Speed', data=df, kde=True, bins=16, palette='mako')\n",
    "fig.delaxes(ax[1][2])\n",
    "plt.show()"
   ]
  },
  {
   "cell_type": "code",
   "execution_count": null,
   "metadata": {
    "colab": {
     "base_uri": "https://localhost:8080/",
     "height": 513
    },
    "id": "gkzjpQ81GxWx",
    "outputId": "d5b794bd-3685-4ea3-873e-15cd14db78b2"
   },
   "outputs": [
    {
     "data": {
      "image/png": "[encoded data removed]",
      "text/plain": [
       "<Figure size 648x504 with 5 Axes>"
      ]
     },
     "metadata": {
      "needs_background": "light"
     },
     "output_type": "display_data"
    }
   ],
   "source": [
    "# Boxplot each variable\n",
    "fig, ax = plt.subplots(2, 3)\n",
    "fig.set_figheight(7)\n",
    "fig.set_figwidth(9)\n",
    "sns.boxplot(ax = ax[0, 0], x='Severity',y='Temperature', data=df, palette='mako', showfliers=False)\n",
    "sns.boxplot(ax=ax[0, 1], x='Severity',y='Wind_Chill', data=df, palette='mako', showfliers=False)\n",
    "sns.boxplot(ax= ax[0, 2], x='Severity',y='Humidity', data=df, palette='mako', showfliers=False)\n",
    "sns.boxplot(ax = ax[1, 0], x='Severity',y='Pressure', data=df, palette='mako', showfliers=False)\n",
    "sns.boxplot(ax = ax[1, 1], x='Severity',y='Wind_Speed', data=df, palette='mako', showfliers=False)\n",
    "plt.setp(ax, xticks=[0, 1, 2, 3], xticklabels=['Low', 'Medium', 'High', 'Very High'])\n",
    "fig.delaxes(ax[1][2])\n",
    "fig.tight_layout()"
   ]
  },
  {
   "cell_type": "code",
   "execution_count": null,
   "metadata": {
    "colab": {
     "base_uri": "https://localhost:8080/",
     "height": 269
    },
    "id": "D3MQifkuO5YJ",
    "outputId": "f1bcd1bc-60c3-4c52-c8cc-81452e754f66"
   },
   "outputs": [
    {
     "data": {
      "text/html": [
       "\n",
       "  <div id=\"df-56528219-193f-4452-81d1-805849b42411\">\n",
       "    <div class=\"colab-df-container\">\n",
       "      <div>\n",
       "<style scoped>\n",
       "    .dataframe tbody tr th:only-of-type {\n",
       "        vertical-align: middle;\n",
       "    }\n",
       "\n",
       "    .dataframe tbody tr th {\n",
       "        vertical-align: top;\n",
       "    }\n",
       "\n",
       "    .dataframe thead th {\n",
       "        text-align: right;\n",
       "    }\n",
       "</style>\n",
       "<table border=\"1\" class=\"dataframe\">\n",
       "  <thead>\n",
       "    <tr style=\"text-align: right;\">\n",
       "      <th></th>\n",
       "      <th>count</th>\n",
       "      <th>mean</th>\n",
       "      <th>std</th>\n",
       "      <th>min</th>\n",
       "      <th>25%</th>\n",
       "      <th>50%</th>\n",
       "      <th>75%</th>\n",
       "      <th>max</th>\n",
       "      <th>Skewness</th>\n",
       "      <th>Kurtosis</th>\n",
       "    </tr>\n",
       "  </thead>\n",
       "  <tbody>\n",
       "    <tr>\n",
       "      <th>Temperature</th>\n",
       "      <td>36,779.00</td>\n",
       "      <td>11.41</td>\n",
       "      <td>9.18</td>\n",
       "      <td>-24.44</td>\n",
       "      <td>4.44</td>\n",
       "      <td>11.11</td>\n",
       "      <td>18.33</td>\n",
       "      <td>35.56</td>\n",
       "      <td>0.03</td>\n",
       "      <td>-0.54</td>\n",
       "    </tr>\n",
       "    <tr>\n",
       "      <th>Wind_Chill</th>\n",
       "      <td>36,779.00</td>\n",
       "      <td>10.00</td>\n",
       "      <td>10.71</td>\n",
       "      <td>-34.67</td>\n",
       "      <td>1.67</td>\n",
       "      <td>11.11</td>\n",
       "      <td>18.33</td>\n",
       "      <td>35.56</td>\n",
       "      <td>-0.15</td>\n",
       "      <td>-0.68</td>\n",
       "    </tr>\n",
       "    <tr>\n",
       "      <th>Humidity</th>\n",
       "      <td>36,779.00</td>\n",
       "      <td>66.18</td>\n",
       "      <td>20.53</td>\n",
       "      <td>13.00</td>\n",
       "      <td>50.00</td>\n",
       "      <td>68.00</td>\n",
       "      <td>84.00</td>\n",
       "      <td>100.00</td>\n",
       "      <td>-0.22</td>\n",
       "      <td>-1.00</td>\n",
       "    </tr>\n",
       "    <tr>\n",
       "      <th>Pressure</th>\n",
       "      <td>36,779.00</td>\n",
       "      <td>29.69</td>\n",
       "      <td>0.39</td>\n",
       "      <td>27.55</td>\n",
       "      <td>29.45</td>\n",
       "      <td>29.72</td>\n",
       "      <td>29.97</td>\n",
       "      <td>30.71</td>\n",
       "      <td>-0.73</td>\n",
       "      <td>1.51</td>\n",
       "    </tr>\n",
       "    <tr>\n",
       "      <th>Visibility</th>\n",
       "      <td>36,779.00</td>\n",
       "      <td>14.52</td>\n",
       "      <td>4.32</td>\n",
       "      <td>0.00</td>\n",
       "      <td>16.09</td>\n",
       "      <td>16.09</td>\n",
       "      <td>16.09</td>\n",
       "      <td>32.19</td>\n",
       "      <td>-1.85</td>\n",
       "      <td>3.67</td>\n",
       "    </tr>\n",
       "    <tr>\n",
       "      <th>Wind_Speed</th>\n",
       "      <td>36,779.00</td>\n",
       "      <td>14.60</td>\n",
       "      <td>9.43</td>\n",
       "      <td>0.00</td>\n",
       "      <td>8.05</td>\n",
       "      <td>12.87</td>\n",
       "      <td>20.92</td>\n",
       "      <td>64.37</td>\n",
       "      <td>0.68</td>\n",
       "      <td>0.74</td>\n",
       "    </tr>\n",
       "    <tr>\n",
       "      <th>Precipitation</th>\n",
       "      <td>36,779.00</td>\n",
       "      <td>0.13</td>\n",
       "      <td>0.70</td>\n",
       "      <td>0.00</td>\n",
       "      <td>0.00</td>\n",
       "      <td>0.00</td>\n",
       "      <td>0.00</td>\n",
       "      <td>21.08</td>\n",
       "      <td>10.24</td>\n",
       "      <td>149.76</td>\n",
       "    </tr>\n",
       "  </tbody>\n",
       "</table>\n",
       "</div>\n",
       "      <button class=\"colab-df-convert\" onclick=\"convertToInteractive('df-56528219-193f-4452-81d1-805849b42411')\"\n",
       "              title=\"Convert this dataframe to an interactive table.\"\n",
       "              style=\"display:none;\">\n",
       "        \n",
       "  <svg xmlns=\"http://www.w3.org/2000/svg\" height=\"24px\"viewBox=\"0 0 24 24\"\n",
       "       width=\"24px\">\n",
       "    <path d=\"M0 0h24v24H0V0z\" fill=\"none\"/>\n",
       "    <path d=\"M18.56 5.44l.94 2.06.94-2.06 2.06-.94-2.06-.94-.94-2.06-.94 2.06-2.06.94zm-11 1L8.5 8.5l.94-2.06 2.06-.94-2.06-.94L8.5 2.5l-.94 2.06-2.06.94zm10 10l.94 2.06.94-2.06 2.06-.94-2.06-.94-.94-2.06-.94 2.06-2.06.94z\"/><path d=\"M17.41 7.96l-1.37-1.37c-.4-.4-.92-.59-1.43-.59-.52 0-1.04.2-1.43.59L10.3 9.45l-7.72 7.72c-.78.78-.78 2.05 0 2.83L4 21.41c.39.39.9.59 1.41.59.51 0 1.02-.2 1.41-.59l7.78-7.78 2.81-2.81c.8-.78.8-2.07 0-2.86zM5.41 20L4 18.59l7.72-7.72 1.47 1.35L5.41 20z\"/>\n",
       "  </svg>\n",
       "      </button>\n",
       "      \n",
       "  <style>\n",
       "    .colab-df-container {\n",
       "      display:flex;\n",
       "      flex-wrap:wrap;\n",
       "      gap: 12px;\n",
       "    }\n",
       "\n",
       "    .colab-df-convert {\n",
       "      background-color: #E8F0FE;\n",
       "      border: none;\n",
       "      border-radius: 50%;\n",
       "      cursor: pointer;\n",
       "      display: none;\n",
       "      fill: #1967D2;\n",
       "      height: 32px;\n",
       "      padding: 0 0 0 0;\n",
       "      width: 32px;\n",
       "    }\n",
       "\n",
       "    .colab-df-convert:hover {\n",
       "      background-color: #E2EBFA;\n",
       "      box-shadow: 0px 1px 2px rgba(60, 64, 67, 0.3), 0px 1px 3px 1px rgba(60, 64, 67, 0.15);\n",
       "      fill: #174EA6;\n",
       "    }\n",
       "\n",
       "    [theme=dark] .colab-df-convert {\n",
       "      background-color: #3B4455;\n",
       "      fill: #D2E3FC;\n",
       "    }\n",
       "\n",
       "    [theme=dark] .colab-df-convert:hover {\n",
       "      background-color: #434B5C;\n",
       "      box-shadow: 0px 1px 3px 1px rgba(0, 0, 0, 0.15);\n",
       "      filter: drop-shadow(0px 1px 2px rgba(0, 0, 0, 0.3));\n",
       "      fill: #FFFFFF;\n",
       "    }\n",
       "  </style>\n",
       "\n",
       "      <script>\n",
       "        const buttonEl =\n",
       "          document.querySelector('#df-56528219-193f-4452-81d1-805849b42411 button.colab-df-convert');\n",
       "        buttonEl.style.display =\n",
       "          google.colab.kernel.accessAllowed ? 'block' : 'none';\n",
       "\n",
       "        async function convertToInteractive(key) {\n",
       "          const element = document.querySelector('#df-56528219-193f-4452-81d1-805849b42411');\n",
       "          const dataTable =\n",
       "            await google.colab.kernel.invokeFunction('convertToInteractive',\n",
       "                                                     [key], {});\n",
       "          if (!dataTable) return;\n",
       "\n",
       "          const docLinkHtml = 'Like what you see? Visit the ' +\n",
       "            '<a target=\"_blank\" href=https://colab.research.google.com/notebooks/data_table.ipynb>data table notebook</a>'\n",
       "            + ' to learn more about interactive tables.';\n",
       "          element.innerHTML = '';\n",
       "          dataTable['output_type'] = 'display_data';\n",
       "          await google.colab.output.renderOutput(dataTable, element);\n",
       "          const docLink = document.createElement('div');\n",
       "          docLink.innerHTML = docLinkHtml;\n",
       "          element.appendChild(docLink);\n",
       "        }\n",
       "      </script>\n",
       "    </div>\n",
       "  </div>\n",
       "  "
      ],
      "text/plain": [
       "                  count  mean   std    min   25%   50%   75%    max  Skewness  \\\n",
       "Temperature   36,779.00 11.41  9.18 -24.44  4.44 11.11 18.33  35.56      0.03   \n",
       "Wind_Chill    36,779.00 10.00 10.71 -34.67  1.67 11.11 18.33  35.56     -0.15   \n",
       "Humidity      36,779.00 66.18 20.53  13.00 50.00 68.00 84.00 100.00     -0.22   \n",
       "Pressure      36,779.00 29.69  0.39  27.55 29.45 29.72 29.97  30.71     -0.73   \n",
       "Visibility    36,779.00 14.52  4.32   0.00 16.09 16.09 16.09  32.19     -1.85   \n",
       "Wind_Speed    36,779.00 14.60  9.43   0.00  8.05 12.87 20.92  64.37      0.68   \n",
       "Precipitation 36,779.00  0.13  0.70   0.00  0.00  0.00  0.00  21.08     10.24   \n",
       "\n",
       "               Kurtosis  \n",
       "Temperature       -0.54  \n",
       "Wind_Chill        -0.68  \n",
       "Humidity          -1.00  \n",
       "Pressure           1.51  \n",
       "Visibility         3.67  \n",
       "Wind_Speed         0.74  \n",
       "Precipitation    149.76  "
      ]
     },
     "metadata": {},
     "output_type": "display_data"
    }
   ],
   "source": [
    "# Summarise weather data\n",
    "pd.options.display.float_format = '{:,.2f}'.format # display 2 decimal points\n",
    "num_weather = ['Temperature', 'Wind_Chill', 'Humidity', 'Pressure','Visibility','Wind_Speed','Precipitation'] # weather columns containing numerical variables\n",
    "df_weather_stats = df[num_weather].describe().T\n",
    "df_weather_stats = pd.concat([df_weather_stats, df[num_weather].skew()], axis=1).rename(columns={0:'Skewness'})\n",
    "df_weather_stats = pd.concat([df_weather_stats, df[num_weather].kurt()], axis=1).rename(columns={0:'Kurtosis'})\n",
    "display(df_weather_stats)\n",
    "\n"
   ]
  },
  {
   "cell_type": "code",
   "execution_count": null,
   "metadata": {
    "id": "nkeD9Q_WDKQ1"
   },
   "outputs": [],
   "source": [
    "# Plot distance and duration\n",
    "df_dd = df[['Severity','Distance','duration']]\n",
    "\n",
    "fig, ax = plt.subplots(1, 2)\n",
    "fig.set_figheight(4)\n",
    "fig.set_figwidth(9)\n",
    "sns.stripplot(ax = ax[0], x='Distance', y = df['Severity'], hue=df['Severity'], jitter=True, data=df, palette='mako')\n",
    "sns.stripplot(ax = ax[1], x='duration', y = df['Severity'], hue=df['Severity'], jitter=True,  data=df, palette='mako')\n",
    "fig.tight_layout()"
   ]
  },
  {
   "cell_type": "code",
   "execution_count": null,
   "metadata": {
    "id": "ZjGQivhFDN1D"
   },
   "outputs": [],
   "source": [
    "# Boxplot each variable\n",
    "fig, ax = plt.subplots(1, 2)\n",
    "fig.set_figheight(4)\n",
    "fig.set_figwidth(9)\n",
    "sns.boxplot(ax = ax[0], x='Severity',y='Distance', data=df, palette='mako', showfliers=False)\n",
    "sns.boxplot(ax = ax[1], x='Severity',y='duration', data=df, palette='mako', showfliers=False)\n",
    "plt.setp(ax, xticks=[0, 1, 2, 3], xticklabels=['Low', 'Medium', 'High', 'Very High'])\n",
    "fig.tight_layout()"
   ]
  },
  {
   "cell_type": "markdown",
   "metadata": {
    "id": "nU9AQIIP8u0j"
   },
   "source": [
    "Explore the dataset"
   ]
  },
  {
   "cell_type": "code",
   "execution_count": null,
   "metadata": {
    "id": "zfd_o7i8cqbj"
   },
   "outputs": [],
   "source": [
    "# Find correlations for weather features\n",
    "sns.heatmap(df[['Severity','Start_Lat','Start_Lng','Temperature', 'Humidity', 'Pressure', 'Visibility','Precipitation','Weather_Condition']].corr(), cmap='mako', annot=True)\n",
    "plt.show()"
   ]
  },
  {
   "cell_type": "code",
   "execution_count": null,
   "metadata": {
    "colab": {
     "base_uri": "https://localhost:8080/",
     "height": 662
    },
    "id": "8SFTNVnLcqO8",
    "outputId": "7b433e9d-eeb0-41ce-b364-72fa93c4a85f"
   },
   "outputs": [
    {
     "data": {
      "image/png": "[encoded data removed]",
      "text/plain": [
       "<Figure size 1080x720 with 2 Axes>"
      ]
     },
     "metadata": {
      "needs_background": "light"
     },
     "output_type": "display_data"
    }
   ],
   "source": [
    "## Find correlations for poi features \n",
    "plt.figure(figsize=(15,10))\n",
    "sns.heatmap(df[['Severity','Any_poi','Amenity','Bump','Crossing','Give_Way','Junction','No_Exit','Railway','Roundabout','Station','Stop','Traffic_Calming','Traffic_Signal']].corr(), cmap='mako', annot=True)\n",
    "plt.show()"
   ]
  },
  {
   "cell_type": "code",
   "execution_count": null,
   "metadata": {
    "id": "_0hcUJhacvQI"
   },
   "outputs": [],
   "source": [
    "# Accident Severity Counts by Year\n",
    "ax = sns.barplot(x='year', y='year', data=df, estimator=lambda x: len(x) / len(df) * 100 , palette = 'mako')\n",
    "ax.set(title='', xlabel=\"Year\", ylabel=\"Traffic Incidents (%)\")\n",
    "plt.show()"
   ]
  },
  {
   "cell_type": "code",
   "execution_count": null,
   "metadata": {
    "id": "ozlhCeKRcw6L"
   },
   "outputs": [],
   "source": [
    "# Accident Severity Counts by Month\n",
    "ax = sns.barplot(x='month', y='month', data=df, estimator=lambda x: len(x) / len(df) * 100 , palette = 'mako')\n",
    "ax.set(title='', xlabel=\"Month\", ylabel=\"Traffic Incidents (%)\")\n",
    "ax.set_xticklabels(['Jan', 'Feb', 'Mar', 'Apr','May','Jun','Jul','Aug','Sep','Oct','Nov','Dec'])\n",
    "plt.show()"
   ]
  },
  {
   "cell_type": "code",
   "execution_count": null,
   "metadata": {
    "id": "UYyEgt5OcybJ"
   },
   "outputs": [],
   "source": [
    "# Accident Severity Counts by Day of Week\n",
    "ax = sns.barplot(x='weekday', y='weekday', data=df, estimator=lambda x: len(x) / len(df) * 100, palette = 'mako')\n",
    "ax.set(title='', xlabel = \"Weekday\", ylabel=\"Traffic Incidents (%)\")\n",
    "ax.set_xticklabels(['Mon', 'Tues', 'Wed', 'Thurs','Fri','Sat','Sun'])\n",
    "plt.show()"
   ]
  },
  {
   "cell_type": "code",
   "execution_count": null,
   "metadata": {
    "id": "RLqQ-HfJczoR"
   },
   "outputs": [],
   "source": [
    "# Accident Severity Counts by Season\n",
    "ax = sns.barplot(x='season', y='Severity', order = ['spring','summer','fall','winter'], estimator=lambda x: len(x) / len(df) * 100, data=df,  palette = 'mako')\n",
    "ax.set(title='', xlabel = \"Season\", ylabel=\"Traffic Incidents (%)\")\n",
    "ax.set_xticklabels(['Spring','Summer', 'Winter', 'Fall'])\n",
    "plt.show()"
   ]
  },
  {
   "cell_type": "code",
   "execution_count": null,
   "metadata": {
    "id": "pZ6bbpijc5po"
   },
   "outputs": [],
   "source": [
    "# Accident Severity Counts by Day/Night\n",
    "ax = sns.barplot(x='Sunrise_Sunset', y='Severity', data=df, estimator=lambda x: len(x) / len(df) * 100 , palette = 'mako')\n",
    "ax.set(title='', xlabel=\"Time of Day\", ylabel=\"Traffic Incidents (%)\")\n",
    "plt.show()"
   ]
  },
  {
   "cell_type": "code",
   "execution_count": null,
   "metadata": {
    "id": "pTmEQPkEc9XZ"
   },
   "outputs": [],
   "source": [
    "# Accident Severity Counts by Road Type\n",
    "ax = sns.barplot(x='Highway', y='Highway', hue='Severity', data=df, estimator=lambda x: len(x) / len(df) * 100 , palette = 'mako')\n",
    "ax.set(title='', xlabel=\"Highway\", ylabel=\"Traffic Indcidents (%)\")\n",
    "plt.show()"
   ]
  },
  {
   "cell_type": "code",
   "execution_count": null,
   "metadata": {
    "id": "GZL4pQmyhzWs"
   },
   "outputs": [],
   "source": [
    "# Number of accidents per hour\n",
    "ax = sns.barplot(x=df['Start_Time'].dt.hour, y='Severity', data=df, estimator=lambda x: len(x) / len(df) * 100 , palette = 'mako')\n",
    "ax.set(title='', xlabel=\"Hour\", ylabel=\"Traffic Incidents (%)\")\n",
    "plt.show()"
   ]
  },
  {
   "cell_type": "code",
   "execution_count": null,
   "metadata": {
    "id": "Wn5RPUomh08T"
   },
   "outputs": [],
   "source": [
    "# Accident Severity Counts by Weather Conditions\n",
    "plot_order = df.groupby('Weather_Condition')['Weather_Condition'].count().sort_values(ascending=False).index.values\n",
    "ax = sns.barplot(x='Weather_Condition', y='Severity', data=df, estimator=lambda x: len(x) / len(df) * 100 ,order=plot_order, palette = 'mako')\n",
    "ax.set(title='', xlabel=\"Weather Condition\", ylabel=\"Traffic Incidents (%)\")\n",
    "plt.show()"
   ]
  },
  {
   "cell_type": "markdown",
   "metadata": {
    "id": "MMPHi4Dxh24P"
   },
   "source": [
    "Classification Models to Predict Severity"
   ]
  },
  {
   "cell_type": "code",
   "execution_count": null,
   "metadata": {
    "colab": {
     "base_uri": "https://localhost:8080/"
    },
    "id": "XJ3wSmM3h6Ij",
    "outputId": "6eaf5c29-3523-4179-e52f-47884e531cf6"
   },
   "outputs": [
    {
     "name": "stdout",
     "output_type": "stream",
     "text": [
      "Training set size is:  25745\n",
      "Test set size is:  11034\n"
     ]
    }
   ],
   "source": [
    "# Prepare training and test data\n",
    "exclude = ['ID', 'End_Lat','End_Lng','Start_Time', 'End_Time','Description', 'Street', 'Side','City','County','Zipcode','Weather_Timestamp', 'Wind_Direction','Severity', 'Weather_Condition', 'Sunrise_Sunset','severitycat','season','duration', 'Traffic_Calming_ex_Bump', 'total_TC_B', 'TC_and_B']\n",
    "df_feat = df.copy().drop(columns = exclude)\n",
    "df_target = df.Severity.copy()\n",
    "\n",
    "# Normalise the data\n",
    "cols_to_norm = ['Start_Lat', 'Start_Lng', 'Distance','Temperature', 'Wind_Chill', 'Humidity', 'Pressure', 'Visibility',\n",
    "       'Wind_Speed', 'Precipitation', 'weekday', 'month','year']\n",
    "df_feat[cols_to_norm] = df_feat[cols_to_norm].apply(lambda x: (x - x.min()) / (x.max() - x.min()))\n",
    "\n",
    "# Split training and test data\n",
    "X_train, X_test, y_train, y_test = train_test_split(df_feat, df_target, test_size = 0.3, random_state=1)\n",
    "\n",
    "# Output size of test and training sets\n",
    "print(\"Training set size is: \", len(X_train))\n",
    "print(\"Test set size is: \", len(X_test))"
   ]
  },
  {
   "cell_type": "code",
   "execution_count": null,
   "metadata": {
    "colab": {
     "base_uri": "https://localhost:8080/"
    },
    "id": "K5pr5kdcoZpH",
    "outputId": "badf27c8-c040-4896-8918-44fc238e3372"
   },
   "outputs": [
    {
     "name": "stdout",
     "output_type": "stream",
     "text": [
      "Balanced training set size is:  79716\n"
     ]
    }
   ],
   "source": [
    "# Balance training dataset\n",
    "from imblearn.combine import SMOTETomek\n",
    "smo_tek = SMOTETomek(random_state=1)\n",
    "X_train, y_train = smo_tek.fit_resample(X_train, y_train)\n",
    "\n",
    "# Create df to store model performance \n",
    "results = pd.DataFrame(columns = ['Model','Precision', 'Recall','F1-Score','Accuracy'])\n",
    "\n",
    "# Output info after balancing\n",
    "print(\"Balanced training set size is: \", len(X_train))\n",
    "\n",
    "df = y_train.value_counts().rename_axis('Severity').reset_index(name='Count')\n",
    "#display(df.sort_values('Severity').style.hide(axis='index'))"
   ]
  },
  {
   "cell_type": "markdown",
   "metadata": {
    "id": "QplSJ5ydiGbT"
   },
   "source": [
    "Supervised Learning Algorithms"
   ]
  },
  {
   "cell_type": "code",
   "execution_count": null,
   "metadata": {
    "colab": {
     "base_uri": "https://localhost:8080/"
    },
    "id": "QD2SbAfciCum",
    "outputId": "752a07d9-7041-406b-8bfb-78213269a84f"
   },
   "outputs": [
    {
     "name": "stdout",
     "output_type": "stream",
     "text": [
      "Best parameters are: \n",
      "{'C': 100, 'penalty': 'l2', 'solver': 'newton-cg'}\n"
     ]
    }
   ],
   "source": [
    "# Logistic regression\n",
    "\n",
    "parameters = {\n",
    "    \"solver\":['newton-cg'],\n",
    "    \"penalty\":['l2'],\n",
    "    \"C\":[0.001, 0.01, 0.1, 1, 10, 100, 1000]\n",
    "}\n",
    "\n",
    "# Find the best value of n parameters for accuracy\n",
    "grid = GridSearchCV(LogisticRegression(), param_grid = parameters, cv=5, scoring='f1_weighted')\n",
    "grid.fit(X_train, y_train)\n",
    "\n",
    "# Return parameters of model with highest accuracy\n",
    "optimal_model = grid.best_estimator_\n",
    "print('Best parameters are: ')\n",
    "print( grid.best_params_)\n",
    "\n",
    "grid_predictions = grid.predict(X_test) # Perform prediction on test data\n",
    "results.loc[len(results)] = scores('Logistic Regression', y_test, grid_predictions) # Store metrics to results df"
   ]
  },
  {
   "cell_type": "code",
   "execution_count": null,
   "metadata": {
    "colab": {
     "background_save": true
    },
    "id": "lJHuUZ0giK_L",
    "outputId": "362ba08b-30d6-4c6b-b31d-23fa4041e0e3"
   },
   "outputs": [
    {
     "name": "stdout",
     "output_type": "stream",
     "text": [
      "Best parameters are: \n",
      "{'n_neighbors': 2}\n"
     ]
    }
   ],
   "source": [
    "# K-Nearest Neghbours\n",
    "parameters = {'n_neighbors': np.arange(1, 20)}\n",
    "\n",
    "# Find the best value of n parameters for accuracy\n",
    "grid = RandomizedSearchCV(KNeighborsClassifier(), parameters, cv = 2, random_state=1, scoring='f1_weighted')\n",
    "grid.fit(X_train, y_train)\n",
    "\n",
    "# Return parameters of model with highest accuracy\n",
    "optimal_model = grid.best_estimator_\n",
    "print('Best parameters are: ')\n",
    "print( grid.best_params_)\n",
    "\n",
    "grid_predictions = grid.predict(X_test) # Perform prediction on test data\n",
    "results.loc[len(results)] = scores('KNN', y_test, grid_predictions) # Store metrics to results df"
   ]
  },
  {
   "cell_type": "code",
   "execution_count": null,
   "metadata": {
    "id": "PS0kCFubiMwE"
   },
   "outputs": [],
   "source": [
    "# SVM\n",
    "# Defining parameter range for grid search\n",
    "parameters ={\n",
    "    \"C\":[0.1,1],\n",
    "    \"kernel\":['linear'],\n",
    "    \"gamma\":['scale', 'auto']\n",
    "}\n",
    "\n",
    "# Find the best SVM model parameters for accuracy\n",
    "grid = GridSearchCV(SVC(), param_grid = parameters, cv = 2, scoring='f1_weighted')\n",
    "grid.fit(X_train, y_train)\n",
    "\n",
    "# Return parameters of model with highest accuracy\n",
    "optimal_model = grid.best_estimator_\n",
    "print('Best parameters are: ')\n",
    "print( grid.best_params_)\n",
    "\n",
    "grid_predictions = grid.predict(X_test) # Perform prediction on test data\n",
    "results.loc[len(results)] = scores('SVM', y_test, grid_predictions) # Store metrics to results df"
   ]
  },
  {
   "cell_type": "markdown",
   "metadata": {
    "id": "l0T1UkSFiNkA"
   },
   "source": [
    "Unsupervised Learning algorithms"
   ]
  },
  {
   "cell_type": "code",
   "execution_count": null,
   "metadata": {
    "colab": {
     "base_uri": "https://localhost:8080/",
     "height": 236
    },
    "id": "mVB2RR20iSud",
    "outputId": "3f62d56b-78dd-468d-9401-fffb5202c52b"
   },
   "outputs": [
    {
     "ename": "NameError",
     "evalue": "ignored",
     "output_type": "error",
     "traceback": [
      "\u001b[0;31m---------------------------------------------------------------------------\u001b[0m",
      "\u001b[0;31mNameError\u001b[0m                                 Traceback (most recent call last)",
      "\u001b[0;32m<ipython-input-1-5ce0ad636bca>\u001b[0m in \u001b[0;36m<module>\u001b[0;34m\u001b[0m\n\u001b[1;32m      1\u001b[0m \u001b[0;31m# Random Forest\u001b[0m\u001b[0;34m\u001b[0m\u001b[0;34m\u001b[0m\u001b[0;34m\u001b[0m\u001b[0m\n\u001b[0;32m----> 2\u001b[0;31m \u001b[0mmod\u001b[0m \u001b[0;34m=\u001b[0m \u001b[0mRandomForestClassifier\u001b[0m\u001b[0;34m(\u001b[0m\u001b[0mrandom_state\u001b[0m\u001b[0;34m=\u001b[0m\u001b[0;36m1\u001b[0m\u001b[0;34m)\u001b[0m\u001b[0;34m.\u001b[0m\u001b[0mfit\u001b[0m\u001b[0;34m(\u001b[0m\u001b[0mX_train\u001b[0m\u001b[0;34m,\u001b[0m \u001b[0my_train\u001b[0m\u001b[0;34m)\u001b[0m \u001b[0;31m# train model\u001b[0m\u001b[0;34m\u001b[0m\u001b[0;34m\u001b[0m\u001b[0m\n\u001b[0m\u001b[1;32m      3\u001b[0m \u001b[0mpredicted_class\u001b[0m \u001b[0;34m=\u001b[0m \u001b[0mmod\u001b[0m\u001b[0;34m.\u001b[0m\u001b[0mpredict\u001b[0m\u001b[0;34m(\u001b[0m\u001b[0mX_test\u001b[0m\u001b[0;34m)\u001b[0m \u001b[0;31m# perform prediction\u001b[0m\u001b[0;34m\u001b[0m\u001b[0;34m\u001b[0m\u001b[0m\n\u001b[1;32m      4\u001b[0m \u001b[0;34m\u001b[0m\u001b[0m\n\u001b[1;32m      5\u001b[0m \u001b[0mresults\u001b[0m\u001b[0;34m.\u001b[0m\u001b[0mloc\u001b[0m\u001b[0;34m[\u001b[0m\u001b[0mlen\u001b[0m\u001b[0;34m(\u001b[0m\u001b[0mresults\u001b[0m\u001b[0;34m)\u001b[0m\u001b[0;34m]\u001b[0m \u001b[0;34m=\u001b[0m \u001b[0mscores\u001b[0m\u001b[0;34m(\u001b[0m\u001b[0;34m'Random Forest'\u001b[0m\u001b[0;34m,\u001b[0m \u001b[0my_test\u001b[0m\u001b[0;34m,\u001b[0m \u001b[0mpredicted_class\u001b[0m\u001b[0;34m)\u001b[0m \u001b[0;31m# store performance metrics to results df\u001b[0m\u001b[0;34m\u001b[0m\u001b[0;34m\u001b[0m\u001b[0m\n",
      "\u001b[0;31mNameError\u001b[0m: name 'RandomForestClassifier' is not defined"
     ]
    }
   ],
   "source": [
    "# Random Forest\n",
    "mod = RandomForestClassifier(random_state=1).fit(X_train, y_train) # train model\n",
    "predicted_class = mod.predict(X_test) # perform prediction\n",
    "\n",
    "results.loc[len(results)] = scores('Random Forest', y_test, predicted_class) # store performance metrics to results df\n",
    "\n",
    "# Plot important features\n",
    "feature_names = df_feat.columns\n",
    "importances = mod.feature_importances_\n",
    "std = np.std([tree.feature_importances_ for tree in mod.estimators_], axis=0)\n",
    "\n",
    "forest_importances = pd.Series(importances, index=feature_names)\n",
    "\n",
    "fig, ax = plt.subplots()\n",
    "forest_importances.plot.bar(yerr=std, ax=ax)\n",
    "ax.set_title(\"Feature importances using MDI\")\n",
    "ax.set_ylabel(\"Mean decrease in impurity\")\n",
    "fig.tight_layout()"
   ]
  },
  {
   "cell_type": "code",
   "execution_count": null,
   "metadata": {
    "id": "_9lWLVDyiU8d"
   },
   "outputs": [],
   "source": [
    "# GradientBoosting\n",
    "mod = GradientBoostingClassifier(random_state=1).fit(X_train, y_train) # train model\n",
    "predicted_class = mod.predict(X_test) # perform prediction\n",
    "\n",
    "results.loc[len(results)] = scores('Gradient Boosting', y_test, predicted_class) # store performance metrics to results df\n",
    "\n",
    "# Plot important features\n",
    "importances = mod.feature_importances_\n",
    "#std = np.std([tree.feature_importances_ for tree in mod.estimators_], axis=0)\n",
    "\n",
    "gbs_importances = pd.Series(importances, index=feature_names)\n",
    "\n",
    "fig, ax = plt.subplots()\n",
    "gbs_importances.plot.bar(yerr=std, ax=ax)\n",
    "ax.set_title(\"Feature importances using MDI\")\n",
    "ax.set_ylabel(\"Mean decrease in impurity\")\n",
    "fig.tight_layout()"
   ]
  },
  {
   "cell_type": "markdown",
   "metadata": {
    "id": "YvCQdc4tiXZO"
   },
   "source": [
    "Results"
   ]
  },
  {
   "cell_type": "code",
   "execution_count": null,
   "metadata": {
    "id": "YKjnoFBuiZJv"
   },
   "outputs": [],
   "source": [
    "# Output results of models\n",
    "display(results.round(4).style.hide(axis = 'index'))"
   ]
  },
  {
   "cell_type": "code",
   "execution_count": null,
   "metadata": {
    "id": "81Cc0GS3OBBX"
   },
   "outputs": [],
   "source": []
  },
  {
   "cell_type": "code",
   "execution_count": null,
   "metadata": {
    "id": "5fotaHhE90ny"
   },
   "outputs": [],
   "source": [
    "# Add Street Type column\n",
    "conditions = [df['Street'].str.contains('Ave|Avenue', case = False) == True, \n",
    "              df['Street'].str.contains('St|Street', case = False) == True,\n",
    "              df['Street'].str.contains('Rd|Road', case = False) == True,\n",
    "              df['Street'].str.contains('Blvd|Boulevard', case = False) == True,\n",
    "              df['Street'].str.contains('Pkwy|Parkway', case = False) == True,\n",
    "              df['Street'].str.contains('Dr|Drive', case = False) == True,\n",
    "              df['Street'].str.contains('I-|Interstate', case = False) == True,\n",
    "              df['Street'].str.contains('Expy|Exp|Expressway', case = False) == True,\n",
    "              df['Street'].str.contains('Route', case = False) == True,\n",
    "              df['Street'].str.contains('State', case = False) == True,\n",
    "              df['Street'].str.contains('NY', case = False) == True,\n",
    "              df['Street'].str.contains('Trwy|Throughway', case = False) == True,\n",
    "              df['Street'].str.contains('US', case = False) == True,\n",
    "              df['Street'].str.contains('Hwy|Highway|Wyck|9n', case = False) == True, \n",
    "              df['Street'].str.contains('Loop', case = False) == True,\n",
    "              df['Street'].str.contains('Bridge|Brg', case = False) == True, \n",
    "              df['Street'].str.contains('Cross', case = False) == True,\n",
    "              df['Street'].str.contains('Ext|Exit', case = False) == True,\n",
    "              df['Street'].str.contains('Broadway', case = False) == True,\n",
    "              df['Street'].str.contains('Place|Pl', case = False) == True,\n",
    "              df['Street'].str.contains('Bay|Shore', case = False) == True,\n",
    "              df['Street'].str.contains('city|main|way|line', case = False) == True,]\n",
    "choices = ['Ave', 'St', 'Rd', 'Blvd', 'Parkway', 'Dr', 'Interstate Highway', 'ExpressWay', 'Route', 'State', 'NY Highway', 'ThroughWay', 'US highway', 'Highway', 'Loop', 'Bridge', 'Cross', 'Exit', 'Broadway' ,'Place', 'Bay/shore', 'Random']\n",
    "df['street_type'] = np.select(conditions, choices, default=np.nan)\n",
    "df.groupby(['street_type'])['street_type'].count()"
   ]
  },
  {
   "cell_type": "code",
   "execution_count": null,
   "metadata": {
    "colab": {
     "base_uri": "https://localhost:8080/",
     "height": 175
    },
    "id": "6rKh_s_nKDxa",
    "outputId": "56886b88-0a31-457c-a55d-19138c9c2e6e"
   },
   "outputs": [
    {
     "data": {
      "text/html": [
       "\n",
       "  <div id=\"df-2a5d08e8-c03c-4966-ad6c-5611741458d6\">\n",
       "    <div class=\"colab-df-container\">\n",
       "      <div>\n",
       "<style scoped>\n",
       "    .dataframe tbody tr th:only-of-type {\n",
       "        vertical-align: middle;\n",
       "    }\n",
       "\n",
       "    .dataframe tbody tr th {\n",
       "        vertical-align: top;\n",
       "    }\n",
       "\n",
       "    .dataframe thead tr th {\n",
       "        text-align: left;\n",
       "    }\n",
       "\n",
       "    .dataframe thead tr:last-of-type th {\n",
       "        text-align: right;\n",
       "    }\n",
       "</style>\n",
       "<table border=\"1\" class=\"dataframe\">\n",
       "  <thead>\n",
       "    <tr>\n",
       "      <th></th>\n",
       "      <th colspan=\"2\" halign=\"left\">Precipitation</th>\n",
       "      <th colspan=\"2\" halign=\"left\">Pressure</th>\n",
       "      <th colspan=\"2\" halign=\"left\">Visibility</th>\n",
       "      <th colspan=\"2\" halign=\"left\">Wind_Chill</th>\n",
       "      <th colspan=\"2\" halign=\"left\">Humidity</th>\n",
       "      <th colspan=\"2\" halign=\"left\">Temperature</th>\n",
       "      <th colspan=\"2\" halign=\"left\">Wind_Speed</th>\n",
       "    </tr>\n",
       "    <tr>\n",
       "      <th></th>\n",
       "      <th>std</th>\n",
       "      <th>mean</th>\n",
       "      <th>std</th>\n",
       "      <th>mean</th>\n",
       "      <th>std</th>\n",
       "      <th>mean</th>\n",
       "      <th>std</th>\n",
       "      <th>mean</th>\n",
       "      <th>std</th>\n",
       "      <th>mean</th>\n",
       "      <th>std</th>\n",
       "      <th>mean</th>\n",
       "      <th>std</th>\n",
       "      <th>mean</th>\n",
       "    </tr>\n",
       "    <tr>\n",
       "      <th>Highway</th>\n",
       "      <th></th>\n",
       "      <th></th>\n",
       "      <th></th>\n",
       "      <th></th>\n",
       "      <th></th>\n",
       "      <th></th>\n",
       "      <th></th>\n",
       "      <th></th>\n",
       "      <th></th>\n",
       "      <th></th>\n",
       "      <th></th>\n",
       "      <th></th>\n",
       "      <th></th>\n",
       "      <th></th>\n",
       "    </tr>\n",
       "  </thead>\n",
       "  <tbody>\n",
       "    <tr>\n",
       "      <th>False</th>\n",
       "      <td>0.5732</td>\n",
       "      <td>0.1040</td>\n",
       "      <td>0.3629</td>\n",
       "      <td>29.6213</td>\n",
       "      <td>3.8623</td>\n",
       "      <td>14.9475</td>\n",
       "      <td>10.8286</td>\n",
       "      <td>10.3032</td>\n",
       "      <td>20.8040</td>\n",
       "      <td>64.4076</td>\n",
       "      <td>9.3659</td>\n",
       "      <td>11.6884</td>\n",
       "      <td>9.2810</td>\n",
       "      <td>14.5373</td>\n",
       "    </tr>\n",
       "    <tr>\n",
       "      <th>True</th>\n",
       "      <td>0.7684</td>\n",
       "      <td>0.1525</td>\n",
       "      <td>0.4024</td>\n",
       "      <td>29.7401</td>\n",
       "      <td>4.5582</td>\n",
       "      <td>14.2649</td>\n",
       "      <td>10.6296</td>\n",
       "      <td>9.8107</td>\n",
       "      <td>20.2837</td>\n",
       "      <td>67.2739</td>\n",
       "      <td>9.0651</td>\n",
       "      <td>11.2335</td>\n",
       "      <td>9.5282</td>\n",
       "      <td>14.6412</td>\n",
       "    </tr>\n",
       "  </tbody>\n",
       "</table>\n",
       "</div>\n",
       "      <button class=\"colab-df-convert\" onclick=\"convertToInteractive('df-2a5d08e8-c03c-4966-ad6c-5611741458d6')\"\n",
       "              title=\"Convert this dataframe to an interactive table.\"\n",
       "              style=\"display:none;\">\n",
       "        \n",
       "  <svg xmlns=\"http://www.w3.org/2000/svg\" height=\"24px\"viewBox=\"0 0 24 24\"\n",
       "       width=\"24px\">\n",
       "    <path d=\"M0 0h24v24H0V0z\" fill=\"none\"/>\n",
       "    <path d=\"M18.56 5.44l.94 2.06.94-2.06 2.06-.94-2.06-.94-.94-2.06-.94 2.06-2.06.94zm-11 1L8.5 8.5l.94-2.06 2.06-.94-2.06-.94L8.5 2.5l-.94 2.06-2.06.94zm10 10l.94 2.06.94-2.06 2.06-.94-2.06-.94-.94-2.06-.94 2.06-2.06.94z\"/><path d=\"M17.41 7.96l-1.37-1.37c-.4-.4-.92-.59-1.43-.59-.52 0-1.04.2-1.43.59L10.3 9.45l-7.72 7.72c-.78.78-.78 2.05 0 2.83L4 21.41c.39.39.9.59 1.41.59.51 0 1.02-.2 1.41-.59l7.78-7.78 2.81-2.81c.8-.78.8-2.07 0-2.86zM5.41 20L4 18.59l7.72-7.72 1.47 1.35L5.41 20z\"/>\n",
       "  </svg>\n",
       "      </button>\n",
       "      \n",
       "  <style>\n",
       "    .colab-df-container {\n",
       "      display:flex;\n",
       "      flex-wrap:wrap;\n",
       "      gap: 12px;\n",
       "    }\n",
       "\n",
       "    .colab-df-convert {\n",
       "      background-color: #E8F0FE;\n",
       "      border: none;\n",
       "      border-radius: 50%;\n",
       "      cursor: pointer;\n",
       "      display: none;\n",
       "      fill: #1967D2;\n",
       "      height: 32px;\n",
       "      padding: 0 0 0 0;\n",
       "      width: 32px;\n",
       "    }\n",
       "\n",
       "    .colab-df-convert:hover {\n",
       "      background-color: #E2EBFA;\n",
       "      box-shadow: 0px 1px 2px rgba(60, 64, 67, 0.3), 0px 1px 3px 1px rgba(60, 64, 67, 0.15);\n",
       "      fill: #174EA6;\n",
       "    }\n",
       "\n",
       "    [theme=dark] .colab-df-convert {\n",
       "      background-color: #3B4455;\n",
       "      fill: #D2E3FC;\n",
       "    }\n",
       "\n",
       "    [theme=dark] .colab-df-convert:hover {\n",
       "      background-color: #434B5C;\n",
       "      box-shadow: 0px 1px 3px 1px rgba(0, 0, 0, 0.15);\n",
       "      filter: drop-shadow(0px 1px 2px rgba(0, 0, 0, 0.3));\n",
       "      fill: #FFFFFF;\n",
       "    }\n",
       "  </style>\n",
       "\n",
       "      <script>\n",
       "        const buttonEl =\n",
       "          document.querySelector('#df-2a5d08e8-c03c-4966-ad6c-5611741458d6 button.colab-df-convert');\n",
       "        buttonEl.style.display =\n",
       "          google.colab.kernel.accessAllowed ? 'block' : 'none';\n",
       "\n",
       "        async function convertToInteractive(key) {\n",
       "          const element = document.querySelector('#df-2a5d08e8-c03c-4966-ad6c-5611741458d6');\n",
       "          const dataTable =\n",
       "            await google.colab.kernel.invokeFunction('convertToInteractive',\n",
       "                                                     [key], {});\n",
       "          if (!dataTable) return;\n",
       "\n",
       "          const docLinkHtml = 'Like what you see? Visit the ' +\n",
       "            '<a target=\"_blank\" href=https://colab.research.google.com/notebooks/data_table.ipynb>data table notebook</a>'\n",
       "            + ' to learn more about interactive tables.';\n",
       "          element.innerHTML = '';\n",
       "          dataTable['output_type'] = 'display_data';\n",
       "          await google.colab.output.renderOutput(dataTable, element);\n",
       "          const docLink = document.createElement('div');\n",
       "          docLink.innerHTML = docLinkHtml;\n",
       "          element.appendChild(docLink);\n",
       "        }\n",
       "      </script>\n",
       "    </div>\n",
       "  </div>\n",
       "  "
      ],
      "text/plain": [
       "        Precipitation         Pressure          Visibility           \\\n",
       "                  std    mean      std     mean        std     mean   \n",
       "Highway                                                               \n",
       "False          0.5732  0.1040   0.3629  29.6213     3.8623  14.9475   \n",
       "True           0.7684  0.1525   0.4024  29.7401     4.5582  14.2649   \n",
       "\n",
       "        Wind_Chill          Humidity          Temperature          Wind_Speed  \\\n",
       "               std     mean      std     mean         std     mean        std   \n",
       "Highway                                                                         \n",
       "False      10.8286  10.3032  20.8040  64.4076      9.3659  11.6884     9.2810   \n",
       "True       10.6296   9.8107  20.2837  67.2739      9.0651  11.2335     9.5282   \n",
       "\n",
       "                  \n",
       "            mean  \n",
       "Highway           \n",
       "False    14.5373  \n",
       "True     14.6412  "
      ]
     },
     "execution_count": 12,
     "metadata": {},
     "output_type": "execute_result"
    }
   ],
   "source": [
    "df_stats = df.groupby(['Highway']).agg({'Precipitation':{'mean','std'},'Pressure':{'mean','std'},'Visibility':{'mean','std'}, 'Wind_Chill':{'mean','std'}, 'Humidity':{'mean','std'}, 'Temperature':{'mean','std'}, 'Wind_Speed':{'mean','std'}})\n",
    "df_stats\n"
   ]
  },
  {
   "cell_type": "code",
   "execution_count": null,
   "metadata": {
    "colab": {
     "base_uri": "https://localhost:8080/",
     "height": 175
    },
    "id": "LVzI5-sMDLjZ",
    "outputId": "f6158737-d274-4d02-cd7f-d02aec998d3b"
   },
   "outputs": [
    {
     "data": {
      "text/html": [
       "\n",
       "  <div id=\"df-b88a34fc-3316-4bf7-a146-234ceac9975d\">\n",
       "    <div class=\"colab-df-container\">\n",
       "      <div>\n",
       "<style scoped>\n",
       "    .dataframe tbody tr th:only-of-type {\n",
       "        vertical-align: middle;\n",
       "    }\n",
       "\n",
       "    .dataframe tbody tr th {\n",
       "        vertical-align: top;\n",
       "    }\n",
       "\n",
       "    .dataframe thead tr th {\n",
       "        text-align: left;\n",
       "    }\n",
       "\n",
       "    .dataframe thead tr:last-of-type th {\n",
       "        text-align: right;\n",
       "    }\n",
       "</style>\n",
       "<table border=\"1\" class=\"dataframe\">\n",
       "  <thead>\n",
       "    <tr>\n",
       "      <th></th>\n",
       "      <th colspan=\"3\" halign=\"left\">Distance</th>\n",
       "    </tr>\n",
       "    <tr>\n",
       "      <th></th>\n",
       "      <th>std</th>\n",
       "      <th>mean</th>\n",
       "      <th>count</th>\n",
       "    </tr>\n",
       "    <tr>\n",
       "      <th>Highway</th>\n",
       "      <th></th>\n",
       "      <th></th>\n",
       "      <th></th>\n",
       "    </tr>\n",
       "  </thead>\n",
       "  <tbody>\n",
       "    <tr>\n",
       "      <th>False</th>\n",
       "      <td>1.0535</td>\n",
       "      <td>0.3014</td>\n",
       "      <td>13981</td>\n",
       "    </tr>\n",
       "    <tr>\n",
       "      <th>True</th>\n",
       "      <td>1.7793</td>\n",
       "      <td>0.8682</td>\n",
       "      <td>22798</td>\n",
       "    </tr>\n",
       "  </tbody>\n",
       "</table>\n",
       "</div>\n",
       "      <button class=\"colab-df-convert\" onclick=\"convertToInteractive('df-b88a34fc-3316-4bf7-a146-234ceac9975d')\"\n",
       "              title=\"Convert this dataframe to an interactive table.\"\n",
       "              style=\"display:none;\">\n",
       "        \n",
       "  <svg xmlns=\"http://www.w3.org/2000/svg\" height=\"24px\"viewBox=\"0 0 24 24\"\n",
       "       width=\"24px\">\n",
       "    <path d=\"M0 0h24v24H0V0z\" fill=\"none\"/>\n",
       "    <path d=\"M18.56 5.44l.94 2.06.94-2.06 2.06-.94-2.06-.94-.94-2.06-.94 2.06-2.06.94zm-11 1L8.5 8.5l.94-2.06 2.06-.94-2.06-.94L8.5 2.5l-.94 2.06-2.06.94zm10 10l.94 2.06.94-2.06 2.06-.94-2.06-.94-.94-2.06-.94 2.06-2.06.94z\"/><path d=\"M17.41 7.96l-1.37-1.37c-.4-.4-.92-.59-1.43-.59-.52 0-1.04.2-1.43.59L10.3 9.45l-7.72 7.72c-.78.78-.78 2.05 0 2.83L4 21.41c.39.39.9.59 1.41.59.51 0 1.02-.2 1.41-.59l7.78-7.78 2.81-2.81c.8-.78.8-2.07 0-2.86zM5.41 20L4 18.59l7.72-7.72 1.47 1.35L5.41 20z\"/>\n",
       "  </svg>\n",
       "      </button>\n",
       "      \n",
       "  <style>\n",
       "    .colab-df-container {\n",
       "      display:flex;\n",
       "      flex-wrap:wrap;\n",
       "      gap: 12px;\n",
       "    }\n",
       "\n",
       "    .colab-df-convert {\n",
       "      background-color: #E8F0FE;\n",
       "      border: none;\n",
       "      border-radius: 50%;\n",
       "      cursor: pointer;\n",
       "      display: none;\n",
       "      fill: #1967D2;\n",
       "      height: 32px;\n",
       "      padding: 0 0 0 0;\n",
       "      width: 32px;\n",
       "    }\n",
       "\n",
       "    .colab-df-convert:hover {\n",
       "      background-color: #E2EBFA;\n",
       "      box-shadow: 0px 1px 2px rgba(60, 64, 67, 0.3), 0px 1px 3px 1px rgba(60, 64, 67, 0.15);\n",
       "      fill: #174EA6;\n",
       "    }\n",
       "\n",
       "    [theme=dark] .colab-df-convert {\n",
       "      background-color: #3B4455;\n",
       "      fill: #D2E3FC;\n",
       "    }\n",
       "\n",
       "    [theme=dark] .colab-df-convert:hover {\n",
       "      background-color: #434B5C;\n",
       "      box-shadow: 0px 1px 3px 1px rgba(0, 0, 0, 0.15);\n",
       "      filter: drop-shadow(0px 1px 2px rgba(0, 0, 0, 0.3));\n",
       "      fill: #FFFFFF;\n",
       "    }\n",
       "  </style>\n",
       "\n",
       "      <script>\n",
       "        const buttonEl =\n",
       "          document.querySelector('#df-b88a34fc-3316-4bf7-a146-234ceac9975d button.colab-df-convert');\n",
       "        buttonEl.style.display =\n",
       "          google.colab.kernel.accessAllowed ? 'block' : 'none';\n",
       "\n",
       "        async function convertToInteractive(key) {\n",
       "          const element = document.querySelector('#df-b88a34fc-3316-4bf7-a146-234ceac9975d');\n",
       "          const dataTable =\n",
       "            await google.colab.kernel.invokeFunction('convertToInteractive',\n",
       "                                                     [key], {});\n",
       "          if (!dataTable) return;\n",
       "\n",
       "          const docLinkHtml = 'Like what you see? Visit the ' +\n",
       "            '<a target=\"_blank\" href=https://colab.research.google.com/notebooks/data_table.ipynb>data table notebook</a>'\n",
       "            + ' to learn more about interactive tables.';\n",
       "          element.innerHTML = '';\n",
       "          dataTable['output_type'] = 'display_data';\n",
       "          await google.colab.output.renderOutput(dataTable, element);\n",
       "          const docLink = document.createElement('div');\n",
       "          docLink.innerHTML = docLinkHtml;\n",
       "          element.appendChild(docLink);\n",
       "        }\n",
       "      </script>\n",
       "    </div>\n",
       "  </div>\n",
       "  "
      ],
      "text/plain": [
       "        Distance               \n",
       "             std    mean  count\n",
       "Highway                        \n",
       "False     1.0535  0.3014  13981\n",
       "True      1.7793  0.8682  22798"
      ]
     },
     "execution_count": 11,
     "metadata": {},
     "output_type": "execute_result"
    }
   ],
   "source": [
    "df_stats2 = df.groupby(['Highway']).agg({'Distance':{'count','mean','std'}})\n",
    "df_stats2"
   ]
  },
  {
   "cell_type": "code",
   "execution_count": null,
   "metadata": {
    "colab": {
     "base_uri": "https://localhost:8080/",
     "height": 796
    },
    "id": "1V77PUnLKRX-",
    "outputId": "7108077a-7971-4e6d-95c5-1f964fd021df"
   },
   "outputs": [
    {
     "ename": "ValueError",
     "evalue": "ignored",
     "output_type": "error",
     "traceback": [
      "\u001b[0;31m---------------------------------------------------------------------------\u001b[0m",
      "\u001b[0;31mValueError\u001b[0m                                Traceback (most recent call last)",
      "\u001b[0;32m<ipython-input-5-8673b839108d>\u001b[0m in \u001b[0;36m<module>\u001b[0;34m\u001b[0m\n\u001b[1;32m      3\u001b[0m \u001b[0mfig\u001b[0m\u001b[0;34m.\u001b[0m\u001b[0mset_figheight\u001b[0m\u001b[0;34m(\u001b[0m\u001b[0;36m7\u001b[0m\u001b[0;34m)\u001b[0m\u001b[0;34m\u001b[0m\u001b[0;34m\u001b[0m\u001b[0m\n\u001b[1;32m      4\u001b[0m \u001b[0mfig\u001b[0m\u001b[0;34m.\u001b[0m\u001b[0mset_figwidth\u001b[0m\u001b[0;34m(\u001b[0m\u001b[0;36m9\u001b[0m\u001b[0;34m)\u001b[0m\u001b[0;34m\u001b[0m\u001b[0;34m\u001b[0m\u001b[0m\n\u001b[0;32m----> 5\u001b[0;31m \u001b[0msns\u001b[0m\u001b[0;34m.\u001b[0m\u001b[0mboxplot\u001b[0m\u001b[0;34m(\u001b[0m\u001b[0max\u001b[0m \u001b[0;34m=\u001b[0m \u001b[0max\u001b[0m\u001b[0;34m[\u001b[0m\u001b[0;36m0\u001b[0m\u001b[0;34m,\u001b[0m \u001b[0;36m0\u001b[0m\u001b[0;34m]\u001b[0m\u001b[0;34m,\u001b[0m \u001b[0mx\u001b[0m\u001b[0;34m=\u001b[0m\u001b[0;34m'Highway'\u001b[0m\u001b[0;34m,\u001b[0m\u001b[0my\u001b[0m\u001b[0;34m=\u001b[0m\u001b[0;34m'Temperature'\u001b[0m\u001b[0;34m,\u001b[0m \u001b[0mdata\u001b[0m\u001b[0;34m=\u001b[0m\u001b[0mdf\u001b[0m\u001b[0;34m,\u001b[0m \u001b[0mpalette\u001b[0m\u001b[0;34m=\u001b[0m\u001b[0;34m'mako'\u001b[0m\u001b[0;34m)\u001b[0m\u001b[0;34m\u001b[0m\u001b[0;34m\u001b[0m\u001b[0m\n\u001b[0m\u001b[1;32m      6\u001b[0m \u001b[0msns\u001b[0m\u001b[0;34m.\u001b[0m\u001b[0mboxplot\u001b[0m\u001b[0;34m(\u001b[0m\u001b[0max\u001b[0m\u001b[0;34m=\u001b[0m\u001b[0max\u001b[0m\u001b[0;34m[\u001b[0m\u001b[0;36m0\u001b[0m\u001b[0;34m,\u001b[0m \u001b[0;36m1\u001b[0m\u001b[0;34m]\u001b[0m\u001b[0;34m,\u001b[0m \u001b[0mx\u001b[0m\u001b[0;34m=\u001b[0m\u001b[0;34m'Highway'\u001b[0m\u001b[0;34m,\u001b[0m\u001b[0my\u001b[0m\u001b[0;34m=\u001b[0m\u001b[0;34m'Wind_Chill'\u001b[0m\u001b[0;34m,\u001b[0m \u001b[0mdata\u001b[0m\u001b[0;34m=\u001b[0m\u001b[0mdf\u001b[0m\u001b[0;34m,\u001b[0m \u001b[0mpalette\u001b[0m\u001b[0;34m=\u001b[0m\u001b[0;34m'mako'\u001b[0m\u001b[0;34m)\u001b[0m\u001b[0;34m\u001b[0m\u001b[0;34m\u001b[0m\u001b[0m\n\u001b[1;32m      7\u001b[0m \u001b[0msns\u001b[0m\u001b[0;34m.\u001b[0m\u001b[0mboxplot\u001b[0m\u001b[0;34m(\u001b[0m\u001b[0max\u001b[0m\u001b[0;34m=\u001b[0m \u001b[0max\u001b[0m\u001b[0;34m[\u001b[0m\u001b[0;36m0\u001b[0m\u001b[0;34m,\u001b[0m \u001b[0;36m2\u001b[0m\u001b[0;34m]\u001b[0m\u001b[0;34m,\u001b[0m \u001b[0mx\u001b[0m\u001b[0;34m=\u001b[0m\u001b[0;34m'Highway'\u001b[0m\u001b[0;34m,\u001b[0m\u001b[0my\u001b[0m\u001b[0;34m=\u001b[0m\u001b[0;34m'Humidity'\u001b[0m\u001b[0;34m,\u001b[0m \u001b[0mdata\u001b[0m\u001b[0;34m=\u001b[0m\u001b[0mdf\u001b[0m\u001b[0;34m,\u001b[0m \u001b[0mpalette\u001b[0m\u001b[0;34m=\u001b[0m\u001b[0;34m'mako'\u001b[0m\u001b[0;34m)\u001b[0m\u001b[0;34m\u001b[0m\u001b[0;34m\u001b[0m\u001b[0m\n",
      "\u001b[0;32m/usr/local/lib/python3.7/dist-packages/seaborn/_decorators.py\u001b[0m in \u001b[0;36minner_f\u001b[0;34m(*args, **kwargs)\u001b[0m\n\u001b[1;32m     44\u001b[0m             )\n\u001b[1;32m     45\u001b[0m         \u001b[0mkwargs\u001b[0m\u001b[0;34m.\u001b[0m\u001b[0mupdate\u001b[0m\u001b[0;34m(\u001b[0m\u001b[0;34m{\u001b[0m\u001b[0mk\u001b[0m\u001b[0;34m:\u001b[0m \u001b[0marg\u001b[0m \u001b[0;32mfor\u001b[0m \u001b[0mk\u001b[0m\u001b[0;34m,\u001b[0m \u001b[0marg\u001b[0m \u001b[0;32min\u001b[0m \u001b[0mzip\u001b[0m\u001b[0;34m(\u001b[0m\u001b[0msig\u001b[0m\u001b[0;34m.\u001b[0m\u001b[0mparameters\u001b[0m\u001b[0;34m,\u001b[0m \u001b[0margs\u001b[0m\u001b[0;34m)\u001b[0m\u001b[0;34m}\u001b[0m\u001b[0;34m)\u001b[0m\u001b[0;34m\u001b[0m\u001b[0;34m\u001b[0m\u001b[0m\n\u001b[0;32m---> 46\u001b[0;31m         \u001b[0;32mreturn\u001b[0m \u001b[0mf\u001b[0m\u001b[0;34m(\u001b[0m\u001b[0;34m**\u001b[0m\u001b[0mkwargs\u001b[0m\u001b[0;34m)\u001b[0m\u001b[0;34m\u001b[0m\u001b[0;34m\u001b[0m\u001b[0m\n\u001b[0m\u001b[1;32m     47\u001b[0m     \u001b[0;32mreturn\u001b[0m \u001b[0minner_f\u001b[0m\u001b[0;34m\u001b[0m\u001b[0;34m\u001b[0m\u001b[0m\n\u001b[1;32m     48\u001b[0m \u001b[0;34m\u001b[0m\u001b[0m\n",
      "\u001b[0;32m/usr/local/lib/python3.7/dist-packages/seaborn/categorical.py\u001b[0m in \u001b[0;36mboxplot\u001b[0;34m(x, y, hue, data, order, hue_order, orient, color, palette, saturation, width, dodge, fliersize, linewidth, whis, ax, **kwargs)\u001b[0m\n\u001b[1;32m   2243\u001b[0m     plotter = _BoxPlotter(x, y, hue, data, order, hue_order,\n\u001b[1;32m   2244\u001b[0m                           \u001b[0morient\u001b[0m\u001b[0;34m,\u001b[0m \u001b[0mcolor\u001b[0m\u001b[0;34m,\u001b[0m \u001b[0mpalette\u001b[0m\u001b[0;34m,\u001b[0m \u001b[0msaturation\u001b[0m\u001b[0;34m,\u001b[0m\u001b[0;34m\u001b[0m\u001b[0;34m\u001b[0m\u001b[0m\n\u001b[0;32m-> 2245\u001b[0;31m                           width, dodge, fliersize, linewidth)\n\u001b[0m\u001b[1;32m   2246\u001b[0m \u001b[0;34m\u001b[0m\u001b[0m\n\u001b[1;32m   2247\u001b[0m     \u001b[0;32mif\u001b[0m \u001b[0max\u001b[0m \u001b[0;32mis\u001b[0m \u001b[0;32mNone\u001b[0m\u001b[0;34m:\u001b[0m\u001b[0;34m\u001b[0m\u001b[0;34m\u001b[0m\u001b[0m\n",
      "\u001b[0;32m/usr/local/lib/python3.7/dist-packages/seaborn/categorical.py\u001b[0m in \u001b[0;36m__init__\u001b[0;34m(self, x, y, hue, data, order, hue_order, orient, color, palette, saturation, width, dodge, fliersize, linewidth)\u001b[0m\n\u001b[1;32m    404\u001b[0m                  width, dodge, fliersize, linewidth):\n\u001b[1;32m    405\u001b[0m \u001b[0;34m\u001b[0m\u001b[0m\n\u001b[0;32m--> 406\u001b[0;31m         \u001b[0mself\u001b[0m\u001b[0;34m.\u001b[0m\u001b[0mestablish_variables\u001b[0m\u001b[0;34m(\u001b[0m\u001b[0mx\u001b[0m\u001b[0;34m,\u001b[0m \u001b[0my\u001b[0m\u001b[0;34m,\u001b[0m \u001b[0mhue\u001b[0m\u001b[0;34m,\u001b[0m \u001b[0mdata\u001b[0m\u001b[0;34m,\u001b[0m \u001b[0morient\u001b[0m\u001b[0;34m,\u001b[0m \u001b[0morder\u001b[0m\u001b[0;34m,\u001b[0m \u001b[0mhue_order\u001b[0m\u001b[0;34m)\u001b[0m\u001b[0;34m\u001b[0m\u001b[0;34m\u001b[0m\u001b[0m\n\u001b[0m\u001b[1;32m    407\u001b[0m         \u001b[0mself\u001b[0m\u001b[0;34m.\u001b[0m\u001b[0mestablish_colors\u001b[0m\u001b[0;34m(\u001b[0m\u001b[0mcolor\u001b[0m\u001b[0;34m,\u001b[0m \u001b[0mpalette\u001b[0m\u001b[0;34m,\u001b[0m \u001b[0msaturation\u001b[0m\u001b[0;34m)\u001b[0m\u001b[0;34m\u001b[0m\u001b[0;34m\u001b[0m\u001b[0m\n\u001b[1;32m    408\u001b[0m \u001b[0;34m\u001b[0m\u001b[0m\n",
      "\u001b[0;32m/usr/local/lib/python3.7/dist-packages/seaborn/categorical.py\u001b[0m in \u001b[0;36mestablish_variables\u001b[0;34m(self, x, y, hue, data, orient, order, hue_order, units)\u001b[0m\n\u001b[1;32m    151\u001b[0m                 \u001b[0;32mif\u001b[0m \u001b[0misinstance\u001b[0m\u001b[0;34m(\u001b[0m\u001b[0mvar\u001b[0m\u001b[0;34m,\u001b[0m \u001b[0mstr\u001b[0m\u001b[0;34m)\u001b[0m\u001b[0;34m:\u001b[0m\u001b[0;34m\u001b[0m\u001b[0;34m\u001b[0m\u001b[0m\n\u001b[1;32m    152\u001b[0m                     \u001b[0merr\u001b[0m \u001b[0;34m=\u001b[0m \u001b[0;34m\"Could not interpret input '{}'\"\u001b[0m\u001b[0;34m.\u001b[0m\u001b[0mformat\u001b[0m\u001b[0;34m(\u001b[0m\u001b[0mvar\u001b[0m\u001b[0;34m)\u001b[0m\u001b[0;34m\u001b[0m\u001b[0;34m\u001b[0m\u001b[0m\n\u001b[0;32m--> 153\u001b[0;31m                     \u001b[0;32mraise\u001b[0m \u001b[0mValueError\u001b[0m\u001b[0;34m(\u001b[0m\u001b[0merr\u001b[0m\u001b[0;34m)\u001b[0m\u001b[0;34m\u001b[0m\u001b[0;34m\u001b[0m\u001b[0m\n\u001b[0m\u001b[1;32m    154\u001b[0m \u001b[0;34m\u001b[0m\u001b[0m\n\u001b[1;32m    155\u001b[0m             \u001b[0;31m# Figure out the plotting orientation\u001b[0m\u001b[0;34m\u001b[0m\u001b[0;34m\u001b[0m\u001b[0;34m\u001b[0m\u001b[0m\n",
      "\u001b[0;31mValueError\u001b[0m: Could not interpret input 'Highway'"
     ]
    },
    {
     "data": {
      "image/png": "[encoded data removed]",
      "text/plain": [
       "<Figure size 648x504 with 9 Axes>"
      ]
     },
     "metadata": {
      "needs_background": "light"
     },
     "output_type": "display_data"
    }
   ],
   "source": [
    "# Boxplot each variable\n",
    "fig, ax = plt.subplots(3, 3)\n",
    "fig.set_figheight(7)\n",
    "fig.set_figwidth(9)\n",
    "sns.boxplot(ax = ax[0, 0], x='Highway',y='Temperature', data=df, palette='mako')\n",
    "sns.boxplot(ax=ax[0, 1], x='Highway',y='Wind_Chill', data=df, palette='mako')\n",
    "sns.boxplot(ax= ax[0, 2], x='Highway',y='Humidity', data=df, palette='mako')\n",
    "sns.boxplot(ax = ax[1, 0], x='Highway',y='Pressure', data=df, palette='mako')\n",
    "sns.boxplot(ax = ax[1, 1], x='Highway',y='Visibility', data=df, palette='mako')\n",
    "sns.boxplot(ax = ax[1, 2], x='Highway',y='Wind_Speed', data=df, palette='mako')\n",
    "sns.boxplot(ax = ax[2, 0], x='Highway',y='Precipitation', data=df, palette='mako')\n",
    "sns.boxplot(ax = ax[2, 1], x='Highway',y='Distance', data=df, palette='mako')\n",
    "fig.delaxes(ax[2][2])\n",
    "plt.setp(ax, xticks=[0, 1], xticklabels=['True', 'False'])\n",
    "fig.tight_layout()\n",
    "\n",
    "## Find correlations Road Type\n",
    "plt.figure(figsize=(15,10))\n",
    "sns.heatmap(df[['Severity','Temperature', 'Humidity', 'Pressure', 'Visibility','Precipitation','Weather_Condition','Highway']].corr(), cmap='mako', annot=True)\n",
    "plt.show()\n",
    "\n"
   ]
  },
  {
   "cell_type": "code",
   "execution_count": null,
   "metadata": {
    "colab": {
     "base_uri": "https://localhost:8080/"
    },
    "id": "4gGJPvTW8sFU",
    "outputId": "f825a785-8481-4883-e5aa-a978a4fd64ae"
   },
   "outputs": [
    {
     "name": "stdout",
     "output_type": "stream",
     "text": [
      "ttest means of Precipitation vs. Road type\n",
      "test statistic t = 6.4366; p-value = 0.000000\n",
      "ttest means of Pressure vs. Road type\n",
      "test statistic t = 28.5150; p-value = 0.000000\n",
      "ttest means of Visibility vs. Road type\n",
      "test statistic t = -14.7529; p-value = 0.000000\n",
      "ttest means of Distance vs. Road type\n",
      "test statistic t = 34.1701; p-value = 0.000000\n",
      "ttest means of Wind_Speed vs. Road type\n",
      "test statistic t = 1.0247; p-value = 0.305518\n",
      "ttest means of Wind_Chill vs. Road type\n",
      "test statistic t = -4.2822; p-value = 0.000019\n",
      "ttest means of Humidity vs. Road type\n",
      "test statistic t = 13.0273; p-value = 0.000000\n",
      "ttest means of Temperature vs. Road type\n",
      "test statistic t = -4.6128; p-value = 0.000004\n"
     ]
    }
   ],
   "source": [
    "from scipy import stats\n",
    "#ttest means of Precipitation vs. Road type\n",
    "print(\"ttest means of Precipitation vs. Road type\")\n",
    "stat, p = stats.ttest_ind(df['Precipitation'][df['Highway']==True], df['Precipitation'][df['Highway']==False], equal_var=True)\n",
    "print(\"test statistic t = {:.4f}; p-value = {:.6f}\".format(stat, p))\n",
    "\n",
    "#ttest means of Pressure vs. Road type\n",
    "print(\"ttest means of Pressure vs. Road type\")\n",
    "stat, p = stats.ttest_ind(df['Pressure'][df['Highway']==True], df['Pressure'][df['Highway']==False], equal_var=True)\n",
    "print(\"test statistic t = {:.4f}; p-value = {:.6f}\".format(stat, p))\n",
    "\n",
    "#ttest means of Visibility vs. Road type\n",
    "print(\"ttest means of Visibility vs. Road type\")\n",
    "stat, p = stats.ttest_ind(df['Visibility'][df['Highway']==True], df['Visibility'][df['Highway']==False], equal_var=True)\n",
    "print(\"test statistic t = {:.4f}; p-value = {:.6f}\".format(stat, p))\n",
    "\n",
    "#ttest means of Distance vs. Road type\n",
    "print(\"ttest means of Distance vs. Road type\")\n",
    "stat, p = stats.ttest_ind(df['Distance'][df['Highway']==True], df['Distance'][df['Highway']==False], equal_var=True)\n",
    "print(\"test statistic t = {:.4f}; p-value = {:.6f}\".format(stat, p))\n",
    "\n",
    "#ttest means of Wind_Speed vs. Road type\n",
    "print(\"ttest means of Wind_Speed vs. Road type\")\n",
    "stat, p = stats.ttest_ind(df['Wind_Speed'][df['Highway']==True], df['Wind_Speed'][df['Highway']==False], equal_var=True)\n",
    "print(\"test statistic t = {:.4f}; p-value = {:.6f}\".format(stat, p))\n",
    "\n",
    "#ttest means of Wind_Chill vs. Road type\n",
    "print(\"ttest means of Wind_Chill vs. Road type\")\n",
    "stat, p = stats.ttest_ind(df['Wind_Chill'][df['Highway']==True], df['Wind_Chill'][df['Highway']==False], equal_var=True)\n",
    "print(\"test statistic t = {:.4f}; p-value = {:.6f}\".format(stat, p))\n",
    "\n",
    "#ttest means of Humidity vs. Road type\n",
    "print(\"ttest means of Humidity vs. Road type\")\n",
    "stat, p = stats.ttest_ind(df['Humidity'][df['Highway']==True], df['Humidity'][df['Highway']==False], equal_var=True)\n",
    "print(\"test statistic t = {:.4f}; p-value = {:.6f}\".format(stat, p))\n",
    "\n",
    "#ttest means of Temperature vs. Road type\n",
    "print(\"ttest means of Temperature vs. Road type\")\n",
    "stat, p = stats.ttest_ind(df['Temperature'][df['Highway']==True], df['Temperature'][df['Highway']==False], equal_var=True)\n",
    "print(\"test statistic t = {:.4f}; p-value = {:.6f}\".format(stat, p))"
   ]
  },
  {
   "cell_type": "code",
   "execution_count": null,
   "metadata": {
    "id": "TZZVUFPv-QGf"
   },
   "outputs": [],
   "source": []
  }
 ],
 "metadata": {
  "accelerator": "GPU",
  "colab": {
   "collapsed_sections": [],
   "provenance": []
  },
  "gpuClass": "standard",
  "kernelspec": {
   "display_name": "Python 3 (ipykernel)",
   "language": "python",
   "name": "python3"
  },
  "language_info": {
   "codemirror_mode": {
    "name": "ipython",
    "version": 3
   },
   "file_extension": ".py",
   "mimetype": "text/x-python",
   "name": "python",
   "nbconvert_exporter": "python",
   "pygments_lexer": "ipython3",
   "version": "3.9.13"
  }
 },
 "nbformat": 4,
 "nbformat_minor": 1
}
